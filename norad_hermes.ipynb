{
 "cells": [
  {
   "cell_type": "code",
   "execution_count": 1,
   "id": "660e4ee0-1fe1-40a4-894c-f8eddc8848f0",
   "metadata": {},
   "outputs": [],
   "source": [
    "from sgp4.api import Satrec\n",
    "from astropy.coordinates import *\n",
    "from astropy import units as u\n",
    "from astropy.time import Time\n",
    "import numpy as np  \n",
    "import matplotlib.pyplot as plt\n",
    "\n",
    "from pathlib import Path\n",
    "import sys"
   ]
  },
  {
   "cell_type": "markdown",
   "id": "ae6d855a-5e1d-4b5b-ac77-032d5c132db2",
   "metadata": {},
   "source": [
    "Reading NORAD TLE"
   ]
  },
  {
   "cell_type": "code",
   "execution_count": 2,
   "id": "6dff0899-e729-4a63-9136-2db978379742",
   "metadata": {},
   "outputs": [],
   "source": [
    "def parse_tle_file(file_content):\n",
    "    lines = file_content.strip().split('\\n')\n",
    "    result = {}\n",
    "    i = 0\n",
    "    while i < len(lines):\n",
    "        line = lines[i].strip()\n",
    "        if \"OBJECT\" in line:\n",
    "            object_name = line.strip()\n",
    "            if i + 2 < len(lines):\n",
    "                line1 = lines[i + 1].strip()\n",
    "                line2 = lines[i + 2].strip()\n",
    "                result[object_name] = (line1, line2)\n",
    "                i += 3\n",
    "            else:\n",
    "                break\n",
    "        else:\n",
    "            i += 1\n",
    "    \n",
    "    return result\n",
    "\n",
    "FILEPATH = Path(\"/Users/peppedilillo/Desktop/tle_check/norad.txt\")\n",
    "with open(FILEPATH, 'r') as file:\n",
    "    content = file.read()\n",
    "\n",
    "tle_data = parse_tle_file(content)"
   ]
  },
  {
   "cell_type": "markdown",
   "id": "9e36ec4c-9da0-4249-b478-4fcb829002a5",
   "metadata": {},
   "source": [
    "Propagating NORAD TLE:"
   ]
  },
  {
   "cell_type": "code",
   "execution_count": 3,
   "id": "c8a273f1-9f41-4ddb-9fd2-baa8c935a697",
   "metadata": {},
   "outputs": [],
   "source": [
    "tref = Time(\"2025-03-28 20:54:50\", format='iso')\n",
    "\n",
    "propagated = {}\n",
    "for satname in tle_data:\n",
    "    sat = Satrec.twoline2rv(*tle_data[satname])\n",
    "    _, r, v = sat.sgp4(tref.jd1, tref.jd2)\n",
    "    propagated[satname] = (np.array(r), np.array(v))"
   ]
  },
  {
   "cell_type": "markdown",
   "id": "daab6fca-e69b-48c8-934b-f3710e98c15e",
   "metadata": {},
   "source": [
    "Reading HERMES data"
   ]
  },
  {
   "cell_type": "code",
   "execution_count": 4,
   "id": "10f52f88-334e-4621-9798-8d5cfc8a882a",
   "metadata": {},
   "outputs": [],
   "source": [
    "H1 = (\n",
    "    np.array((-3264.3768, 219.0079, 5902.4429)), # km \n",
    "    np.array((-6.1285, 2.3917, -3.4702)), # km / s\n",
    ")\n",
    "\n",
    "H1_ERR = (\n",
    "    np.array((1157.8453, 450.0390, 676.9687)) / 1000, # km\n",
    "    np.array((0.7632, .0869, 1.3567)) / 1000, # km / s\n",
    ")\n",
    "\n",
    "H2 = (\n",
    "    np.array((-5756.2715, 1337.4833, 3359.0302)),\n",
    "    np.array((-3.3279, 1.9151, -6.4542)),\n",
    ")"
   ]
  },
  {
   "cell_type": "code",
   "execution_count": 5,
   "id": "d82db266-ec85-4f8d-961b-c28fc3432f13",
   "metadata": {},
   "outputs": [],
   "source": [
    "diffs = {}\n",
    "for satname in propagated:\n",
    "    dr_sigma = np.linalg.norm(H1[0] -  propagated[satname][0]) / np.linalg.norm(H1_ERR[0])\n",
    "    dv_sigma = np.linalg.norm(H1[1] -  propagated[satname][1]) / np.linalg.norm(H1_ERR[1])\n",
    "    diffs[satname] = (dr_sigma, dv_sigma)"
   ]
  },
  {
   "cell_type": "code",
   "execution_count": 6,
   "id": "b8e019e9-cde6-46ca-8d89-cbfba3bc3128",
   "metadata": {},
   "outputs": [
    {
     "data": {
      "image/png": "[encoded data removed]",
      "text/plain": [
       "<Figure size 640x480 with 1 Axes>"
      ]
     },
     "metadata": {},
     "output_type": "display_data"
    }
   ],
   "source": [
    "x, y = zip(*[(dr, dv) for dr, dv in diffs.values()])\n",
    "\n",
    "plt.scatter(x, y)\n",
    "plt.xlabel(\"dr [sigma]\")\n",
    "plt.ylabel(\"dv [sigma]\")\n",
    "plt.loglog()\n",
    "plt.show()"
   ]
  },
  {
   "cell_type": "code",
   "execution_count": null,
   "id": "652039b7-96e1-4702-9f3e-3fe933476d24",
   "metadata": {},
   "outputs": [],
   "source": []
  }
 ],
 "metadata": {
  "kernelspec": {
   "display_name": "Python 3 (ipykernel)",
   "language": "python",
   "name": "python3"
  },
  "language_info": {
   "codemirror_mode": {
    "name": "ipython",
    "version": 3
   },
   "file_extension": ".py",
   "mimetype": "text/x-python",
   "name": "python",
   "nbconvert_exporter": "python",
   "pygments_lexer": "ipython3",
   "version": "3.13.2"
  }
 },
 "nbformat": 4,
 "nbformat_minor": 5
}
