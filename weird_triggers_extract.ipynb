{
 "cells": [
  {
   "cell_type": "code",
   "execution_count": 1,
   "id": "fbc31885",
   "metadata": {},
   "outputs": [],
   "source": [
    "import matplotlib.pyplot as plt\n",
    "import os\n",
    "import numpy as np\n",
    "import source.spectra_0308 as sp\n",
    "import seaborn as sns\n",
    "import pandas as pd\n",
    "from math import ceil\n",
    "from os.path import exists"
   ]
  },
  {
   "cell_type": "code",
   "execution_count": 2,
   "id": "b23fbc68",
   "metadata": {},
   "outputs": [],
   "source": [
    "TIME_UNIT = 0.016*2**5\n",
    "NCH = 32\n",
    "\n",
    "def trigger_sample(start_conv):\n",
    "    mid_value = np.take(start_conv, start_conv.size // 2)\n",
    "    return np.argwhere(start_conv[1:] - start_conv[:-1] > mid_value/5)[0][0]\n",
    "\n",
    "def get_mux_intervals(start_conv,\n",
    "                      tunit_us = TIME_UNIT,\n",
    "                      mux_time_us = 10.0,\n",
    "                      offset_from_start_us = 0.,\n",
    "                      offset_from_stop_us= 0.):\n",
    "    \n",
    "    ts = trigger_sample(start_conv)\n",
    "    mux_intervals = [\n",
    "        [ceil(ts + offset_from_start_us / tunit_us + i * mux_time_us / tunit_us),\n",
    "         ceil(ts - offset_from_stop_us / tunit_us + (i + 1) * mux_time_us / tunit_us)]\n",
    "        for i in range(NCH)\n",
    "                    ]\n",
    "    return mux_intervals\n",
    "\n",
    "def compute_duration(tmux, mux_intervals, weird_id):\n",
    "    return TIME_UNIT*np.sum(tmux[slice(*mux_intervals[weird_id])])/max(tmux[slice(*mux_intervals[weird_id])])"
   ]
  },
  {
   "cell_type": "code",
   "execution_count": 3,
   "id": "682a77e7",
   "metadata": {},
   "outputs": [],
   "source": [
    "def ok(file):\n",
    "    return 'red' not in file and 'bkg' not in file and 'QUADD' not in file and 'Am241' not in file\n",
    "\n",
    "def get_fileid(file):\n",
    "    return '_'.join(file[:-5].split('/')[-1].split('_')[:2])\n",
    "\n",
    "def get_radsource(file):\n",
    "    return file[:-5].split('_')[-1]\n",
    "\n",
    "def get_detmodel(file):\n",
    "    return file[:-5].split('_')[2]\n",
    "\n",
    "def get_quadrant(file):\n",
    "    return file[:-5].split('_')[4][-1]"
   ]
  },
  {
   "cell_type": "code",
   "execution_count": 4,
   "id": "5b969f13",
   "metadata": {},
   "outputs": [],
   "source": [
    "files_fm1 = [\"D:/IAPSdata/FM1/20220304/\" + f for f in os.listdir(\"D:/IAPSdata/FM1/20220304/\") if ok(f)][1:] + [\"D:/IAPSdata/FM1/20220301/\" + f for f in os.listdir(\"D:/IAPSdata/FM1/20220301/\") if ok(f)]"
   ]
  },
  {
   "cell_type": "code",
   "execution_count": 5,
   "id": "e32e9384",
   "metadata": {},
   "outputs": [],
   "source": [
    "files_pfm =  [\"D:/IAPSdata/PFM/20220310/\" + f for f in os.listdir(\"D:/IAPSdata/PFM/20220310/\") if 'red' not in f and 'Am' not in f] + [\"D:/IAPSdata/PFM/20220307/\" + f for f in os.listdir(\"D:/IAPSdata/PFM/20220307/\") if 'red' not in f]  +  [\"D:/IAPSdata/PFM/20220308/\" + f for f in os.listdir(\"D:/IAPSdata/PFM/20220308/\") if 'red' not in f and 'Am' not in f and 'Fe' not in f and '07' not in f]"
   ]
  },
  {
   "cell_type": "code",
   "execution_count": 6,
   "id": "c6840ff1",
   "metadata": {},
   "outputs": [],
   "source": [
    "for ff in files_pfm + files_fm1:\n",
    "    if exists(ff):\n",
    "        pass\n",
    "    else:\n",
    "        print(ff, \"not exist\")\n",
    "        break"
   ]
  },
  {
   "cell_type": "code",
   "execution_count": 7,
   "id": "141f0e60",
   "metadata": {},
   "outputs": [
    {
     "name": "stdout",
     "output_type": "stream",
     "text": [
      "found 62 weird tr in 20220304_02_FM1_T22deg_QUADC_THR110_finethr_DAC120_SingleCH_HV123_no_CH02_03_05_06_07_08_09_10_13_17_29_31_Fe55.fits\n",
      "found 74 weird tr in 20220304_03_FM1_T22deg_QUADC_THR110_finethr_DAC120_SingleCH_HV123_no_CH02_03_05_06_07_08_09_10_13_17_29_31_Fe55.fits\n",
      "found 106 weird tr in 20220304_04_FM1_T23deg_QUADC_THR110_finethr_DAC120_SingleCH_HV123_no_CH02_03_05_06_07_08_09_10_13_17_29_31_Cd109.fits\n",
      "found 87 weird tr in 20220304_06_FM1_T23deg_QUADC_THR110_finethr_DAC120_SingleCH_HV123_no_CH02_03_05_06_07_08_09_10_13_17_29_31_Cd109.fits\n",
      "found 87 weird tr in 20220304_07_FM1_T23deg_QUADC_THR110_finethr_DAC120_SingleCH_HV123_no_CH02_03_05_06_07_08_09_10_13_17_29_31_Cs137.fits\n",
      "found 80 weird tr in 20220304_08_FM1_T23deg_QUADC_THR110_finethr_DAC120_SingleCH_HV123_no_CH02_03_05_06_07_08_09_10_13_17_29_31_Cs137.fits\n",
      "found 74 weird tr in 20220304_09_FM1_T23deg_QUADC_THR110_finethr_DAC120_SingleCH_HV123_no_CH02_03_05_06_07_08_09_10_13_17_29_31_Cs137.fits\n",
      "found 129 weird tr in 20220301_01_FM1_T21deg_QUADA_THR105_finethr_DAC120_SingleCH_HV123_no_CH00_03_21_24_28_31_Fe55.fits\n",
      "found 115 weird tr in 20220301_02_FM1_T21deg_QUADA_THR105_finethr_DAC120_SingleCH_HV123_no_CH00_03_21_24_28_31_Fe55.fits\n",
      "found 203 weird tr in 20220301_03_FM1_T21deg_QUADA_THR105_finethr_DAC120_SingleCH_HV123_no_CH00_03_21_24_28_31_Cs137.fits\n",
      "found 197 weird tr in 20220301_04_FM1_T21deg_QUADA_THR105_finethr_DAC120_SingleCH_HV123_no_CH00_03_21_24_28_31_Cs137.fits\n",
      "found 199 weird tr in 20220301_05_FM1_T21deg_QUADA_THR105_finethr_DAC120_SingleCH_HV123_no_CH00_03_21_24_28_31_Cs137.fits\n",
      "found 107 weird tr in 20220301_06_FM1_T21deg_QUADA_THR105_finethr_DAC120_SingleCH_HV123_no_CH00_03_21_24_28_31_Cd109.fits\n",
      "found 139 weird tr in 20220301_07_FM1_T21deg_QUADA_THR105_finethr_DAC120_SingleCH_HV123_no_CH00_03_21_24_28_31_Cd109.fits\n",
      "found 104 weird tr in 20220310_01_PFM_T23deg_QUADA_THR110_finethr_DAC120_SingleCH_HV123_no_CH00_01_03_21_24_31_Fe55.fits\n",
      "found 108 weird tr in 20220310_02_PFM_T23deg_QUADA_THR110_finethr_DAC120_SingleCH_HV123_no_CH00_01_03_21_24_31_Fe55.fits\n",
      "found 207 weird tr in 20220310_03_PFM_T23deg_QUADA_THR110_finethr_DAC120_SingleCH_HV123_no_CH00_01_03_21_24_31_Cd109.fits\n",
      "found 196 weird tr in 20220310_04_PFM_T23deg_QUADA_THR110_finethr_DAC120_SingleCH_HV123_no_CH00_01_03_21_24_31_Cd109.fits\n",
      "found 110 weird tr in 20220310_05_PFM_T23deg_QUADA_THR110_finethr_DAC120_SingleCH_HV123_no_CH00_01_03_21_24_31_Cs137.fits\n",
      "found 100 weird tr in 20220310_06_PFM_T23deg_QUADA_THR110_finethr_DAC120_SingleCH_HV123_no_CH00_01_03_21_24_31_Cs137.fits\n",
      "found 106 weird tr in 20220310_07_PFM_T23deg_QUADA_THR110_finethr_DAC120_SingleCH_HV123_no_CH00_01_03_21_24_31_Cs137.fits\n",
      "found 158 weird tr in 20220307_01_PFM_T23deg_QUADC_THR110_DAC120_SingleCH_HV123_no_CH02_03_29_31_Fe55.fits\n",
      "found 124 weird tr in 20220307_02_PFM_T23deg_QUADC_THR110_DAC120_SingleCH_HV123_no_CH02_03_29_31_Fe55.fits\n",
      "found 181 weird tr in 20220308_02_PFM_T22deg_QUADC_THR110_finethr_DAC120_SingleCH_HV123_no_CH02_03_29_31_Cd109.fits\n",
      "found 170 weird tr in 20220308_03_PFM_T22deg_QUADC_THR110_finethr_DAC120_SingleCH_HV123_no_CH02_03_29_31_Cd109.fits\n",
      "found 110 weird tr in 20220308_04_PFM_T22deg_QUADC_THR110_finethr_DAC120_SingleCH_HV123_no_CH02_03_29_31_Cs137.fits\n",
      "found 116 weird tr in 20220308_05_PFM_T22deg_QUADC_THR110_finethr_DAC120_SingleCH_HV123_no_CH02_03_29_31_Cs137.fits\n",
      "found 113 weird tr in 20220308_06_PFM_T22deg_QUADC_THR110_finethr_DAC120_SingleCH_HV123_no_CH02_03_29_31_Cs137.fits\n"
     ]
    }
   ],
   "source": [
    "weird_trigs = []\n",
    "\n",
    "for filepath in files_fm1 + files_pfm:\n",
    "    el_1 = sp.event_list_from_wfs(filepath, offset_from_start_us=2.5, offset_from_stop_us=2.5)\n",
    "    el_0 = sp.event_list_from_wfs(filepath)\n",
    "    decimation, file_ts = sp.get_meta(filepath)\n",
    "\n",
    "\n",
    "    wfs, txs = sp.get_waveforms(filepath, wf_ch = 'CH00', tmux_ch = 'CH12')\n",
    "    _, scs = sp.get_waveforms(filepath, wf_ch = 'CH00', tmux_ch = 'CH08')\n",
    "\n",
    "    ntrig = len(el_0)\n",
    "    tot = 0\n",
    "\n",
    "    for i in range(ntrig):\n",
    "        if not np.all(np.isnan(el_1[i]) == np.isnan(el_0[i])):\n",
    "            tot += 1\n",
    "            times = np.arange(len(wfs[i]))*TIME_UNIT\n",
    "            mux_intervals = get_mux_intervals(scs[i])\n",
    "\n",
    "            file_id = get_fileid(filepath)\n",
    "            index = i\n",
    "            weird_id = np.argwhere(np.logical_not((np.isnan(el_1[i]))) & (np.isnan(el_0[i])))[0][0]\n",
    "            detmod = get_detmodel(filepath)\n",
    "            quad = get_quadrant(filepath)\n",
    "            radsrc = get_radsource(filepath)\n",
    "            duration = compute_duration(txs[i], mux_intervals, weird_id)\n",
    "            \n",
    "            weird_trigs.append((file_id, detmod, quad, radsrc, index, weird_id, duration))\n",
    "\n",
    "            with sns.plotting_context(\"talk\"):\n",
    "                plt.figure(figsize = (15,5))\n",
    "                plt.plot(times, wfs[i])\n",
    "                plt.plot(times, txs[i])\n",
    "                plt.plot(times, scs[i])\n",
    "                plt.axvspan(*times[mux_intervals[weird_id]], color = 'red', alpha = 0.1)\n",
    "                plt.axvline(times[trigger_sample(scs[i])], linestyle = 'dotted')\n",
    "                plt.xlabel(\"time [us]\")\n",
    "                plt.ylabel(\"adc\")\n",
    "                plt.savefig(\"out/plots/wt_\" + '_'.join([detmod,file_id, \"QUAD\" + quad, radsrc,  str(i)]),bbox_inches='tight')\n",
    "                plt.close()\n",
    "    print(\"found\",tot,\"weird tr in\",filepath.split('/')[-1])"
   ]
  },
  {
   "cell_type": "code",
   "execution_count": 8,
   "id": "f529945f",
   "metadata": {},
   "outputs": [],
   "source": [
    "weird_trigs_df = pd.DataFrame(weird_trigs, columns = ['file_id', 'det_model', 'quadrant', 'source', 'index', 'ch_id', 'duration'])"
   ]
  },
  {
   "cell_type": "code",
   "execution_count": 11,
   "id": "4665c9c2",
   "metadata": {},
   "outputs": [],
   "source": [
    "weird_trigs_df.to_csv(\"out/weird_trigs.csv\", index = False)"
   ]
  },
  {
   "cell_type": "code",
   "execution_count": 18,
   "id": "b53a0b55",
   "metadata": {},
   "outputs": [],
   "source": [
    "obs = []\n",
    "\n",
    "for filepath in files_fm1 + files_pfm:\n",
    "    wfs, txs = sp.get_waveforms(filepath, wf_ch = 'CH00', tmux_ch = 'CH12')\n",
    "    _, scs = sp.get_waveforms(filepath, wf_ch = 'CH00', tmux_ch = 'CH08')\n",
    "\n",
    "    file_id = get_fileid(filepath)\n",
    "    detmod = get_detmodel(filepath)\n",
    "    quad = get_quadrant(filepath)\n",
    "    radsrc = get_radsource(filepath)\n",
    "    acquisitions = len(wfs)\n",
    "    ws = weird_trigs_df[weird_trigs_df['file_id'] == file_id].shape[0]\n",
    "    \n",
    "    obs.append((file_id, detmod, quad, radsrc, acquisitions, ws))"
   ]
  },
  {
   "cell_type": "code",
   "execution_count": 19,
   "id": "9181bf00",
   "metadata": {},
   "outputs": [],
   "source": [
    "obs_df = pd.DataFrame(obs, columns = ['file_id', 'det_model', 'quadrant', 'source', 'tot_acq', 'weird_acq'])\n",
    "obs_df.to_csv(\"out/obs.csv\", index= False)"
   ]
  },
  {
   "cell_type": "code",
   "execution_count": null,
   "id": "7baad7b3",
   "metadata": {},
   "outputs": [],
   "source": []
  }
 ],
 "metadata": {
  "kernelspec": {
   "display_name": "Python 3",
   "language": "python",
   "name": "python3"
  },
  "language_info": {
   "codemirror_mode": {
    "name": "ipython",
    "version": 3
   },
   "file_extension": ".py",
   "mimetype": "text/x-python",
   "name": "python",
   "nbconvert_exporter": "python",
   "pygments_lexer": "ipython3",
   "version": "3.7.9"
  }
 },
 "nbformat": 4,
 "nbformat_minor": 5
}
