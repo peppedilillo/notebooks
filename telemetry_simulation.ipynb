{
 "cells": [
  {
   "cell_type": "code",
   "execution_count": 142,
   "id": "21be67f1",
   "metadata": {},
   "outputs": [],
   "source": [
    "import sys,os\n",
    "sys.path.insert(0, \"D:/Dropbox/Progetti/SynthBurst\")"
   ]
  },
  {
   "cell_type": "code",
   "execution_count": 143,
   "id": "5564d3d7",
   "metadata": {},
   "outputs": [],
   "source": [
    "import pandas as pd\n",
    "import numpy as np\n",
    "float_formatter = \"{:.2f}\".format\n",
    "np.set_printoptions(formatter={'float_kind':float_formatter})\n",
    "\n",
    "import matplotlib.pyplot as plt\n",
    "import matplotlib\n",
    "import seaborn as sns\n",
    "sns.set_theme(style=\"white\")\n",
    "sns.set_context(\"notebook\")"
   ]
  },
  {
   "cell_type": "code",
   "execution_count": 144,
   "id": "a04bcd5b",
   "metadata": {},
   "outputs": [],
   "source": [
    "seeding = True\n",
    "\n",
    "if seeding:\n",
    "    seed_value = 66\n",
    "    np.random.seed(seed_value)"
   ]
  },
  {
   "cell_type": "code",
   "execution_count": 145,
   "id": "264e29db",
   "metadata": {},
   "outputs": [],
   "source": [
    "import synthburst.simulate as sb"
   ]
  },
  {
   "cell_type": "markdown",
   "id": "2b058801",
   "metadata": {},
   "source": [
    "# Telemetry Budget Simulation\n",
    "\n",
    "The idea is to simulate the photon lists for:\n",
    "1. one hour of background data in band $50$-$300$ keV, according Riccardo's simulations. Results obtained from this simulation will be scaled up by a factor of $24$ to account for a full day of background acquisitions.\n",
    "2. one full-band, bright burst with duration $\\sim 50$ s and typical Band emission ($\\alpha=-1$, $\\beta=-2.33$, $E_p=174$).\n",
    "3. one full-band, extremely bright burst with duration $\\sim 50$ s and typical Band emission (as above).\n",
    "\n",
    "Starting from these data we estimate:\n",
    "1. the number of headers for each simulation, assuming that it is possible to accomodate a number of events `BUFFER_LEN` (nominally $8192$) before LAM, that each photons detected by scintillators results in two events and a new buffer file is created with period equal `BUFFER_REFRESH_S` (nominally $1$ s). \n",
    "2. the number of photons detected by SDDs (`X`).\n",
    "3. the number of photons detected by scintillators (`S`).\n",
    "\n",
    "Finally we compute the actual telemetry budget assuming that:\n",
    "1. each header weights `HEADER_BITSIZE` bits (nominally set to 928). We will separately take into account headers optimization.\n",
    "2. each `X` photon results in a single record event with dimension `SINGLE_EVENT_BITSIZE` (nominally 64 bit).\n",
    "3. each `S` photon results in a double record event with dimension `DOUBLE_EVENT_BITSIZE` (nominally 96 bit).\n",
    "This implies that event with multiplicity $> 2$ will be dealt with as event with multiplicity $= 2$.\n",
    "4. telemetry of scientific ratemeters, separately for each quadrants and in three different bands.\n"
   ]
  },
  {
   "cell_type": "markdown",
   "id": "4b6d4d98",
   "metadata": {},
   "source": [
    "### Data Format Specifications"
   ]
  },
  {
   "cell_type": "code",
   "execution_count": 146,
   "id": "f673b0e8",
   "metadata": {},
   "outputs": [],
   "source": [
    "SINGLE_EVENT_BITSIZE = 32 + 32 # TIME EVENT + PIXEL EVENT\n",
    "DOUBLE_EVENT_BITSIZE = 32 + 2*32 # TIME EVENT + 2 PIXEL EVENT\n",
    "\n",
    "HEADER_BITSIZE = 928\n",
    "BUFFER_LEN = 8192\n",
    "BUFFER_REFRESH_S = 1.0"
   ]
  },
  {
   "cell_type": "markdown",
   "id": "1903a57f",
   "metadata": {},
   "source": [
    "### Constants"
   ]
  },
  {
   "cell_type": "code",
   "execution_count": 147,
   "id": "aa7aa427",
   "metadata": {},
   "outputs": [],
   "source": [
    "SECONDS_IN_A_DAY = 24*60*60\n",
    "QUADRANTS_NUM = 4"
   ]
  },
  {
   "cell_type": "markdown",
   "id": "808c0fc4",
   "metadata": {},
   "source": [
    "## Background"
   ]
  },
  {
   "cell_type": "markdown",
   "id": "45d32624",
   "metadata": {},
   "source": [
    "We simulate one hour of HERMES background data."
   ]
  },
  {
   "cell_type": "code",
   "execution_count": 148,
   "id": "a76b9c31",
   "metadata": {
    "scrolled": true
   },
   "outputs": [],
   "source": [
    "lc = sb._LightCurveSim(duration = 60*60)\n",
    "lc.add_bkg()"
   ]
  },
  {
   "cell_type": "code",
   "execution_count": 149,
   "id": "854cf2b9",
   "metadata": {},
   "outputs": [
    {
     "name": "stdout",
     "output_type": "stream",
     "text": [
      "I've generated 3147754 photons over 3600 seconds.\n"
     ]
    }
   ],
   "source": [
    "print(\"I've generated {} photons over {} seconds.\".format(len(lc.data), lc.duration))"
   ]
  },
  {
   "cell_type": "markdown",
   "id": "fa2ff917",
   "metadata": {},
   "source": [
    "We select all the events with energy between $50$ and $300$ keV."
   ]
  },
  {
   "cell_type": "code",
   "execution_count": 150,
   "id": "24bc9947",
   "metadata": {},
   "outputs": [],
   "source": [
    "band = (50,300)"
   ]
  },
  {
   "cell_type": "code",
   "execution_count": 151,
   "id": "74cdd770",
   "metadata": {},
   "outputs": [
    {
     "name": "stdout",
     "output_type": "stream",
     "text": [
      "rate in band (50, 300) keV is: 73.95 photons/s\n",
      "of the simulated events 2.10% are X events,\n",
      "and 97.90% are S events.\n"
     ]
    }
   ],
   "source": [
    "events_num = len(lc.get_data(**{'energy' : band}))\n",
    "rate = events_num/lc.duration\n",
    "fraction_xevents = len(lc.get_data(flag = 'X', energy = band))/events_num\n",
    "fraction_sevents = len(lc.get_data(flag = 'S', energy = band))/events_num\n",
    "print(\"rate in band {} keV is: {:.2f} photons/s\".format(band, rate))\n",
    "print(\"of the simulated events {:.2f}% are X events,\".format(100*fraction_xevents))\n",
    "print(\"and {:.2f}% are S events.\".format(100*fraction_sevents))"
   ]
  },
  {
   "cell_type": "code",
   "execution_count": 152,
   "id": "628c4f48",
   "metadata": {},
   "outputs": [
    {
     "data": {
      "image/png": "[encoded data removed]",
      "text/plain": [
       "<Figure size 864x216 with 1 Axes>"
      ]
     },
     "metadata": {},
     "output_type": "display_data"
    }
   ],
   "source": [
    "lc.plot(figsize = (12,3), binning = 1.)\n",
    "plt.show()"
   ]
  },
  {
   "cell_type": "markdown",
   "id": "57f4a060",
   "metadata": {},
   "source": [
    "We add a new column to track the ASICs (randomly generated) over which each event was observed, than we put the simulated photon events in a table container."
   ]
  },
  {
   "cell_type": "code",
   "execution_count": 153,
   "id": "8c1ee565",
   "metadata": {},
   "outputs": [
    {
     "data": {
      "text/html": [
       "<div>\n",
       "<style scoped>\n",
       "    .dataframe tbody tr th:only-of-type {\n",
       "        vertical-align: middle;\n",
       "    }\n",
       "\n",
       "    .dataframe tbody tr th {\n",
       "        vertical-align: top;\n",
       "    }\n",
       "\n",
       "    .dataframe thead th {\n",
       "        text-align: right;\n",
       "    }\n",
       "</style>\n",
       "<table border=\"1\" class=\"dataframe\">\n",
       "  <thead>\n",
       "    <tr style=\"text-align: right;\">\n",
       "      <th></th>\n",
       "      <th>TIME</th>\n",
       "      <th>ENERGY</th>\n",
       "      <th>FLAG</th>\n",
       "      <th>ASIC</th>\n",
       "    </tr>\n",
       "  </thead>\n",
       "  <tbody>\n",
       "    <tr>\n",
       "      <th>0</th>\n",
       "      <td>0.031444</td>\n",
       "      <td>40</td>\n",
       "      <td>S</td>\n",
       "      <td>1</td>\n",
       "    </tr>\n",
       "    <tr>\n",
       "      <th>1</th>\n",
       "      <td>0.072111</td>\n",
       "      <td>36</td>\n",
       "      <td>S</td>\n",
       "      <td>1</td>\n",
       "    </tr>\n",
       "    <tr>\n",
       "      <th>2</th>\n",
       "      <td>0.074277</td>\n",
       "      <td>28</td>\n",
       "      <td>S</td>\n",
       "      <td>3</td>\n",
       "    </tr>\n",
       "    <tr>\n",
       "      <th>3</th>\n",
       "      <td>0.120775</td>\n",
       "      <td>11</td>\n",
       "      <td>S</td>\n",
       "      <td>2</td>\n",
       "    </tr>\n",
       "    <tr>\n",
       "      <th>4</th>\n",
       "      <td>0.128223</td>\n",
       "      <td>12</td>\n",
       "      <td>S</td>\n",
       "      <td>1</td>\n",
       "    </tr>\n",
       "    <tr>\n",
       "      <th>...</th>\n",
       "      <td>...</td>\n",
       "      <td>...</td>\n",
       "      <td>...</td>\n",
       "      <td>...</td>\n",
       "    </tr>\n",
       "    <tr>\n",
       "      <th>266216</th>\n",
       "      <td>3599.909642</td>\n",
       "      <td>10</td>\n",
       "      <td>S</td>\n",
       "      <td>3</td>\n",
       "    </tr>\n",
       "    <tr>\n",
       "      <th>266217</th>\n",
       "      <td>3599.936558</td>\n",
       "      <td>21</td>\n",
       "      <td>S</td>\n",
       "      <td>3</td>\n",
       "    </tr>\n",
       "    <tr>\n",
       "      <th>266218</th>\n",
       "      <td>3599.943653</td>\n",
       "      <td>53</td>\n",
       "      <td>S</td>\n",
       "      <td>0</td>\n",
       "    </tr>\n",
       "    <tr>\n",
       "      <th>266219</th>\n",
       "      <td>3599.948745</td>\n",
       "      <td>23</td>\n",
       "      <td>S</td>\n",
       "      <td>0</td>\n",
       "    </tr>\n",
       "    <tr>\n",
       "      <th>266220</th>\n",
       "      <td>3599.957317</td>\n",
       "      <td>48</td>\n",
       "      <td>S</td>\n",
       "      <td>3</td>\n",
       "    </tr>\n",
       "  </tbody>\n",
       "</table>\n",
       "<p>266221 rows × 4 columns</p>\n",
       "</div>"
      ],
      "text/plain": [
       "               TIME  ENERGY FLAG  ASIC\n",
       "0          0.031444      40    S     1\n",
       "1          0.072111      36    S     1\n",
       "2          0.074277      28    S     3\n",
       "3          0.120775      11    S     2\n",
       "4          0.128223      12    S     1\n",
       "...             ...     ...  ...   ...\n",
       "266216  3599.909642      10    S     3\n",
       "266217  3599.936558      21    S     3\n",
       "266218  3599.943653      53    S     0\n",
       "266219  3599.948745      23    S     0\n",
       "266220  3599.957317      48    S     3\n",
       "\n",
       "[266221 rows x 4 columns]"
      ]
     },
     "execution_count": 153,
     "metadata": {},
     "output_type": "execute_result"
    }
   ],
   "source": [
    "filtered_events = lc.get_data(**{'energy' : band})\n",
    "events_table = pd.DataFrame(filtered_events,columns = ['TIME', 'ENERGY', 'FLAG'])\n",
    "events_table['ASIC'] = np.random.randint(4, size = events_num);\n",
    "events_table = events_table[events_table['ASIC'] < QUADRANTS_NUM]; events_table"
   ]
  },
  {
   "cell_type": "markdown",
   "id": "e7f68ff2",
   "metadata": {},
   "source": [
    "The number of 'X' and 'S' events is:"
   ]
  },
  {
   "cell_type": "code",
   "execution_count": 154,
   "id": "1d07fad4",
   "metadata": {},
   "outputs": [
    {
     "name": "stdout",
     "output_type": "stream",
     "text": [
      "num of X events is 5590\n",
      "num of S events is 260631\n"
     ]
    }
   ],
   "source": [
    "num_xevents = len(events_table[events_table['FLAG'] == 'X']); print(\"num of X events is {}\".format(num_xevents))\n",
    "num_sevents = len(events_table[events_table['FLAG'] == 'S']); print(\"num of S events is {}\".format(num_sevents))"
   ]
  },
  {
   "cell_type": "markdown",
   "id": "1ffa7c70",
   "metadata": {},
   "source": [
    "We do now compute the number of headers needed to fully represent the event table."
   ]
  },
  {
   "cell_type": "code",
   "execution_count": 155,
   "id": "81017b09",
   "metadata": {},
   "outputs": [],
   "source": [
    "def how_many_headers(duration, data_table, refresh_period, buffer_length):\n",
    "    xdata_table = data_table[data_table['FLAG'] == 'X']\n",
    "    sdata_table = data_table[data_table['FLAG'] == 'S']\n",
    "    xasics_dtab = [xdata_table[xdata_table['ASIC'] == i] for i in range(QUADRANTS_NUM)]\n",
    "    sasics_dtab = [sdata_table[sdata_table['ASIC'] == i] for i in range(QUADRANTS_NUM)]\n",
    "    \n",
    "    bins = np.arange(0, duration, refresh_period)\n",
    "    out = []\n",
    "    for t_i, t_f in zip(bins, bins + refresh_period):\n",
    "        helper = []\n",
    "        for asic in [0, 1, 2, 3]:\n",
    "            xdf = xasics_dtab[asic]\n",
    "            xevents = xdf[(xdf['TIME'] >= t_i) & (xdf['TIME'] < t_f) ]\n",
    "            sdf = sasics_dtab[asic]\n",
    "            sevents = sdf[(sdf['TIME'] >= t_i) & (sdf['TIME'] < t_f) ]\n",
    "\n",
    "            num_events = len(xevents) + 2 * len(sevents)\n",
    "            lam_headers = int(num_events / buffer_length)\n",
    "            num_headers = 1 + lam_headers\n",
    "            helper.append(num_headers)\n",
    "        out.append(helper)\n",
    "\n",
    "    n = sum([sum(sublist) for sublist in out])\n",
    "    return n, out"
   ]
  },
  {
   "cell_type": "code",
   "execution_count": 156,
   "id": "15651c9d",
   "metadata": {},
   "outputs": [
    {
     "name": "stdout",
     "output_type": "stream",
     "text": [
      "number of headers in 3600s is 14400\n"
     ]
    }
   ],
   "source": [
    "num_headers, all_headers = how_many_headers(lc.duration, events_table, BUFFER_REFRESH_S, BUFFER_LEN)\n",
    "print('number of headers in {}s is {}'.format(lc.duration, num_headers))"
   ]
  },
  {
   "cell_type": "markdown",
   "id": "b6eb3f77",
   "metadata": {},
   "source": [
    "------\n",
    "#### Minimal header information"
   ]
  },
  {
   "cell_type": "markdown",
   "id": "4a54bb20",
   "metadata": {},
   "source": [
    "The size of headers could be reduced without loss of information avoiding re-writing 87 bytes (same info for different quadrant) for three out of for quadrants at the pps. Using this information we can compute the minimal information content from the headers:"
   ]
  },
  {
   "cell_type": "code",
   "execution_count": 157,
   "id": "58606711",
   "metadata": {},
   "outputs": [],
   "source": [
    "def minimal_headers_bitsize(headers, header_bits, rendundant_bits = 87*8):\n",
    "    acc = 0\n",
    "    for sublist in headers:\n",
    "        headers_num = sum(sublist)\n",
    "        assert headers_num - 4 >= 0\n",
    "        acc += header_bits + 3*(header_bits - rendundant_bits) + header_bits*(headers_num - 4)\n",
    "    return acc"
   ]
  },
  {
   "cell_type": "markdown",
   "id": "c08347e5",
   "metadata": {},
   "source": [
    "Using this function we can compute the % of rendundant information:"
   ]
  },
  {
   "cell_type": "code",
   "execution_count": 158,
   "id": "cc76930c",
   "metadata": {},
   "outputs": [
    {
     "name": "stdout",
     "output_type": "stream",
     "text": [
      "the redundant fraction in the headers is 56.25%\n"
     ]
    }
   ],
   "source": [
    "redundant_fraction = (100*(HEADER_BITSIZE*num_headers - \n",
    "                           minimal_headers_bitsize(all_headers, HEADER_BITSIZE))\n",
    "                         /(HEADER_BITSIZE*num_headers))\n",
    "print(\"the redundant fraction in the headers is {:.2f}%\".format(redundant_fraction))"
   ]
  },
  {
   "cell_type": "markdown",
   "id": "2b9b886c",
   "metadata": {},
   "source": [
    "--------"
   ]
  },
  {
   "cell_type": "markdown",
   "id": "d6ffa21c",
   "metadata": {},
   "source": [
    "Finally we can compute the expected background telemetry, scaling our results to one day:"
   ]
  },
  {
   "cell_type": "code",
   "execution_count": 159,
   "id": "e7ce6222",
   "metadata": {},
   "outputs": [
    {
     "name": "stdout",
     "output_type": "stream",
     "text": [
      "expected background telemetry is 0.930 Gbits/day\n"
     ]
    }
   ],
   "source": [
    "BACKGROUND_TELEMETRY_BITS = (num_headers*HEADER_BITSIZE + \n",
    "                             num_xevents*SINGLE_EVENT_BITSIZE + \n",
    "                             num_sevents*DOUBLE_EVENT_BITSIZE)\n",
    "BACKGROUND_TELEMETRY_GBITS = BACKGROUND_TELEMETRY_BITS/10**9\n",
    "\n",
    "BACKGROUND_DAILY_GBITS = BACKGROUND_TELEMETRY_GBITS*SECONDS_IN_A_DAY/lc.duration\n",
    "\n",
    "print('expected background telemetry is {:.3f} Gbits/day'.format(BACKGROUND_DAILY_GBITS))"
   ]
  },
  {
   "cell_type": "markdown",
   "id": "10c452b9",
   "metadata": {},
   "source": [
    "Which with minimal header could be reduced to:"
   ]
  },
  {
   "cell_type": "code",
   "execution_count": 160,
   "id": "0f7a9547",
   "metadata": {},
   "outputs": [
    {
     "name": "stdout",
     "output_type": "stream",
     "text": [
      "expected background telemetry with minimal headers is 0.749 Gbits/day\n"
     ]
    }
   ],
   "source": [
    "BACKGROUND_MINH_TELEMETRY_BITS = (minimal_headers_bitsize(all_headers, HEADER_BITSIZE) + \n",
    "                             num_xevents*SINGLE_EVENT_BITSIZE + \n",
    "                             num_sevents*DOUBLE_EVENT_BITSIZE)\n",
    "BACKGROUND_MINH_TELEMETRY_GBITS = BACKGROUND_MINH_TELEMETRY_BITS/10**9\n",
    "\n",
    "BACKGROUND_MINH_DAILY_GBITS = BACKGROUND_MINH_TELEMETRY_GBITS*SECONDS_IN_A_DAY/lc.duration\n",
    "\n",
    "print('expected background telemetry with minimal headers is {:.3f} Gbits/day'.format(BACKGROUND_MINH_DAILY_GBITS))"
   ]
  },
  {
   "cell_type": "markdown",
   "id": "703bd8b5",
   "metadata": {},
   "source": [
    "-----"
   ]
  },
  {
   "cell_type": "markdown",
   "id": "e6f968f9",
   "metadata": {},
   "source": [
    "## Burst telemetry\n",
    "\n",
    "### Common burst telemetry"
   ]
  },
  {
   "cell_type": "markdown",
   "id": "14b2b62b",
   "metadata": {},
   "source": [
    "We use for our model a long GBM burst with duration around $50$ s."
   ]
  },
  {
   "cell_type": "code",
   "execution_count": 161,
   "id": "08b410b1",
   "metadata": {},
   "outputs": [],
   "source": [
    "model_id = '120707800'"
   ]
  },
  {
   "cell_type": "code",
   "execution_count": 162,
   "id": "47ab9d82",
   "metadata": {},
   "outputs": [
    {
     "data": {
      "image/png": "[encoded data removed]",
      "text/plain": [
       "<Figure size 864x288 with 1 Axes>"
      ]
     },
     "metadata": {},
     "output_type": "display_data"
    }
   ],
   "source": [
    "lc = sb.LCSFromModel() # create new sim\n",
    "lc.simulate(model_id)  # set model \n",
    "lc.plot_model_diagnostic(figsize = (12,4), binning = 0.1) # plot diagnostics\n",
    "plt.show()"
   ]
  },
  {
   "cell_type": "markdown",
   "id": "8e130dd2",
   "metadata": {},
   "source": [
    "The burst simulation parameters:"
   ]
  },
  {
   "cell_type": "code",
   "execution_count": 163,
   "id": "08c698d8",
   "metadata": {},
   "outputs": [],
   "source": [
    "PREBURST = 30\n",
    "POSTBURST = 0\n",
    "BURSTDUR = 300\n",
    "BURST_PHOTONS = 113145"
   ]
  },
  {
   "cell_type": "code",
   "execution_count": 164,
   "id": "f6e18d87",
   "metadata": {},
   "outputs": [],
   "source": [
    "lc = sb.LCSFromModel(duration = BURSTDUR + POSTBURST + PREBURST, burst_start_time = PREBURST)\n",
    "lc.simulate(model_id, duration_adjust = (-8, 10))"
   ]
  },
  {
   "cell_type": "code",
   "execution_count": 165,
   "id": "62c0e899",
   "metadata": {},
   "outputs": [
    {
     "name": "stdout",
     "output_type": "stream",
     "text": [
      "i've generated a total of 288544 background photons.\n"
     ]
    }
   ],
   "source": [
    "lc.add_bkg() \n",
    "print(\"i've generated a total of {} background photons.\".format(len(lc.get_data())))"
   ]
  },
  {
   "cell_type": "code",
   "execution_count": 166,
   "id": "b6bbfe94",
   "metadata": {},
   "outputs": [
    {
     "name": "stdout",
     "output_type": "stream",
     "text": [
      "i've generated a total of 113145 burst photons.\n"
     ]
    }
   ],
   "source": [
    "lc.add_burst(BURST_PHOTONS)\n",
    "print(\"i've generated a total of {} burst photons.\".format(BURST_PHOTONS))"
   ]
  },
  {
   "cell_type": "markdown",
   "id": "23de0f85",
   "metadata": {},
   "source": [
    "A plot of the burst we just simulated:"
   ]
  },
  {
   "cell_type": "code",
   "execution_count": 167,
   "id": "295055f1",
   "metadata": {},
   "outputs": [
    {
     "data": {
      "image/png": "[encoded data removed]",
      "text/plain": [
       "<Figure size 864x288 with 1 Axes>"
      ]
     },
     "metadata": {},
     "output_type": "display_data"
    }
   ],
   "source": [
    "lc.plot(figsize = (12,4), binning = 0.1)\n",
    "plt.show()"
   ]
  },
  {
   "cell_type": "code",
   "execution_count": 168,
   "id": "a5201030",
   "metadata": {},
   "outputs": [
    {
     "name": "stdout",
     "output_type": "stream",
     "text": [
      "I've generated 400913 photons over 330 seconds.\n",
      "rate in band (0, 2000) keV is: 1214.89\n",
      "of these 72.55% are X events,\n",
      "and 27.45% are S events.\n"
     ]
    }
   ],
   "source": [
    "band = (0,2000)\n",
    "events_num = len(lc.get_data(**{'energy' : band}))\n",
    "rate = events_num/lc.duration\n",
    "fraction_xevents = len(lc.get_data(flag = 'X', energy = band))/events_num\n",
    "fraction_sevents = len(lc.get_data(flag = 'S', energy = band))/events_num\n",
    "print(\"I've generated {} photons over {} seconds.\".format(events_num, lc.duration))\n",
    "print(\"rate in band {} keV is: {:.2f}\".format(band, rate))\n",
    "print(\"of these {:.2f}% are X events,\".format(100*fraction_xevents))\n",
    "print(\"and {:.2f}% are S events.\".format(100*fraction_sevents))"
   ]
  },
  {
   "cell_type": "code",
   "execution_count": 169,
   "id": "bedae461",
   "metadata": {},
   "outputs": [],
   "source": [
    "filtered_events = lc.get_data(**{'energy' : band})\n",
    "events_table = pd.DataFrame(filtered_events,columns = ['TIME', 'ENERGY', 'FLAG'])\n",
    "events_table['ASIC'] = np.random.randint(4, size = events_num);"
   ]
  },
  {
   "cell_type": "code",
   "execution_count": 170,
   "id": "56e1fc85",
   "metadata": {
    "scrolled": true
   },
   "outputs": [
    {
     "name": "stdout",
     "output_type": "stream",
     "text": [
      "num of X events is 290857\n",
      "num of S events is 110056\n"
     ]
    }
   ],
   "source": [
    "num_xevents = len(events_table[events_table['FLAG'] == 'X']); print(\"num of X events is {}\".format(num_xevents))\n",
    "num_sevents = len(events_table[events_table['FLAG'] == 'S']); print(\"num of S events is {}\".format(num_sevents))"
   ]
  },
  {
   "cell_type": "code",
   "execution_count": 171,
   "id": "4a952ae5",
   "metadata": {},
   "outputs": [
    {
     "name": "stdout",
     "output_type": "stream",
     "text": [
      "number of headers is 1320\n"
     ]
    }
   ],
   "source": [
    "num_headers, all_headers = how_many_headers(lc.duration, events_table, BUFFER_REFRESH_S, BUFFER_LEN)\n",
    "print('number of headers is {}'.format(num_headers))"
   ]
  },
  {
   "cell_type": "code",
   "execution_count": 172,
   "id": "9f3de424",
   "metadata": {
    "scrolled": true
   },
   "outputs": [
    {
     "name": "stdout",
     "output_type": "stream",
     "text": [
      "expected common burst telemetry is 0.03041 Gbits\n"
     ]
    }
   ],
   "source": [
    "COMMONBURST_TELEMETRY_BITS = (num_headers*HEADER_BITSIZE + \n",
    "                             num_xevents*SINGLE_EVENT_BITSIZE + \n",
    "                             num_sevents*DOUBLE_EVENT_BITSIZE)\n",
    "COMMONBURST_TELEMETRY_GBITS = COMMONBURST_TELEMETRY_BITS/10**9\n",
    "\n",
    "print('expected common burst telemetry is {:.5f} Gbits'.format(COMMONBURST_TELEMETRY_GBITS))"
   ]
  },
  {
   "cell_type": "markdown",
   "id": "d3004e32",
   "metadata": {},
   "source": [
    "The impact of minimal headers is small on burst telemetry:"
   ]
  },
  {
   "cell_type": "code",
   "execution_count": 173,
   "id": "41a7a444",
   "metadata": {},
   "outputs": [
    {
     "name": "stdout",
     "output_type": "stream",
     "text": [
      "expected common burst telemetry with minimal headers is 0.02972 Gbits\n"
     ]
    }
   ],
   "source": [
    "COMMONBURST_MINH_TELEMETRY_BITS = (minimal_headers_bitsize(all_headers, HEADER_BITSIZE) + \n",
    "                                   num_xevents*SINGLE_EVENT_BITSIZE + \n",
    "                                   num_sevents*DOUBLE_EVENT_BITSIZE)\n",
    "COMMONBURST_MINH_TELEMETRY_GBITS = COMMONBURST_MINH_TELEMETRY_BITS/10**9\n",
    "\n",
    "print('expected common burst telemetry with minimal headers is {:.5f} Gbits'.format(COMMONBURST_MINH_TELEMETRY_GBITS))"
   ]
  },
  {
   "cell_type": "markdown",
   "id": "2cc9c367",
   "metadata": {},
   "source": [
    "### Very bright burst"
   ]
  },
  {
   "cell_type": "code",
   "execution_count": 174,
   "id": "57ea8e86",
   "metadata": {},
   "outputs": [],
   "source": [
    "model_id = '120707800'"
   ]
  },
  {
   "cell_type": "markdown",
   "id": "ad89463b",
   "metadata": {},
   "source": [
    "We use the same timing parameters as before but a larger number of events."
   ]
  },
  {
   "cell_type": "code",
   "execution_count": 175,
   "id": "4262acf9",
   "metadata": {},
   "outputs": [],
   "source": [
    "BURST_PHOTONS = 820050"
   ]
  },
  {
   "cell_type": "code",
   "execution_count": 176,
   "id": "a3afc1be",
   "metadata": {},
   "outputs": [],
   "source": [
    "lc = sb.LCSFromModel(duration = BURSTDUR + POSTBURST + PREBURST, burst_start_time = PREBURST)\n",
    "lc.simulate(model_id, duration_adjust = (-8, 10))"
   ]
  },
  {
   "cell_type": "code",
   "execution_count": 177,
   "id": "2cb3ba9e",
   "metadata": {},
   "outputs": [
    {
     "name": "stdout",
     "output_type": "stream",
     "text": [
      "i've generated a total of 288544 background photons.\n"
     ]
    }
   ],
   "source": [
    "lc.add_bkg() \n",
    "print(\"i've generated a total of {} background photons.\".format(len(lc.get_data())))"
   ]
  },
  {
   "cell_type": "code",
   "execution_count": 178,
   "id": "963f85ed",
   "metadata": {},
   "outputs": [
    {
     "name": "stdout",
     "output_type": "stream",
     "text": [
      "i've generated a total of 820050 burst photons.\n"
     ]
    }
   ],
   "source": [
    "lc.add_burst(BURST_PHOTONS)\n",
    "print(\"i've generated a total of {} burst photons.\".format(BURST_PHOTONS))"
   ]
  },
  {
   "cell_type": "code",
   "execution_count": 179,
   "id": "8b62c5b7",
   "metadata": {},
   "outputs": [
    {
     "name": "stdout",
     "output_type": "stream",
     "text": [
      "rate in band (0, 2000) keV is: 3356.42\n",
      "of these 60.32% are X events,\n",
      "and 39.68% are S events.\n"
     ]
    }
   ],
   "source": [
    "band = (0,2000)\n",
    "events_num = len(lc.get_data(**{'energy' : band}))\n",
    "rate = events_num/lc.duration\n",
    "fraction_xevents = len(lc.get_data(flag = 'X', energy = band))/events_num\n",
    "fraction_sevents = len(lc.get_data(flag = 'S', energy = band))/events_num\n",
    "print(\"rate in band {} keV is: {:.2f}\".format(band, rate))\n",
    "print(\"of these {:.2f}% are X events,\".format(100*fraction_xevents))\n",
    "print(\"and {:.2f}% are S events.\".format(100*fraction_sevents))"
   ]
  },
  {
   "cell_type": "code",
   "execution_count": 180,
   "id": "cf6114ed",
   "metadata": {},
   "outputs": [],
   "source": [
    "filtered_events = lc.get_data(**{'energy' : band})\n",
    "events_table = pd.DataFrame(filtered_events,columns = ['TIME', 'ENERGY', 'FLAG'])\n",
    "events_table['ASIC'] = np.random.randint(4, size = events_num);"
   ]
  },
  {
   "cell_type": "code",
   "execution_count": 181,
   "id": "5ea56d68",
   "metadata": {},
   "outputs": [
    {
     "name": "stdout",
     "output_type": "stream",
     "text": [
      "num of X events is 668061\n",
      "num of S events is 439557\n"
     ]
    }
   ],
   "source": [
    "num_xevents = len(events_table[events_table['FLAG'] == 'X']); print(\"num of X events is {}\".format(num_xevents))\n",
    "num_sevents = len(events_table[events_table['FLAG'] == 'S']); print(\"num of S events is {}\".format(num_sevents))"
   ]
  },
  {
   "cell_type": "code",
   "execution_count": 182,
   "id": "e6092047",
   "metadata": {},
   "outputs": [
    {
     "name": "stdout",
     "output_type": "stream",
     "text": [
      "number of headers is 1364\n"
     ]
    }
   ],
   "source": [
    "num_headers, all_headers = how_many_headers(lc.duration, events_table, BUFFER_REFRESH_S, BUFFER_LEN)\n",
    "print('number of headers is {}'.format(num_headers))"
   ]
  },
  {
   "cell_type": "code",
   "execution_count": 183,
   "id": "1be02d63",
   "metadata": {},
   "outputs": [
    {
     "name": "stdout",
     "output_type": "stream",
     "text": [
      "expected very bright burst telemetry is 0.08622 Gbits\n"
     ]
    }
   ],
   "source": [
    "BRIGHTBURST_TELEMETRY_BITS = (num_headers*HEADER_BITSIZE + \n",
    "                             num_xevents*SINGLE_EVENT_BITSIZE + \n",
    "                             num_sevents*DOUBLE_EVENT_BITSIZE)\n",
    "BRIGHTBURST_TELEMETRY_GBITS = BRIGHTBURST_TELEMETRY_BITS/10**9\n",
    "\n",
    "print('expected very bright burst telemetry is {:.5f} Gbits'.format(BRIGHTBURST_TELEMETRY_GBITS))"
   ]
  },
  {
   "cell_type": "markdown",
   "id": "c869589b",
   "metadata": {},
   "source": [
    "Again we have a small impact of minimal headers:"
   ]
  },
  {
   "cell_type": "code",
   "execution_count": 184,
   "id": "b221ef11",
   "metadata": {},
   "outputs": [
    {
     "name": "stdout",
     "output_type": "stream",
     "text": [
      "expected very bright burst telemetry with minimal headers is 0.08553 Gbits\n"
     ]
    }
   ],
   "source": [
    "BRIGHTBURST_MINH_TELEMETRY_BITS = (minimal_headers_bitsize(all_headers, HEADER_BITSIZE) + \n",
    "                             num_xevents*SINGLE_EVENT_BITSIZE + \n",
    "                             num_sevents*DOUBLE_EVENT_BITSIZE)\n",
    "BRIGHTBURST_MINH_TELEMETRY_GBITS = BRIGHTBURST_MINH_TELEMETRY_BITS/10**9\n",
    "\n",
    "print('expected very bright burst telemetry with minimal headers is {:.5f} Gbits'.format(BRIGHTBURST_MINH_TELEMETRY_GBITS))"
   ]
  },
  {
   "cell_type": "markdown",
   "id": "09ed14c7",
   "metadata": {},
   "source": [
    "## Scientific ratemeters"
   ]
  },
  {
   "cell_type": "markdown",
   "id": "03c95afc",
   "metadata": {},
   "source": [
    "We use the latest (2022/09/09) model available: 8 bit counts for 3 bands and 4 quadrants plus 4 bytes of GPS per tenth, tenth of a second binning."
   ]
  },
  {
   "cell_type": "code",
   "execution_count": 137,
   "id": "10805127",
   "metadata": {},
   "outputs": [
    {
     "name": "stdout",
     "output_type": "stream",
     "text": [
      "the SR daily telemetry is 0.0857088 Gbit.\n"
     ]
    }
   ],
   "source": [
    "SR_REFRESH_PERIOD = 0.1 # seconds\n",
    "SR_COUNTS_BITSIZE = 8\n",
    "SR_GPS_BITSIZE = 4*8\n",
    "SR_BANDS = 3\n",
    "\n",
    "SR_TELEMETRY_BITS = (QUADRANTS_NUM*SR_COUNTS_BITSIZE*SR_BANDS/SR_REFRESH_PERIOD + SR_GPS_BITSIZE)*(SECONDS_IN_A_DAY)\n",
    "SR_TELEMETRY_GBITS = SR_TELEMETRY_BITS/10**9\n",
    "print(\"the SR daily telemetry is {} Gbit.\".format(SR_TELEMETRY_GBITS))"
   ]
  },
  {
   "cell_type": "markdown",
   "id": "c3479746",
   "metadata": {},
   "source": [
    "Note that the calcuations above (as well as those from 2022/09/09) assume that the GPS header is formed only one a second, regardless of the SR binning."
   ]
  },
  {
   "cell_type": "markdown",
   "id": "24277f70",
   "metadata": {},
   "source": [
    "# Conclusions"
   ]
  },
  {
   "cell_type": "markdown",
   "id": "d7135625",
   "metadata": {},
   "source": [
    "The estimated total daily budget is :"
   ]
  },
  {
   "cell_type": "code",
   "execution_count": 138,
   "id": "ff89b0bd",
   "metadata": {
    "scrolled": true
   },
   "outputs": [
    {
     "name": "stdout",
     "output_type": "stream",
     "text": [
      "the total daily budget is 1.13 Gbit.\n"
     ]
    }
   ],
   "source": [
    "TOTAL_BUDGET_GBITS = (BRIGHTBURST_TELEMETRY_GBITS + \n",
    "                      COMMONBURST_TELEMETRY_GBITS + \n",
    "                      BACKGROUND_DAILY_GBITS + \n",
    "                      SR_TELEMETRY_GBITS)\n",
    "\n",
    "print(\"the total daily budget is {:.2f} Gbit.\"\n",
    "      .format(TOTAL_BUDGET_GBITS))"
   ]
  },
  {
   "cell_type": "markdown",
   "id": "b492648e",
   "metadata": {},
   "source": [
    "Minimizing header information, we can reach:"
   ]
  },
  {
   "cell_type": "code",
   "execution_count": 139,
   "id": "8e106ac4",
   "metadata": {},
   "outputs": [
    {
     "name": "stdout",
     "output_type": "stream",
     "text": [
      "the total daily budget with minimal headers is 0.95 Gbit.\n"
     ]
    }
   ],
   "source": [
    "TOTAL_MINH_BUDGET_GBITS = (BRIGHTBURST_MINH_TELEMETRY_GBITS + \n",
    "                      COMMONBURST_MINH_TELEMETRY_GBITS + \n",
    "                      BACKGROUND_MINH_DAILY_GBITS + \n",
    "                      SR_TELEMETRY_GBITS)\n",
    "\n",
    "print(\"the total daily budget with minimal headers is {:.2f} Gbit.\"\n",
    "      .format(TOTAL_MINH_BUDGET_GBITS))"
   ]
  },
  {
   "cell_type": "markdown",
   "id": "63f28d0c",
   "metadata": {},
   "source": [
    "Note that this calculation does not include any margin. On the brightside however, the impact of LAMs on the telemetry is taken into account, at least to some degree. Indeed, the present estimate of LAM headers is an underestimate due to the assumptions that the maximum event multiplicity equals 2. This situation can be improved providing an estimate of the incidence of high multiplicity events relative to single/double events."
   ]
  },
  {
   "cell_type": "markdown",
   "id": "4b3e6f94",
   "metadata": {},
   "source": [
    "Considering a 30% margin we obtain:"
   ]
  },
  {
   "cell_type": "code",
   "execution_count": 140,
   "id": "620a3de7",
   "metadata": {},
   "outputs": [
    {
     "name": "stdout",
     "output_type": "stream",
     "text": [
      "the total daily budget with 30% margin is 1.45 Gbit.\n",
      "the total daily budget with minimal headers and 30% margin is 1.21 Gbit.\n"
     ]
    }
   ],
   "source": [
    "MARGIN = 30\n",
    "MARGIN_BUDGET_GBITS = (BRIGHTBURST_TELEMETRY_GBITS + \n",
    "                      COMMONBURST_TELEMETRY_GBITS + \n",
    "                      BACKGROUND_DAILY_GBITS)*MARGIN/100\n",
    "MARGIN_MINH_BUDGET_GBITS = (BRIGHTBURST_MINH_TELEMETRY_GBITS + \n",
    "                      COMMONBURST_MINH_TELEMETRY_GBITS + \n",
    "                      BACKGROUND_MINH_DAILY_GBITS)*MARGIN/100\n",
    "\n",
    "print(\"the total daily budget with {}% margin is {:.2f} Gbit.\"\n",
    "      .format(MARGIN, TOTAL_BUDGET_GBITS + MARGIN_BUDGET_GBITS))\n",
    "print(\"the total daily budget with minimal headers and {}% margin is {:.2f} Gbit.\"\n",
    "      .format(MARGIN, TOTAL_MINH_BUDGET_GBITS + MARGIN_MINH_BUDGET_GBITS))"
   ]
  },
  {
   "cell_type": "markdown",
   "id": "49de2b1a",
   "metadata": {},
   "source": [
    "For a 95% margin:"
   ]
  },
  {
   "cell_type": "code",
   "execution_count": 141,
   "id": "33709fe4",
   "metadata": {},
   "outputs": [
    {
     "name": "stdout",
     "output_type": "stream",
     "text": [
      "the total daily budget with 95% margin is 2.13 Gbit.\n",
      "the total daily budget with minimal headers and 95% margin is 1.77 Gbit.\n"
     ]
    }
   ],
   "source": [
    "MARGIN = 95\n",
    "MARGIN_BUDGET_GBITS = (BRIGHTBURST_TELEMETRY_GBITS + \n",
    "                      COMMONBURST_TELEMETRY_GBITS + \n",
    "                      BACKGROUND_DAILY_GBITS)*MARGIN/100\n",
    "MARGIN_MINH_BUDGET_GBITS = (BRIGHTBURST_MINH_TELEMETRY_GBITS + \n",
    "                      COMMONBURST_MINH_TELEMETRY_GBITS + \n",
    "                      BACKGROUND_MINH_DAILY_GBITS)*MARGIN/100\n",
    "\n",
    "print(\"the total daily budget with {}% margin is {:.2f} Gbit.\"\n",
    "      .format(MARGIN, TOTAL_BUDGET_GBITS + MARGIN_BUDGET_GBITS))\n",
    "print(\"the total daily budget with minimal headers and {}% margin is {:.2f} Gbit.\"\n",
    "      .format(MARGIN, TOTAL_MINH_BUDGET_GBITS + MARGIN_MINH_BUDGET_GBITS))"
   ]
  },
  {
   "cell_type": "code",
   "execution_count": null,
   "id": "4b5a9551",
   "metadata": {},
   "outputs": [],
   "source": []
  }
 ],
 "metadata": {
  "kernelspec": {
   "display_name": "Python 3",
   "language": "python",
   "name": "python3"
  },
  "language_info": {
   "codemirror_mode": {
    "name": "ipython",
    "version": 3
   },
   "file_extension": ".py",
   "mimetype": "text/x-python",
   "name": "python",
   "nbconvert_exporter": "python",
   "pygments_lexer": "ipython3",
   "version": "3.7.9"
  }
 },
 "nbformat": 4,
 "nbformat_minor": 5
}
