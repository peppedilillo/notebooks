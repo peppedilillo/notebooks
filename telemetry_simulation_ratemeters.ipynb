{
 "cells": [
  {
   "cell_type": "code",
   "execution_count": 70,
   "id": "21be67f1",
   "metadata": {},
   "outputs": [],
   "source": [
    "import sys,os\n",
    "sys.path.insert(0, \"D:/Dropbox/Progetti/SynthBurst\")"
   ]
  },
  {
   "cell_type": "code",
   "execution_count": 71,
   "id": "5564d3d7",
   "metadata": {},
   "outputs": [],
   "source": [
    "import pandas as pd\n",
    "import numpy as np\n",
    "float_formatter = \"{:.2f}\".format\n",
    "np.set_printoptions(formatter={'float_kind':float_formatter})\n",
    "\n",
    "import matplotlib.pyplot as plt\n",
    "import matplotlib\n",
    "import seaborn as sns\n",
    "sns.set_theme(style=\"white\")\n",
    "sns.set_context(\"notebook\")"
   ]
  },
  {
   "cell_type": "code",
   "execution_count": 72,
   "id": "a04bcd5b",
   "metadata": {},
   "outputs": [],
   "source": [
    "seeding = True\n",
    "\n",
    "if seeding:\n",
    "    seed_value = 66\n",
    "    np.random.seed(seed_value)"
   ]
  },
  {
   "cell_type": "code",
   "execution_count": 73,
   "id": "264e29db",
   "metadata": {},
   "outputs": [],
   "source": [
    "import synthburst.simulate as sb"
   ]
  },
  {
   "cell_type": "markdown",
   "id": "2b058801",
   "metadata": {},
   "source": [
    "# Telemetry Budget Simulation\n",
    "# Alternative telemetry model: ratemeters dominated\n",
    "\n",
    "<i>This alternative scenario takes inspiration from the original telemetry model employed by Fermi-GBM. In the early phases of its operations, Fermi did not download all the data products of the GBM experiment. Only two different binned datasets were downloaded throughout the day (CSPEC and CTIME data). Photon by photon data products (TTE) were downloaded only when on-board trigger resolved. Fermi later changed this model to one in which all data products were downloaded in full resolution.</i>\n",
    "\n",
    "We simulate the photon lists for:\n",
    "2. one full-band, bright burst with duration $\\sim 50$ s and typical Band emission ($\\alpha=-1$, $\\beta=-2.33$, $E_p=174$).\n",
    "3. one full-band, extremely bright burst with duration $\\sim 50$ s and typical Band emission (as above).\n",
    "\n",
    "Starting from these data we estimate:\n",
    "1. the number of headers for each simulation, assuming that it is possible to accomodate a number of events `BUFFER_LEN` (nominally $8192$) before LAM, that each photons detected by scintillators results in two events and a new buffer file is created with period equal `BUFFER_REFRESH_S` (nominally $1$ s). \n",
    "2. the number of photons detected by SDDs (`X`).\n",
    "3. the number of photons detected by scintillators (`S`).\n",
    "\n",
    "Finally we compute the actual telemetry budget assuming that:\n",
    "1. each header weights `HEADER_BITSIZE` bits (nominally set to 928).\n",
    "2. each `X` photon results in a single record event with dimension `SINGLE_EVENT_BITSIZE` (nominally 64 bit).\n",
    "3. each `S` photon results in a double record event with dimension `DOUBLE_EVENT_BITSIZE` (nominally 96 bit).\n",
    "This implies that event with multiplicity $> 2$ will be dealt with as event with multiplicity $= 2$.\n",
    "4. telemetry of scientific ratemeters.\n"
   ]
  },
  {
   "cell_type": "markdown",
   "id": "4b6d4d98",
   "metadata": {},
   "source": [
    "### Data Format Specifications"
   ]
  },
  {
   "cell_type": "code",
   "execution_count": 74,
   "id": "f673b0e8",
   "metadata": {},
   "outputs": [],
   "source": [
    "SINGLE_EVENT_BITSIZE = 32 + 32 # TIME EVENT + PIXEL EVENT\n",
    "DOUBLE_EVENT_BITSIZE = 32 + 2*32 # TIME EVENT + 2 PIXEL EVENT\n",
    "\n",
    "HEADER_BITSIZE = 928\n",
    "BUFFER_LEN = 8192\n",
    "BUFFER_REFRESH_S = 1.0"
   ]
  },
  {
   "cell_type": "markdown",
   "id": "1903a57f",
   "metadata": {},
   "source": [
    "### Constants"
   ]
  },
  {
   "cell_type": "code",
   "execution_count": 75,
   "id": "aa7aa427",
   "metadata": {},
   "outputs": [],
   "source": [
    "SECONDS_IN_A_DAY = 24*60*60\n",
    "QUADRANTS_NUM = 4"
   ]
  },
  {
   "cell_type": "markdown",
   "id": "703bd8b5",
   "metadata": {},
   "source": [
    "-----"
   ]
  },
  {
   "cell_type": "markdown",
   "id": "2c4accc8",
   "metadata": {},
   "source": [
    "## Scientific ratemeters\n",
    "\n",
    "In this model use two different scientific rate meters data products. \n",
    "The first one is obtained binning data in 8 different bands, separately for 4 quadrants, with binning 0.0625 s. A GPS header is added only once a second.  \n",
    "The second SR data product is obtained binning the data in 64 energy channels, separately for all quadrants, with binning 4.0 s.\n",
    "We assume 8 bit counts and 4 bytes GPS headers."
   ]
  },
  {
   "cell_type": "markdown",
   "id": "30b859d1",
   "metadata": {},
   "source": [
    "The expense for the time-resolved ratemeters:"
   ]
  },
  {
   "cell_type": "code",
   "execution_count": 76,
   "id": "6203bfb1",
   "metadata": {},
   "outputs": [
    {
     "name": "stdout",
     "output_type": "stream",
     "text": [
      "the TRSR daily telemetry is 0.0891648 Gbit.\n"
     ]
    }
   ],
   "source": [
    "TRSR_REFRESH_PERIOD = 0.256 # seconds\n",
    "TRSR_COUNTS_BITSIZE = 8\n",
    "TRSR_GPS_BITSIZE = 4*8\n",
    "TRSR_BANDS = 8\n",
    "\n",
    "TRSR_TELEMETRY_BITS = (QUADRANTS_NUM*TRSR_BANDS*TRSR_COUNTS_BITSIZE/TRSR_REFRESH_PERIOD + TRSR_GPS_BITSIZE)*(SECONDS_IN_A_DAY)\n",
    "TRSR_TELEMETRY_GBITS = TRSR_TELEMETRY_BITS/10**9\n",
    "print(\"the TRSR daily telemetry is {} Gbit.\".format(TRSR_TELEMETRY_GBITS))"
   ]
  },
  {
   "cell_type": "markdown",
   "id": "dccafa4a",
   "metadata": {},
   "source": [
    "The expense for the energy-resolved ratemeters:"
   ]
  },
  {
   "cell_type": "code",
   "execution_count": 77,
   "id": "e7173c37",
   "metadata": {},
   "outputs": [
    {
     "name": "stdout",
     "output_type": "stream",
     "text": [
      "the ERSR daily telemetry is 0.043875 Gbit.\n"
     ]
    }
   ],
   "source": [
    "ERSR_REFRESH_PERIOD = 4.096 # seconds\n",
    "ERSR_COUNTS_BITSIZE = 8\n",
    "ERSR_GPS_BITSIZE = 4*8\n",
    "ERSR_BANDS = 64\n",
    "\n",
    "ERSR_TELEMETRY_BITS = (QUADRANTS_NUM*ERSR_BANDS*ERSR_COUNTS_BITSIZE/ERSR_REFRESH_PERIOD + ERSR_GPS_BITSIZE/ERSR_REFRESH_PERIOD)*(SECONDS_IN_A_DAY)\n",
    "ERSR_TELEMETRY_GBITS = ERSR_TELEMETRY_BITS/10**9\n",
    "print(\"the ERSR daily telemetry is {} Gbit.\".format(ERSR_TELEMETRY_GBITS))"
   ]
  },
  {
   "cell_type": "code",
   "execution_count": 78,
   "id": "cee2853c",
   "metadata": {},
   "outputs": [
    {
     "name": "stdout",
     "output_type": "stream",
     "text": [
      "the SR daily telemetry is 0.13303979999999999 Gbit.\n"
     ]
    }
   ],
   "source": [
    "SR_TELEMETRY_GBITS = ERSR_TELEMETRY_GBITS + TRSR_TELEMETRY_GBITS\n",
    "print(\"the SR daily telemetry is {} Gbit.\".format(SR_TELEMETRY_GBITS))"
   ]
  },
  {
   "cell_type": "markdown",
   "id": "e6f968f9",
   "metadata": {},
   "source": [
    "## Burst telemetry\n",
    "\n",
    "We use the data obtained with the baseline simulation. Since minimal headers have small impact on burst telemetry we neglect them.\n",
    "\n",
    "### Common burst telemetry"
   ]
  },
  {
   "cell_type": "code",
   "execution_count": 66,
   "id": "f1b9f4d6",
   "metadata": {},
   "outputs": [],
   "source": [
    "COMMONBURST_TELEMETRY_GBITS = 0.03041"
   ]
  },
  {
   "cell_type": "markdown",
   "id": "2cc9c367",
   "metadata": {},
   "source": [
    "### Very bright burst"
   ]
  },
  {
   "cell_type": "code",
   "execution_count": 65,
   "id": "1be02d63",
   "metadata": {},
   "outputs": [],
   "source": [
    "BRIGHTBURST_TELEMETRY_GBITS = 0.08622"
   ]
  },
  {
   "cell_type": "markdown",
   "id": "09ed14c7",
   "metadata": {},
   "source": [
    "---"
   ]
  },
  {
   "cell_type": "markdown",
   "id": "24277f70",
   "metadata": {},
   "source": [
    "# Conclusions"
   ]
  },
  {
   "cell_type": "markdown",
   "id": "d7135625",
   "metadata": {},
   "source": [
    "The estimated total daily budget is :"
   ]
  },
  {
   "cell_type": "code",
   "execution_count": 62,
   "id": "ff89b0bd",
   "metadata": {
    "scrolled": true
   },
   "outputs": [
    {
     "name": "stdout",
     "output_type": "stream",
     "text": [
      "the total daily budget is 0.25 Gbit.\n"
     ]
    }
   ],
   "source": [
    "TOTAL_BUDGET_GBITS = (BRIGHTBURST_TELEMETRY_GBITS + \n",
    "                      COMMONBURST_TELEMETRY_GBITS + \n",
    "                      SR_TELEMETRY_GBITS)\n",
    "\n",
    "print(\"the total daily budget is {:.2f} Gbit.\".format(TOTAL_BUDGET_GBITS))"
   ]
  },
  {
   "cell_type": "markdown",
   "id": "63f28d0c",
   "metadata": {},
   "source": [
    "Note that this calculation does not include any margin. On the brightside however, the impact of LAMs on the telemetry is taken into account, at least to some degree. Indeed, the present estimate of LAM headers is an underestimate due to the assumptions that the maximum event multiplicity equals 2. This situation can be improved providing an estimate of the incidence of high multiplicity events relative to single/double events."
   ]
  },
  {
   "cell_type": "markdown",
   "id": "4b3e6f94",
   "metadata": {},
   "source": [
    "Considering a 30% margin we obtain:"
   ]
  },
  {
   "cell_type": "code",
   "execution_count": 58,
   "id": "620a3de7",
   "metadata": {},
   "outputs": [
    {
     "name": "stdout",
     "output_type": "stream",
     "text": [
      "the total daily budget with 30% margin is 0.28 Gbit.\n"
     ]
    }
   ],
   "source": [
    "MARGIN = 30\n",
    "MARGIN_BUDGET_GBITS = (BRIGHTBURST_TELEMETRY_GBITS + \n",
    "                      COMMONBURST_TELEMETRY_GBITS)*MARGIN/100\n",
    "\n",
    "print(\"the total daily budget with {}% margin is {:.2f} Gbit.\".format(MARGIN, TOTAL_BUDGET_GBITS + MARGIN_BUDGET_GBITS))"
   ]
  },
  {
   "cell_type": "markdown",
   "id": "49de2b1a",
   "metadata": {},
   "source": [
    "For a 95% margin:"
   ]
  },
  {
   "cell_type": "code",
   "execution_count": 59,
   "id": "33709fe4",
   "metadata": {},
   "outputs": [
    {
     "name": "stdout",
     "output_type": "stream",
     "text": [
      "the total daily budget with 95% margin is 0.36 Gbit.\n"
     ]
    }
   ],
   "source": [
    "MARGIN = 95\n",
    "MARGIN_BUDGET_GBITS = (BRIGHTBURST_TELEMETRY_GBITS + \n",
    "                      COMMONBURST_TELEMETRY_GBITS)*MARGIN/100\n",
    "\n",
    "print(\"the total daily budget with {}% margin is {:.2f} Gbit.\".format(MARGIN, TOTAL_BUDGET_GBITS + MARGIN_BUDGET_GBITS))"
   ]
  },
  {
   "cell_type": "code",
   "execution_count": null,
   "id": "4b5a9551",
   "metadata": {},
   "outputs": [],
   "source": []
  }
 ],
 "metadata": {
  "kernelspec": {
   "display_name": "Python 3",
   "language": "python",
   "name": "python3"
  },
  "language_info": {
   "codemirror_mode": {
    "name": "ipython",
    "version": 3
   },
   "file_extension": ".py",
   "mimetype": "text/x-python",
   "name": "python",
   "nbconvert_exporter": "python",
   "pygments_lexer": "ipython3",
   "version": "3.7.9"
  }
 },
 "nbformat": 4,
 "nbformat_minor": 5
}
