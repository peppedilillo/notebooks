{
 "cells": [
  {
   "cell_type": "markdown",
   "id": "63192a61",
   "metadata": {},
   "source": [
    "# Hermes spurious event rate"
   ]
  },
  {
   "cell_type": "markdown",
   "id": "ed15ad7d",
   "metadata": {},
   "source": [
    "The question:\n",
    "\n",
    "_Given a source flux F, what's the probability of observing at least two photons over separate, coupled SDD channel, within a coincidence window $\\Delta t$?_ \n"
   ]
  },
  {
   "cell_type": "markdown",
   "id": "726d13d3",
   "metadata": {},
   "source": [
    "## Montecarlo approach"
   ]
  },
  {
   "cell_type": "markdown",
   "id": "335c648c",
   "metadata": {},
   "source": [
    "The flux of a bright burst is $F' = 100$ photons/cm$^2$/s.\n",
    "Hence, integrating over the HERMES geometric area, the flux over a couple of SDD is ($\\approx 0.9$ cm$^2$) is $F = 90 $ photons/s."
   ]
  },
  {
   "cell_type": "code",
   "execution_count": 34,
   "id": "71fee0c3",
   "metadata": {},
   "outputs": [
    {
     "name": "stdout",
     "output_type": "stream",
     "text": [
      "Fraction of spurios event is : 0.00067\n"
     ]
    }
   ],
   "source": [
    "from scipy.stats import expon\n",
    "import numpy as np\n",
    "\n",
    "F = 90 # photons/s, flux over a couple of SDD\n",
    "\n",
    "N = 1_000_000 # simulation size\n",
    "delays = expon(scale=1 / F).rvs(N) # the wait times\n",
    "on_same_sdd = np.random.choice([True, False], size=N) # True if the photons fell on the same SDD as the one preceding it.\n",
    "\n",
    "coincidence_window = 15 * 10 **-6\n",
    "\n",
    "f = len(delays[(delays < coincidence_window) & (on_same_sdd == False)]) / N\n",
    "print(f\"Fraction of spurios event is : {f:.5f}\")"
   ]
  },
  {
   "cell_type": "markdown",
   "id": "00c53f94",
   "metadata": {},
   "source": [
    "## Math\n",
    "\n",
    "The probability of having a spurious event can be expressed as the conditional probability $P_A$ of counting one or more event over a coincidence window at cell 1; given that we did count one event over a small interval immediately before, at cell 2. Since the two events are independent, we have:\n",
    "\n",
    "$$P = P(A | B) = \\frac{P(A \\wedge B)}{(B)} = \\frac{P(A) P(B)}{P(B)} = P(A)$$\n",
    "\n",
    "Hence, noting $P_\\lambda(k)$ the Poisson probability of observing one count over one coincidence window:\n",
    "\n",
    "$$P = P(A) = 1 - P_{\\lambda}(k = 0) = 1 - \\lambda^0 \\frac{e^{-\\lambda}}{0!} = 1 - e^{-\\lambda}$$\n",
    "\n",
    "where the average count over the window lenght is $\\lambda = \\frac{F \\cdot \\Delta t}{2}$, and:\n",
    "\n",
    "$$ P = 1 - e^{- \\frac{F \\cdot \\Delta t}{2}} $$"
   ]
  },
  {
   "cell_type": "code",
   "execution_count": 49,
   "id": "233c9753",
   "metadata": {},
   "outputs": [
    {
     "name": "stdout",
     "output_type": "stream",
     "text": [
      "theoretical probability is 0.00067.\n"
     ]
    }
   ],
   "source": [
    "print(f\"theoretical probability is {1 - np.exp(- F * coincidence_window / 2):.5f}.\")"
   ]
  },
  {
   "cell_type": "markdown",
   "id": "45bc3f21",
   "metadata": {},
   "source": [
    "Alternative approach. The probability $P$ of observing two counts over the scintillator is equal to the probability of observing the two count over distinct channels plus the probability of observing the two count over different channels (the two events are mutually exclusive).\n",
    "\n",
    "$$ P = P_{\\text{same}} + P_{\\text{distinct}}$$\n",
    "\n",
    "By symmetry:\n",
    "\n",
    "$$P_{\\text{same}} = P_{\\text{distinct}}$$\n",
    "\n",
    "So:\n",
    "\n",
    "$$  P_{\\text{distinct}} = \\frac{P}{2} = \\frac{1}{2} \\int_0^{\\Delta t} Fe^{-Ft} dt =  \\frac{1}{2} (1 - e^{-F\\Delta t})$$"
   ]
  },
  {
   "cell_type": "code",
   "execution_count": 50,
   "id": "ef44604f",
   "metadata": {},
   "outputs": [
    {
     "name": "stdout",
     "output_type": "stream",
     "text": [
      "theoretical probability is 0.00067.\n"
     ]
    }
   ],
   "source": [
    "print(f\"theoretical probability is {0.5 * (1 - np.exp(-F * coincidence_window)):.5f}.\")"
   ]
  },
  {
   "cell_type": "markdown",
   "id": "1c254fbc",
   "metadata": {},
   "source": [
    "![image info](https://m.media-amazon.com/images/I/71j0uMS2gRL._AC_UF1000,1000_QL80_.jpg)"
   ]
  },
  {
   "cell_type": "markdown",
   "id": "867ea13c",
   "metadata": {},
   "source": [
    "## TLDR:\n",
    "\n",
    "\n",
    "I got a count over a SDD one instant before. The probability of having one or more over the next $\\Delta t$ is one minus the probability of having none."
   ]
  }
 ],
 "metadata": {
  "kernelspec": {
   "display_name": "Python 3 (ipykernel)",
   "language": "python",
   "name": "python3"
  },
  "language_info": {
   "codemirror_mode": {
    "name": "ipython",
    "version": 3
   },
   "file_extension": ".py",
   "mimetype": "text/x-python",
   "name": "python",
   "nbconvert_exporter": "python",
   "pygments_lexer": "ipython3",
   "version": "3.10.9"
  }
 },
 "nbformat": 4,
 "nbformat_minor": 5
}
