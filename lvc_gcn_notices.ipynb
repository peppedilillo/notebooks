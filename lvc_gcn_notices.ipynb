{
 "cells": [
  {
   "cell_type": "markdown",
   "id": "4df49ad9-9133-424a-bad4-ff90c98d2991",
   "metadata": {},
   "source": [
    "# Notices from interferometers GCN\n",
    "\n",
    "I streamed from Kafka a number of recent notices from [LVC-GCN](https://gcn.gsfc.nasa.gov/lvc.html) and saved them to individual XML files. This resulted in a collection of ~2500 XML notice file."
   ]
  },
  {
   "cell_type": "code",
   "execution_count": 1,
   "id": "initial_id",
   "metadata": {
    "jupyter": {
     "is_executing": true
    }
   },
   "outputs": [
    {
     "name": "stdout",
     "output_type": "stream",
     "text": [
      "got notices from topics lvc_preliminary, lvc_initial, lvc_retraction, lvc_update, lvc_counterpart.\n"
     ]
    }
   ],
   "source": [
    "from pathlib import Path\n",
    "import re\n",
    "import random; random.seed(10)\n",
    "from random import choice\n",
    "import xml.etree.ElementTree as ET\n",
    "\n",
    "\n",
    "NOTICES_PATH = Path(\"/home/deppep/Dropbox/Progetti/LSST/gcn/kafka-lvc/notices\")\n",
    "FILENAME_PATTERN = r\"voe_(.*?)_(\\d+).xml\"\n",
    "\n",
    "events = {}\n",
    "for file in NOTICES_PATH.iterdir():\n",
    "    if not (match := re.match(FILENAME_PATTERN, file.name)):\n",
    "        print(f\"Cannot match {file.name}\"); continue\n",
    "    topic, offset = match.groups()\n",
    "    events.setdefault(topic, []).append(int(offset))\n",
    "\n",
    "print(f\"got notices from topics {', '.join([*events.keys()])}.\")"
   ]
  },
  {
   "cell_type": "code",
   "execution_count": 2,
   "id": "3beda9b98263c19",
   "metadata": {
    "scrolled": true
   },
   "outputs": [
    {
     "name": "stdout",
     "output_type": "stream",
     "text": [
      "/home/deppep/Dropbox/Progetti/LSST/gcn/kafka-lvc/notices/voe_lvc_preliminary_54869.xml\n",
      "Selected notice 'voe_lvc_preliminary_54869.xml'.\n",
      "<?xml version='1.0' encoding='UTF-8'?>\n",
      "<voe:VOEvent xmlns:xsi=\"http://www.w3.org/2001/XMLSchema-instance\" xmlns:voe=\"http://www.ivoa.net/xml/VOEvent/v2.0\" xsi:schemaLocation=\"http://www.ivoa.net/xml/VOEvent/v2.0 http://www.ivoa.net/xml/VOEvent/VOEvent-v2.0.xsd\" version=\"2.0\" role=\"test\" ivorn=\"ivo://gwnet/LVC#MS250320r-2-Preliminary\">\n",
      "  <Who>\n",
      "    <Date>2025-03-20T17:33:11Z</Date>\n",
      "    <Author>\n",
      "      <contactName>LIGO Scientific Collaboration, Virgo Collaboration, and KAGRA Collaboration</contactName>\n",
      "    </Author>\n",
      "  </Who>\n",
      "  <What>\n",
      "    <Param name=\"Packet_Type\" value=\"150\" dataType=\"int\">\n",
      "      <Description>The Notice Type number is assigned/used within GCN, eg type=150 is an LVC_PRELIMINARY notice</Description>\n",
      "    </Param>\n",
      "    <Param name=\"internal\" value=\"0\" dataType=\"int\">\n",
      "      <Description>Indicates whether this event should be distributed to LSC/Virgo/KAGRA members only</Description>\n",
      "    </Param>\n",
      "    <Param name=\"Pkt_Ser_Num\" value=\"2\" dataType=\"int\">\n",
      "      <Description>A number that increments by 1 each time a new revision is issued for this event</Description>\n",
      "    </Param>\n",
      "    <Param name=\"GraceID\" value=\"MS250320r\" ucd=\"meta.id\" dataType=\"string\">\n",
      "      <Description>Identifier in GraceDB</Description>\n",
      "    </Param>\n",
      "    <Param name=\"AlertType\" value=\"Preliminary\" ucd=\"meta.version\" dataType=\"string\">\n",
      "      <Description>VOEvent alert type</Description>\n",
      "    </Param>\n",
      "    <Param name=\"HardwareInj\" value=\"0\" ucd=\"meta.number\" dataType=\"int\">\n",
      "      <Description>Indicates that this event is a hardware injection if 1, no if 0</Description>\n",
      "    </Param>\n",
      "    <Param name=\"OpenAlert\" value=\"1\" ucd=\"meta.number\" dataType=\"int\">\n",
      "      <Description>Indicates that this event is an open alert if 1, no if 0</Description>\n",
      "    </Param>\n",
      "    <Param name=\"EventPage\" value=\"https://gracedb.ligo.org/superevents/MS250320r/view/\" ucd=\"meta.ref.url\" dataType=\"string\">\n",
      "      <Description>Web page for evolving status of this GW candidate</Description>\n",
      "    </Param>\n",
      "    <Param name=\"Instruments\" value=\"H1,L1\" ucd=\"meta.code\" dataType=\"string\">\n",
      "      <Description>List of instruments used in analysis to identify this event</Description>\n",
      "    </Param>\n",
      "    <Param name=\"FAR\" value=\"9.110699364861297e-14\" unit=\"Hz\" ucd=\"arith.rate;stat.falsealarm\" dataType=\"float\">\n",
      "      <Description>False alarm rate for GW candidates with this strength or greater</Description>\n",
      "    </Param>\n",
      "    <Param name=\"Significant\" value=\"1\" ucd=\"meta.number\" dataType=\"int\">\n",
      "      <Description>Indicates that this event is significant if 1, no if 0</Description>\n",
      "    </Param>\n",
      "    <Param name=\"Group\" value=\"CBC\" ucd=\"meta.code\" dataType=\"string\">\n",
      "      <Description>Data analysis working group</Description>\n",
      "    </Param>\n",
      "    <Param name=\"Pipeline\" value=\"gstlal\" ucd=\"meta.code\" dataType=\"string\">\n",
      "      <Description>Low-latency data analysis pipeline</Description>\n",
      "    </Param>\n",
      "    <Param name=\"Search\" value=\"MDC\" ucd=\"meta.code\" dataType=\"string\">\n",
      "      <Description>Specific low-latency search</Description>\n",
      "    </Param>\n",
      "    <Group name=\"External Coincidence\" type=\"External Coincidence\">\n",
      "      <Param name=\"External_GCN_Notice_Id\" value=\"1426526576\" ucd=\"meta.id\" dataType=\"string\">\n",
      "        <Description>GCN trigger ID of external event</Description>\n",
      "      </Param>\n",
      "      <Param name=\"External_Ivorn\" value=\"ivo://lvk.internal/Fermi#MDC-test_event_2025-03-20T17:22:38.259Z\" ucd=\"meta.id\" dataType=\"string\">\n",
      "        <Description>IVORN of external event</Description>\n",
      "      </Param>\n",
      "      <Param name=\"External_Observatory\" value=\"Fermi\" ucd=\"meta.code\" dataType=\"string\">\n",
      "        <Description>External Observatory</Description>\n",
      "      </Param>\n",
      "      <Param name=\"External_Search\" value=\"MDC\" ucd=\"meta.code\" dataType=\"string\">\n",
      "        <Description>External astrophysical search</Description>\n",
      "      </Param>\n",
      "      <Param name=\"Time_Difference\" value=\"3.62\" ucd=\"meta.code\" dataType=\"float\">\n",
      "        <Description>Time difference between GW candidate and external event, centered on the GW candidate</Description>\n",
      "      </Param>\n",
      "      <Param name=\"Time_Coincidence_FAR\" value=\"5.286840384860531e-18\" unit=\"Hz\" ucd=\"arith.rate;stat.falsealarm\" dataType=\"float\">\n",
      "        <Description>Estimated coincidence false alarm rate in Hz using timing</Description>\n",
      "      </Param>\n",
      "      <Param name=\"Time_Sky_Position_Coincidence_FAR\" value=\"3.376200855781669e-17\" unit=\"Hz\" ucd=\"arith.rate;stat.falsealarm\" dataType=\"float\">\n",
      "        <Description>Estimated coincidence false alarm rate in Hz using timing and sky position</Description>\n",
      "      </Param>\n",
      "      <Param name=\"joint_skymap_fits\" value=\"https://gracedb.ligo.org/api/superevents/MS250320r/files/combined-ext.multiorder.fits,0\" ucd=\"meta.ref.url\" dataType=\"string\">\n",
      "        <Description>Combined GW-External Sky Map FITS</Description>\n",
      "      </Param>\n",
      "      <Description>Properties of joint coincidence found by RAVEN</Description>\n",
      "    </Group>\n",
      "    <Group name=\"GW_SKYMAP\" type=\"GW_SKYMAP\">\n",
      "      <Param name=\"skymap_fits\" value=\"https://gracedb.ligo.org/api/superevents/MS250320r/files/bayestar.multiorder.fits,1\" ucd=\"meta.ref.url\" dataType=\"string\">\n",
      "        <Description>Sky Map FITS</Description>\n",
      "      </Param>\n",
      "    </Group>\n",
      "    <Group name=\"Classification\" type=\"Classification\">\n",
      "      <Param name=\"BNS\" value=\"0.9999823128590786\" ucd=\"stat.probability\" dataType=\"float\">\n",
      "        <Description>Probability that the source is a binary neutron star merger (both objects lighter than 3 solar masses)</Description>\n",
      "      </Param>\n",
      "      <Param name=\"NSBH\" value=\"0.0\" ucd=\"stat.probability\" dataType=\"float\">\n",
      "        <Description>Probability that the source is a neutron star-black merger (secondary lighter than 3 solar masses)</Description>\n",
      "      </Param>\n",
      "      <Param name=\"BBH\" value=\"0.0\" ucd=\"stat.probability\" dataType=\"float\">\n",
      "        <Description>Probability that the source is a binary black hole merger (both objects heavier than 3 solar masses)</Description>\n",
      "      </Param>\n",
      "      <Param name=\"Terrestrial\" value=\"1.7687140921377942e-05\" ucd=\"stat.probability\" dataType=\"float\">\n",
      "        <Description>Probability that the source is terrestrial (i.e., a background noise fluctuation or a glitch)</Description>\n",
      "      </Param>\n",
      "      <Description>Source classification: binary neutron star (BNS), neutron star-black hole (NSBH), binary black hole (BBH), or terrestrial (noise)</Description>\n",
      "    </Group>\n",
      "    <Group name=\"Properties\" type=\"Properties\">\n",
      "      <Param name=\"HasNS\" value=\"1.0\" ucd=\"stat.probability\" dataType=\"float\">\n",
      "        <Description>Probability that at least one object in the binary has a mass that is less than 3 solar masses</Description>\n",
      "      </Param>\n",
      "      <Param name=\"HasRemnant\" value=\"1.0\" ucd=\"stat.probability\" dataType=\"float\">\n",
      "        <Description>Probability that a nonzero mass was ejected outside the central remnant object</Description>\n",
      "      </Param>\n",
      "      <Param name=\"HasMassGap\" value=\"0.0\" ucd=\"stat.probability\" dataType=\"float\">\n",
      "        <Description>Probability that the source has at least one object between 3 and 5 solar masses</Description>\n",
      "      </Param>\n",
      "      <Description>Qualitative properties of the source, conditioned on the assumption that the signal is an astrophysical compact binary merger</Description>\n",
      "    </Group>\n",
      "  </What>\n",
      "  <WhereWhen>\n",
      "    <ObsDataLocation>\n",
      "      <ObservatoryLocation id=\"LIGO Virgo\"/>\n",
      "      <ObservationLocation>\n",
      "        <AstroCoordSystem id=\"UTC-FK5-GEO\"/>\n",
      "        <AstroCoords coord_system_id=\"UTC-FK5-GEO\">\n",
      "          <Time unit=\"s\">\n",
      "            <TimeInstant>\n",
      "              <ISOTime>2025-03-20T17:22:34.636660Z</ISOTime>\n",
      "            </TimeInstant>\n",
      "          </Time>\n",
      "        </AstroCoords>\n",
      "      </ObservationLocation>\n",
      "    </ObsDataLocation>\n",
      "  </WhereWhen>\n",
      "  <Description>Report of a candidate gravitational wave event</Description>\n",
      "  <How>\n",
      "    <Description>Candidate gravitational wave event identified by low-latency analysis</Description>\n",
      "    <Description>H1: LIGO Hanford 4 km gravitational wave detector</Description>\n",
      "    <Description>L1: LIGO Livingston 4 km gravitational wave detector</Description>\n",
      "  </How>\n",
      "  <Citations>\n",
      "    <EventIVORN cite=\"supersedes\">ivo://gwnet/LVC#MS250320r-1-Preliminary</EventIVORN>\n",
      "    <Description>Initial localization is now available (preliminary)</Description>\n",
      "  </Citations>\n",
      "</voe:VOEvent>\n",
      "\n"
     ]
    }
   ],
   "source": [
    "topic = \"lvc_preliminary\"\n",
    "voe_random_path = NOTICES_PATH / f\"voe_{topic}_{choice(events[topic])}.xml\"\n",
    "print(voe_random_path)\n",
    "print(f\"Selected notice '{voe_random_path.name}'.\")\n",
    "\n",
    "with open(voe_random_path, \"r\") as f:\n",
    "    lines = f.readlines()\n",
    "print(\"\".join(lines))"
   ]
  },
  {
   "cell_type": "markdown",
   "id": "566cd84a-4b03-4625-93d0-40ea50940fe9",
   "metadata": {},
   "source": [
    "## LVC notice feature extractor\n",
    "\n",
    "For parsing the XML content we use the same code we wrote for GBM-notices (imported here as `voeparser`). \n",
    "\n",
    "We write functions to extract a number of useful features from a single LVC notice."
   ]
  },
  {
   "cell_type": "code",
   "execution_count": 3,
   "id": "bcf93a03-baeb-46ce-9618-0d7d49a663a1",
   "metadata": {},
   "outputs": [],
   "source": [
    "from datetime import datetime, timezone\n",
    "from typing import Generator\n",
    "\n",
    "from voeparser import parse_notice\n",
    "\n",
    "\n",
    "\n",
    "def _get_nested_key(\n",
    "        notice: dict,\n",
    "        name: str,\n",
    "        key: str,\n",
    ") -> dict:\n",
    "    \"\"\"\n",
    "    Returns first nested 'key' matching `name` in notice.\n",
    "    Returns empty dict if no match is found or if notice does not contain `key`.\n",
    "    \"\"\"\n",
    "    if notice == {} or key not in notice:\n",
    "        return {}\n",
    "    param_list = notice[key]\n",
    "    if not isinstance(param_list, list):\n",
    "        param_list = [param_list]\n",
    "    for param in param_list:\n",
    "        if param[\"@name\"] == name:\n",
    "            return param\n",
    "    return {}\n",
    "\n",
    "def get_param(\n",
    "        notice: dict,\n",
    "        name: str\n",
    ") -> dict:\n",
    "    \"\"\"\n",
    "    Returns first parameter matching `name` in notice.\n",
    "    Returns empty dict otherwise.\n",
    "    \"\"\"\n",
    "    return _get_nested_key(notice, name, \"Param\")\n",
    "\n",
    "def get_group(\n",
    "        notice: dict,\n",
    "        name: str\n",
    ") -> dict:\n",
    "    \"\"\"\n",
    "    Returns first group matching `name` in notice.\n",
    "    Returns empty dict otherwise.\n",
    "    \"\"\"\n",
    "    return _get_nested_key(notice, name, \"Group\")\n",
    ".\n",
    "def get_skymap_url(notice: dict) -> str | None:\n",
    "    return get_param(get_group(notice[\"What\"], \"GW_SKYMAP\"), \"skymap_fits\").get(\"@value\", None)\n",
    "\n",
    "def get_sernum(notice: dict) -> int | None:\n",
    "    p = get_param(notice[\"What\"], \"Pkt_Ser_Num\").get(\"@value\", None)\n",
    "    return int(p) if p is not None else p\n",
    "    \n",
    "def get_notice_time(notice: dict) -> datetime:\n",
    "    dt = datetime.fromisoformat(notice[\"Who\"][\"Date\"][\"#text\"])\n",
    "    return dt\n",
    "\n",
    "\n",
    "PATTERN_COORDS_SYSTEM_ID = r\"(.*?)-(.*?)-(.*?)\"\n",
    "\n",
    "\n",
    "def _get_coords(notice: dict) -> dict:\n",
    "    return notice[\"WhereWhen\"][\"ObsDataLocation\"][\"ObservationLocation\"][\"AstroCoords\"]\n",
    "\n",
    "def get_coordsys(notice: dict) -> tuple[str, str, str]:\n",
    "    coords = _get_coords(notice)\n",
    "    if match := re.match(PATTERN_COORDS_SYSTEM_ID, (_cs := coords[\"@coord_system_id\"]), ):\n",
    "        tz, frame, geo = match.groups()\n",
    "    else:\n",
    "        raise ValueError(f\"Unknown coordinate system '{_cs.}'.\")\n",
    "    return tz, frame, geo\n",
    "\n",
    "def get_obs_time(notice: dict) -> datetime:\n",
    "    tz_str, _, _ = get_coordsys(notice)\n",
    "\n",
    "    if tz_str == \"UTC\":\n",
    "        tz = timezone.utc\n",
    "    else:\n",
    "        raise ValueError(f\"Unknown time zone {tz_str}\")\n",
    "\n",
    "    coords = _get_coords(notice)\n",
    "    dt = datetime.fromisoformat(coords[\"Time\"][\"TimeInstant\"][\"ISOTime\"][\"#text\"])\n",
    "    return dt.replace(tzinfo=tz)\n",
    "\n",
    "SOURCES = [\n",
    "    \"BNS\",\n",
    "    \"NSBH\",\n",
    "    \"BBH\",\n",
    "    \"Terrestrial\",\n",
    "]\n",
    "\n",
    "def get_sources_likelihood(notice: dict) -> Generator:\n",
    "    for (source, likelihood) in sorted([\n",
    "        (s, get_param(get_group(notice[\"What\"], \"Classification\"), s).get(\"@value\", None))\n",
    "            for s in [\n",
    "                \"BNS\", \n",
    "                \"NSBH\", \n",
    "                \"BBH\", \n",
    "                \"Terrestrial\",\n",
    "            ]\n",
    "        ],\n",
    "        key = lambda x: -float(x[1]) if x[1] is not None else +666,  # likelihood value are bound between 0 and 1.\n",
    "    ):\n",
    "        yield source, float(likelihood) if likelihood is not None else None\n",
    "    return\n",
    "\n",
    "def get_source_most_likely(notice: dict) -> tuple[str, float] | tuple[None, None]:\n",
    "    source, llk = get_sources_likelihood(notice).__next__()\n",
    "    if not llk:\n",
    "        return None, None\n",
    "    return source, llk\n",
    "\n",
    "def get_grace_id(notice: dict) -> str:\n",
    "    return get_param(notice[\"What\"], \"GraceID\")[\"@value\"]\n",
    "\n",
    "def is_test(notice: dict) -> bool:\n",
    "    return get_grace_id(notice).startswith(\"MS\")"
   ]
  },
  {
   "cell_type": "code",
   "execution_count": 4,
   "id": "5a9f154d-d044-471f-be5a-e24484b32588",
   "metadata": {},
   "outputs": [
    {
     "name": "stdout",
     "output_type": "stream",
     "text": [
      "Parsed 2557 notices and run functions get_skymap_url, get_notice_time, get_sernum, get_coordsys, get_obs_time, get_source_most_likely, get_grace_id, is_test on them with 0 errors. \n"
     ]
    }
   ],
   "source": [
    "# test the funnctions above on the notices looking for errors\n",
    "errors = {}\n",
    "for filepath in NOTICES_PATH.iterdir():\n",
    "    notice = parse_notice(filepath)\n",
    "    for f in (fs := [\n",
    "        get_skymap_url, \n",
    "        get_notice_time,\n",
    "        get_sernum,\n",
    "        get_coordsys,\n",
    "        get_obs_time,\n",
    "        get_source_most_likely,\n",
    "        get_grace_id,\n",
    "        is_test,\n",
    "    ]):\n",
    "        try:\n",
    "            f(notice)\n",
    "        except Exception as e:\n",
    "            errors.setdefault(f.__name__, []).append(filepath.name)\n",
    "\n",
    "print(f\"Parsed {len([*NOTICES_PATH.iterdir()])} notices and run functions {', '.join(map(lambda x: x.__name__, fs))} on them with {len([e for k in errors for e in errors[k]])} errors. \")\n",
    "if errors:\n",
    "    print(f\"Errors were raised on funcionts {', '.join(errors.keys())}\")"
   ]
  },
  {
   "cell_type": "markdown",
   "id": "b649842c-76fd-4553-a5c4-d8856bf678c5",
   "metadata": {},
   "source": [
    "# LVC notice analysis\n",
    "\n",
    "We create a dataframe table containing informations extracted from the notices."
   ]
  },
  {
   "cell_type": "code",
   "execution_count": 5,
   "id": "ee900ac4-c0fa-4431-b707-137548ec4b85",
   "metadata": {},
   "outputs": [],
   "source": [
    "import pandas as pd\n",
    "\n",
    "\n",
    "def topic(filename: str):\n",
    "    return re.match(FILENAME_PATTERN, filename).groups()[0]\n",
    "\n",
    "\n",
    "filepaths = [f for f in NOTICES_PATH.iterdir()]\n",
    "notices = [parse_notice(f) for f in filepaths]\n",
    "\n",
    "filenames = [f.name for f in filepaths]\n",
    "topics = [topic(fname) for fname in filenames]\n",
    "notice_times = [get_notice_time(n) for n in notices]\n",
    "obs_times = [get_obs_time(n) for n in notices]\n",
    "skymaps = [get_skymap_url(n) for n in notices]\n",
    "grace_ids = [get_grace_id(n) for n in notices]\n",
    "sernum = [get_sernum(n) for n in notices]\n",
    "istests = [is_test(n) for n in notices]\n",
    "sourcellks = [get_source_most_likely(n) for n in notices]\n",
    "sources, llks = zip(*sourcellks)\n",
    "# computes delays\n",
    "start_times = {}\n",
    "for n in notices:\n",
    "    grace_id = get_grace_id(n)\n",
    "    nt = get_notice_time(n)\n",
    "    start_times[grace_id] = min(start_times[grace_id], nt) if grace_id in start_times else nt\n",
    "delays = [(nt - start_times[grace_id]).seconds for nt, grace_id in zip(notice_times, grace_ids)]\n",
    "\n",
    "notices_wtests_df = pd.DataFrame({\n",
    "    \"filename\": filenames,\n",
    "    \"topic\": topics,\n",
    "    \"graceId\": grace_ids,\n",
    "    \"sernum\": sernum,\n",
    "    \"notice_time\": notice_times,\n",
    "    \"obs_time\": obs_times,\n",
    "    \"skymap\": skymaps,\n",
    "    \"delay\": delays,\n",
    "    \"source\": sources,\n",
    "    \"source_prob\": llks,\n",
    "    \"istest\": istests,\n",
    "})\n",
    "\n",
    "\n",
    "ORDERED_TOPICS = [\n",
    "    \"lvc_preliminary\",\n",
    "    \"lvc_initial\",\n",
    "    \"lvc_update\",\n",
    "    \"lvc_retraction\",\n",
    "    \"lvc_counterpart\",\n",
    "]\n",
    "notices_wtests_df.topic = pd.Categorical(notices_wtests_df.topic, categories=ORDERED_TOPICS, ordered=True)"
   ]
  },
  {
   "cell_type": "markdown",
   "id": "e925c39b-bb7b-4009-944c-09b36941c30b",
   "metadata": {},
   "source": [
    "The dataset looks like this:"
   ]
  },
  {
   "cell_type": "code",
   "execution_count": 6,
   "id": "5fdd4ca7-fa63-4a18-9756-2186e986bd3c",
   "metadata": {},
   "outputs": [
    {
     "data": {
      "text/html": [
       "<div>\n",
       "<style scoped>\n",
       "    .dataframe tbody tr th:only-of-type {\n",
       "        vertical-align: middle;\n",
       "    }\n",
       "\n",
       "    .dataframe tbody tr th {\n",
       "        vertical-align: top;\n",
       "    }\n",
       "\n",
       "    .dataframe thead th {\n",
       "        text-align: right;\n",
       "    }\n",
       "</style>\n",
       "<table border=\"1\" class=\"dataframe\">\n",
       "  <thead>\n",
       "    <tr style=\"text-align: right;\">\n",
       "      <th></th>\n",
       "      <th>filename</th>\n",
       "      <th>topic</th>\n",
       "      <th>graceId</th>\n",
       "      <th>sernum</th>\n",
       "      <th>notice_time</th>\n",
       "      <th>obs_time</th>\n",
       "      <th>skymap</th>\n",
       "      <th>delay</th>\n",
       "      <th>source</th>\n",
       "      <th>source_prob</th>\n",
       "      <th>istest</th>\n",
       "    </tr>\n",
       "  </thead>\n",
       "  <tbody>\n",
       "    <tr>\n",
       "      <th>0</th>\n",
       "      <td>voe_lvc_preliminary_55725.xml</td>\n",
       "      <td>lvc_preliminary</td>\n",
       "      <td>MS250404m</td>\n",
       "      <td>1</td>\n",
       "      <td>2025-04-04 12:28:36+00:00</td>\n",
       "      <td>2025-04-04 12:15:07.580318+00:00</td>\n",
       "      <td>https://gracedb.ligo.org/api/superevents/MS250...</td>\n",
       "      <td>0</td>\n",
       "      <td>BNS</td>\n",
       "      <td>0.999996</td>\n",
       "      <td>True</td>\n",
       "    </tr>\n",
       "    <tr>\n",
       "      <th>1</th>\n",
       "      <td>voe_lvc_preliminary_54554.xml</td>\n",
       "      <td>lvc_preliminary</td>\n",
       "      <td>MS250315b</td>\n",
       "      <td>1</td>\n",
       "      <td>2025-03-15 01:28:35+00:00</td>\n",
       "      <td>2025-03-15 01:18:17.033058+00:00</td>\n",
       "      <td>https://gracedb.ligo.org/api/superevents/MS250...</td>\n",
       "      <td>0</td>\n",
       "      <td>BNS</td>\n",
       "      <td>0.999993</td>\n",
       "      <td>True</td>\n",
       "    </tr>\n",
       "    <tr>\n",
       "      <th>2</th>\n",
       "      <td>voe_lvc_initial_11978.xml</td>\n",
       "      <td>lvc_initial</td>\n",
       "      <td>MS250404m</td>\n",
       "      <td>3</td>\n",
       "      <td>2025-04-04 12:38:30+00:00</td>\n",
       "      <td>2025-04-04 12:15:07.580318+00:00</td>\n",
       "      <td>https://gracedb.ligo.org/api/superevents/MS250...</td>\n",
       "      <td>594</td>\n",
       "      <td>BNS</td>\n",
       "      <td>0.999996</td>\n",
       "      <td>True</td>\n",
       "    </tr>\n",
       "    <tr>\n",
       "      <th>3</th>\n",
       "      <td>voe_lvc_preliminary_55294.xml</td>\n",
       "      <td>lvc_preliminary</td>\n",
       "      <td>MS250328c</td>\n",
       "      <td>1</td>\n",
       "      <td>2025-03-28 02:28:34+00:00</td>\n",
       "      <td>2025-03-28 02:13:06.205851+00:00</td>\n",
       "      <td>https://gracedb.ligo.org/api/superevents/MS250...</td>\n",
       "      <td>0</td>\n",
       "      <td>BNS</td>\n",
       "      <td>0.999987</td>\n",
       "      <td>True</td>\n",
       "    </tr>\n",
       "    <tr>\n",
       "      <th>4</th>\n",
       "      <td>voe_lvc_preliminary_54478.xml</td>\n",
       "      <td>lvc_preliminary</td>\n",
       "      <td>MS250313s</td>\n",
       "      <td>1</td>\n",
       "      <td>2025-03-13 18:28:35+00:00</td>\n",
       "      <td>2025-03-13 18:28:05.156089+00:00</td>\n",
       "      <td>https://gracedb.ligo.org/api/superevents/MS250...</td>\n",
       "      <td>0</td>\n",
       "      <td>BNS</td>\n",
       "      <td>1.000000</td>\n",
       "      <td>True</td>\n",
       "    </tr>\n",
       "  </tbody>\n",
       "</table>\n",
       "</div>"
      ],
      "text/plain": [
       "                        filename            topic    graceId  sernum  \\\n",
       "0  voe_lvc_preliminary_55725.xml  lvc_preliminary  MS250404m       1   \n",
       "1  voe_lvc_preliminary_54554.xml  lvc_preliminary  MS250315b       1   \n",
       "2      voe_lvc_initial_11978.xml      lvc_initial  MS250404m       3   \n",
       "3  voe_lvc_preliminary_55294.xml  lvc_preliminary  MS250328c       1   \n",
       "4  voe_lvc_preliminary_54478.xml  lvc_preliminary  MS250313s       1   \n",
       "\n",
       "                 notice_time                         obs_time  \\\n",
       "0  2025-04-04 12:28:36+00:00 2025-04-04 12:15:07.580318+00:00   \n",
       "1  2025-03-15 01:28:35+00:00 2025-03-15 01:18:17.033058+00:00   \n",
       "2  2025-04-04 12:38:30+00:00 2025-04-04 12:15:07.580318+00:00   \n",
       "3  2025-03-28 02:28:34+00:00 2025-03-28 02:13:06.205851+00:00   \n",
       "4  2025-03-13 18:28:35+00:00 2025-03-13 18:28:05.156089+00:00   \n",
       "\n",
       "                                              skymap  delay source  \\\n",
       "0  https://gracedb.ligo.org/api/superevents/MS250...      0    BNS   \n",
       "1  https://gracedb.ligo.org/api/superevents/MS250...      0    BNS   \n",
       "2  https://gracedb.ligo.org/api/superevents/MS250...    594    BNS   \n",
       "3  https://gracedb.ligo.org/api/superevents/MS250...      0    BNS   \n",
       "4  https://gracedb.ligo.org/api/superevents/MS250...      0    BNS   \n",
       "\n",
       "   source_prob  istest  \n",
       "0     0.999996    True  \n",
       "1     0.999993    True  \n",
       "2     0.999996    True  \n",
       "3     0.999987    True  \n",
       "4     1.000000    True  "
      ]
     },
     "execution_count": 6,
     "metadata": {},
     "output_type": "execute_result"
    }
   ],
   "source": [
    "notices_wtests_df.head()"
   ]
  },
  {
   "cell_type": "markdown",
   "id": "27ac985c-c66d-4667-9cd4-300f2a704a07",
   "metadata": {},
   "source": [
    "It spans a little more than one month."
   ]
  },
  {
   "cell_type": "code",
   "execution_count": 7,
   "id": "e7966420-f2a1-4c8f-a343-2eac92b3d5e9",
   "metadata": {},
   "outputs": [
    {
     "data": {
      "text/plain": [
       "count                                   2557\n",
       "mean     2025-03-22 14:00:47.231663360+00:00\n",
       "min         2025-03-04 12:26:35.771668+00:00\n",
       "25%      2025-03-14 15:25:25.711911936+00:00\n",
       "50%      2025-03-22 14:21:53.605187072+00:00\n",
       "75%      2025-03-30 03:25:54.591322880+00:00\n",
       "max         2025-04-07 13:18:59.053668+00:00\n",
       "Name: obs_time, dtype: object"
      ]
     },
     "execution_count": 7,
     "metadata": {},
     "output_type": "execute_result"
    }
   ],
   "source": [
    "notices_wtests_df[\"obs_time\"].describe()"
   ]
  },
  {
   "cell_type": "markdown",
   "id": "29b888eb-45e9-41b3-ae00-670d138ce0a3",
   "metadata": {},
   "source": [
    "Events with ID starting by MS are not real and get streamed to facilitate testing (see docs linked at top of this notebook). \n",
    "\n",
    "We create a subtable with only non-test notices apart."
   ]
  },
  {
   "cell_type": "code",
   "execution_count": 8,
   "id": "d7ae0c7b-c958-4f5c-b9bd-c277f1d4ff0a",
   "metadata": {},
   "outputs": [
    {
     "data": {
      "text/html": [
       "<div>\n",
       "<style scoped>\n",
       "    .dataframe tbody tr th:only-of-type {\n",
       "        vertical-align: middle;\n",
       "    }\n",
       "\n",
       "    .dataframe tbody tr th {\n",
       "        vertical-align: top;\n",
       "    }\n",
       "\n",
       "    .dataframe thead th {\n",
       "        text-align: right;\n",
       "    }\n",
       "</style>\n",
       "<table border=\"1\" class=\"dataframe\">\n",
       "  <thead>\n",
       "    <tr style=\"text-align: right;\">\n",
       "      <th></th>\n",
       "      <th>filename</th>\n",
       "      <th>topic</th>\n",
       "      <th>graceId</th>\n",
       "      <th>sernum</th>\n",
       "      <th>notice_time</th>\n",
       "      <th>obs_time</th>\n",
       "      <th>skymap</th>\n",
       "      <th>delay</th>\n",
       "      <th>source</th>\n",
       "      <th>source_prob</th>\n",
       "      <th>istest</th>\n",
       "    </tr>\n",
       "  </thead>\n",
       "  <tbody>\n",
       "    <tr>\n",
       "      <th>18</th>\n",
       "      <td>voe_lvc_preliminary_55570.xml</td>\n",
       "      <td>lvc_preliminary</td>\n",
       "      <td>S250401bi</td>\n",
       "      <td>1</td>\n",
       "      <td>2025-04-01 08:06:39+00:00</td>\n",
       "      <td>2025-04-01 08:06:13.662295+00:00</td>\n",
       "      <td>https://gracedb.ligo.org/api/superevents/S2504...</td>\n",
       "      <td>0</td>\n",
       "      <td>Terrestrial</td>\n",
       "      <td>0.927047</td>\n",
       "      <td>False</td>\n",
       "    </tr>\n",
       "    <tr>\n",
       "      <th>21</th>\n",
       "      <td>voe_lvc_preliminary_55347.xml</td>\n",
       "      <td>lvc_preliminary</td>\n",
       "      <td>S250328cg</td>\n",
       "      <td>2</td>\n",
       "      <td>2025-03-28 22:09:20+00:00</td>\n",
       "      <td>2025-03-28 22:04:20.962402+00:00</td>\n",
       "      <td>https://gracedb.ligo.org/api/superevents/S2503...</td>\n",
       "      <td>275</td>\n",
       "      <td>Terrestrial</td>\n",
       "      <td>0.836615</td>\n",
       "      <td>False</td>\n",
       "    </tr>\n",
       "    <tr>\n",
       "      <th>33</th>\n",
       "      <td>voe_lvc_preliminary_55210.xml</td>\n",
       "      <td>lvc_preliminary</td>\n",
       "      <td>S250326cp</td>\n",
       "      <td>2</td>\n",
       "      <td>2025-03-26 19:35:38+00:00</td>\n",
       "      <td>2025-03-26 19:30:27.172973+00:00</td>\n",
       "      <td>https://gracedb.ligo.org/api/superevents/S2503...</td>\n",
       "      <td>276</td>\n",
       "      <td>Terrestrial</td>\n",
       "      <td>0.892434</td>\n",
       "      <td>False</td>\n",
       "    </tr>\n",
       "    <tr>\n",
       "      <th>39</th>\n",
       "      <td>voe_lvc_preliminary_54623.xml</td>\n",
       "      <td>lvc_preliminary</td>\n",
       "      <td>S250316bl</td>\n",
       "      <td>2</td>\n",
       "      <td>2025-03-16 08:43:19+00:00</td>\n",
       "      <td>2025-03-16 08:37:31.698242+00:00</td>\n",
       "      <td>https://gracedb.ligo.org/api/superevents/S2503...</td>\n",
       "      <td>300</td>\n",
       "      <td>Terrestrial</td>\n",
       "      <td>0.945901</td>\n",
       "      <td>False</td>\n",
       "    </tr>\n",
       "    <tr>\n",
       "      <th>41</th>\n",
       "      <td>voe_lvc_preliminary_55190.xml</td>\n",
       "      <td>lvc_preliminary</td>\n",
       "      <td>S250326bn</td>\n",
       "      <td>2</td>\n",
       "      <td>2025-03-26 12:18:57+00:00</td>\n",
       "      <td>2025-03-26 12:13:14.097700+00:00</td>\n",
       "      <td>https://gracedb.ligo.org/api/superevents/S2503...</td>\n",
       "      <td>276</td>\n",
       "      <td>Terrestrial</td>\n",
       "      <td>0.995619</td>\n",
       "      <td>False</td>\n",
       "    </tr>\n",
       "  </tbody>\n",
       "</table>\n",
       "</div>"
      ],
      "text/plain": [
       "                         filename            topic    graceId  sernum  \\\n",
       "18  voe_lvc_preliminary_55570.xml  lvc_preliminary  S250401bi       1   \n",
       "21  voe_lvc_preliminary_55347.xml  lvc_preliminary  S250328cg       2   \n",
       "33  voe_lvc_preliminary_55210.xml  lvc_preliminary  S250326cp       2   \n",
       "39  voe_lvc_preliminary_54623.xml  lvc_preliminary  S250316bl       2   \n",
       "41  voe_lvc_preliminary_55190.xml  lvc_preliminary  S250326bn       2   \n",
       "\n",
       "                  notice_time                         obs_time  \\\n",
       "18  2025-04-01 08:06:39+00:00 2025-04-01 08:06:13.662295+00:00   \n",
       "21  2025-03-28 22:09:20+00:00 2025-03-28 22:04:20.962402+00:00   \n",
       "33  2025-03-26 19:35:38+00:00 2025-03-26 19:30:27.172973+00:00   \n",
       "39  2025-03-16 08:43:19+00:00 2025-03-16 08:37:31.698242+00:00   \n",
       "41  2025-03-26 12:18:57+00:00 2025-03-26 12:13:14.097700+00:00   \n",
       "\n",
       "                                               skymap  delay       source  \\\n",
       "18  https://gracedb.ligo.org/api/superevents/S2504...      0  Terrestrial   \n",
       "21  https://gracedb.ligo.org/api/superevents/S2503...    275  Terrestrial   \n",
       "33  https://gracedb.ligo.org/api/superevents/S2503...    276  Terrestrial   \n",
       "39  https://gracedb.ligo.org/api/superevents/S2503...    300  Terrestrial   \n",
       "41  https://gracedb.ligo.org/api/superevents/S2503...    276  Terrestrial   \n",
       "\n",
       "    source_prob  istest  \n",
       "18     0.927047   False  \n",
       "21     0.836615   False  \n",
       "33     0.892434   False  \n",
       "39     0.945901   False  \n",
       "41     0.995619   False  "
      ]
     },
     "execution_count": 8,
     "metadata": {},
     "output_type": "execute_result"
    }
   ],
   "source": [
    "notices_df = notices_wtests_df[notices_wtests_df[\"istest\"] == False]\n",
    "notices_df.head()"
   ]
  },
  {
   "cell_type": "markdown",
   "id": "52592cf4-000a-430e-bf83-107c0b117732",
   "metadata": {},
   "source": [
    "It's worthy to note that non-test notices have stopped since April 1st. This should be expected since [LIGO/Virgo/Kagra appear to have stopped operations since this day.](https://observing.docs.ligo.org/plan/). "
   ]
  },
  {
   "cell_type": "code",
   "execution_count": 9,
   "id": "cc5fa828-df34-4770-8ae8-31b48a715a7e",
   "metadata": {},
   "outputs": [
    {
     "data": {
      "text/plain": [
       "count                                    339\n",
       "mean     2025-03-20 07:18:43.068337920+00:00\n",
       "min         2025-03-07 17:09:12.726543+00:00\n",
       "25%      2025-03-12 23:27:29.157362688+00:00\n",
       "50%      2025-03-20 02:18:17.932495104+00:00\n",
       "75%      2025-03-28 01:05:59.727800064+00:00\n",
       "max         2025-04-01 13:39:39.382800+00:00\n",
       "Name: obs_time, dtype: object"
      ]
     },
     "execution_count": 9,
     "metadata": {},
     "output_type": "execute_result"
    }
   ],
   "source": [
    "notices_df[\"obs_time\"].describe()"
   ]
  },
  {
   "cell_type": "markdown",
   "id": "8890b9ef-ffb5-48ae-af89-93327c3bbac4",
   "metadata": {},
   "source": [
    "## LVC topics, tests notices and sources\n",
    "\n",
    "We understand that the vast majority of the notices were tests and that most of the non-test notices are of the \"preliminary\" kind."
   ]
  },
  {
   "cell_type": "code",
   "execution_count": 10,
   "id": "30a5b5cd-eddb-49fe-ba48-6cbbd6071377",
   "metadata": {},
   "outputs": [
    {
     "data": {
      "image/png": "[encoded data removed]",
      "text/plain": [
       "<Figure size 640x480 with 1 Axes>"
      ]
     },
     "metadata": {},
     "output_type": "display_data"
    }
   ],
   "source": [
    "import seaborn as sns\n",
    "import matplotlib.pyplot as plt\n",
    "\n",
    "sns.barplot(notices_wtests_df[\"topic\"].value_counts(), color=\"grey\", label=\"with tests\")\n",
    "sns.barplot(notices_df[\"topic\"].value_counts(), color=\"red\", label=\"real events\")\n",
    "plt.title(\"Number of notice per topic\")\n",
    "plt.ylabel(\"Counts\")\n",
    "plt.xlabel(\"Notice topic\")\n",
    "plt.xticks(rotation=30)\n",
    "plt.semilogy(base=10)\n",
    "plt.legend()\n",
    "plt.show()"
   ]
  },
  {
   "cell_type": "markdown",
   "id": "e59d791a-da0e-4f7e-aa75-e48d629e597f",
   "metadata": {},
   "source": [
    "For what concerns predicted sources we can see that most of the real event were attributed a terrestrial nature , that we got no binary neutro star alert during time inteval spanned by the dataset, but only binary black-hole ones which are not that interesting, since they are expected to produce no electromagnnetic counterpart|."
   ]
  },
  {
   "cell_type": "code",
   "execution_count": 11,
   "id": "fe049161-3d69-47bf-b626-52bceee6a6eb",
   "metadata": {},
   "outputs": [
    {
     "data": {
      "image/png": "[encoded data removed]",
      "text/plain": [
       "<Figure size 640x480 with 1 Axes>"
      ]
     },
     "metadata": {},
     "output_type": "display_data"
    }
   ],
   "source": [
    "import seaborn as sns\n",
    "import matplotlib.pyplot as plt\n",
    "\n",
    "sns.barplot(notices_df[\"source\"].value_counts(), color=\"red\")\n",
    "plt.title(\"Number of notice per source category\")\n",
    "plt.ylabel(\"Counts\")\n",
    "plt.xlabel(\"Most likely source\")\n",
    "plt.xticks(rotation=30)\n",
    "plt.show()"
   ]
  },
  {
   "cell_type": "markdown",
   "id": "7cfedade-5f61-45e7-94b1-65018b534477",
   "metadata": {},
   "source": [
    "Another interesting thing to check is if all the non-test notices gets a skymap."
   ]
  },
  {
   "cell_type": "code",
   "execution_count": 12,
   "id": "e4323359-f3b8-48e1-a3f0-cacf203a8573",
   "metadata": {},
   "outputs": [
    {
     "name": "stdout",
     "output_type": "stream",
     "text": [
      "Skipped map availability test\n"
     ]
    }
   ],
   "source": [
    "if not_on_hurry := False:  # this will take some time, so i'm disabling it by default\n",
    "    import requests\n",
    "    \n",
    "    for skymap in notices_df[\"skymap\"]:\n",
    "        if skymap is None:\n",
    "            continue\n",
    "        if sc := requests.get(skymap).status_code != 200:\n",
    "            raise ValueError(f\"Could not reach skymap '{skymap}': HTTP requests results in status code {sc}.\")\n",
    "    print(\"All skymap are reachable via http.\")\n",
    "else:\n",
    "    print(\"Skipped map availability test\")"
   ]
  },
  {
   "cell_type": "markdown",
   "id": "b3253b98-92f4-48d8-a0f4-b921d662a1e6",
   "metadata": {},
   "source": [
    "# Localization"
   ]
  },
  {
   "cell_type": "markdown",
   "id": "c69f2bac-5a76-4d5d-8213-b4c86743fb5c",
   "metadata": {},
   "source": [
    "Let's try to plot a fucking localization map. I have found a good discussion on interacting with LVC localization [here](https://emfollow.docs.ligo.org/userguide/tutorial/skymaps.html). \n",
    "\n",
    "We select a map at random from our notices."
   ]
  },
  {
   "cell_type": "code",
   "execution_count": 15,
   "id": "38770744-75f7-45e3-b797-1da5863f40d6",
   "metadata": {},
   "outputs": [
    {
     "data": {
      "text/html": [
       "<div>\n",
       "<style scoped>\n",
       "    .dataframe tbody tr th:only-of-type {\n",
       "        vertical-align: middle;\n",
       "    }\n",
       "\n",
       "    .dataframe tbody tr th {\n",
       "        vertical-align: top;\n",
       "    }\n",
       "\n",
       "    .dataframe thead th {\n",
       "        text-align: right;\n",
       "    }\n",
       "</style>\n",
       "<table border=\"1\" class=\"dataframe\">\n",
       "  <thead>\n",
       "    <tr style=\"text-align: right;\">\n",
       "      <th></th>\n",
       "      <th>filename</th>\n",
       "      <th>topic</th>\n",
       "      <th>graceId</th>\n",
       "      <th>sernum</th>\n",
       "      <th>notice_time</th>\n",
       "      <th>obs_time</th>\n",
       "      <th>skymap</th>\n",
       "      <th>delay</th>\n",
       "      <th>source</th>\n",
       "      <th>source_prob</th>\n",
       "      <th>istest</th>\n",
       "    </tr>\n",
       "  </thead>\n",
       "  <tbody>\n",
       "    <tr>\n",
       "      <th>937</th>\n",
       "      <td>voe_lvc_preliminary_54082.xml</td>\n",
       "      <td>lvc_preliminary</td>\n",
       "      <td>S250307gc</td>\n",
       "      <td>2</td>\n",
       "      <td>2025-03-07 17:14:13+00:00</td>\n",
       "      <td>2025-03-07 17:09:12.726543+00:00</td>\n",
       "      <td>https://gracedb.ligo.org/api/superevents/S2503...</td>\n",
       "      <td>276</td>\n",
       "      <td>Terrestrial</td>\n",
       "      <td>0.92268</td>\n",
       "      <td>False</td>\n",
       "    </tr>\n",
       "  </tbody>\n",
       "</table>\n",
       "</div>"
      ],
      "text/plain": [
       "                          filename            topic    graceId  sernum  \\\n",
       "937  voe_lvc_preliminary_54082.xml  lvc_preliminary  S250307gc       2   \n",
       "\n",
       "                   notice_time                         obs_time  \\\n",
       "937  2025-03-07 17:14:13+00:00 2025-03-07 17:09:12.726543+00:00   \n",
       "\n",
       "                                                skymap  delay       source  \\\n",
       "937  https://gracedb.ligo.org/api/superevents/S2503...    276  Terrestrial   \n",
       "\n",
       "     source_prob  istest  \n",
       "937      0.92268   False  "
      ]
     },
     "execution_count": 15,
     "metadata": {},
     "output_type": "execute_result"
    }
   ],
   "source": [
    "sample = notices_df.sample()\n",
    "skymap_random = sample[\"skymap\"].item()\n",
    "sample"
   ]
  },
  {
   "cell_type": "markdown",
   "id": "e9bfc998-f9eb-4ad6-8383-ab24c9dd5366",
   "metadata": {},
   "source": [
    "The skymaps are distributed in the HEALPix format and represent a probability distribution over a tasselation of the celestial sphere with constant pixel area. They are stored as (long) 1D array. Data are accompanied by a few metadata."
   ]
  },
  {
   "cell_type": "code",
   "execution_count": 19,
   "id": "dcf3bd26-bb3e-4e3a-90da-0dee99b1bba9",
   "metadata": {},
   "outputs": [
    {
     "data": {
      "text/plain": [
       "(array([1.67835958e-09, 1.73468133e-09, 1.77097125e-09, ...,\n",
       "        5.45520008e-06, 4.21195709e-06, 4.07617786e-06], shape=(786432,)),\n",
       " {'MOC': True,\n",
       "  'HISTORY': ['',\n",
       "   'Generated by calling the following Python function:',\n",
       "   \"ligo.skymap.bayestar.localize(event=..., waveform='o2-uberbank',\",\n",
       "   'f_low=15.0, min_distance=None, max_distance=None,',\n",
       "   'prior_distance_power=None, cosmology=False, mcmc=False, chain_dump=None,',\n",
       "   'enable_snr_series=True, f_high_truncate=0.95,',\n",
       "   'rescale_loglikelihood=0.83)',\n",
       "   '',\n",
       "   'This was the command line that started the program:',\n",
       "   'gwcelery worker -l info -n gwcelery-openmp-worker-14@%h -f',\n",
       "   '.local/state/log/%n.log -Q openmp -c 1 --prefetch-multiplier 1'],\n",
       "  'objid': 'G561360',\n",
       "  'url': 'https://gracedb.ligo.org/events/G561360',\n",
       "  'instruments': {'H1', 'L1', 'V1'},\n",
       "  'gps_time': np.float64(1425402570.725847),\n",
       "  'gps_creation_time': np.float64(1425402589.0),\n",
       "  'creator': 'BAYESTAR',\n",
       "  'origin': 'LIGO/Virgo/KAGRA',\n",
       "  'runtime': 0.9612579867243767,\n",
       "  'distmean': 5119.775933387582,\n",
       "  'diststd': 1540.4272056002046,\n",
       "  'log_bci': 6.381864867187258,\n",
       "  'log_bsn': 3.928921956483255,\n",
       "  'vcs_version': 'ligo.skymap 2.1.2',\n",
       "  'nest': True})"
      ]
     },
     "execution_count": 19,
     "metadata": {},
     "output_type": "execute_result"
    }
   ],
   "source": [
    "from ligo.skymap.io.fits import read_sky_map\n",
    "\n",
    "healpix, meta = read_sky_map(skymap_random)\n",
    "healpix, meta"
   ]
  },
  {
   "cell_type": "code",
   "execution_count": 20,
   "id": "5f11030b-0c36-42db-9294-495dcb5bf983",
   "metadata": {},
   "outputs": [
    {
     "data": {
      "image/png": "[encoded data removed]",
      "text/plain": [
       "<Figure size 850x540 with 2 Axes>"
      ]
     },
     "metadata": {},
     "output_type": "display_data"
    }
   ],
   "source": [
    "import healpy as hp\n",
    "\n",
    "hp.mollview(healpix)"
   ]
  },
  {
   "cell_type": "markdown",
   "id": "6ed9c39f-3248-4aed-a407-7bf0f23d3c26",
   "metadata": {},
   "source": [
    "Let's try to quantify how large the 90% credible area is and the most likely sky location. Finding the MLP is easy, we just take the max of the probability distribution and map it to a sky coordinate."
   ]
  },
  {
   "cell_type": "code",
   "execution_count": 21,
   "id": "285585fc-82a7-40c2-94cd-81d4d0d44db5",
   "metadata": {},
   "outputs": [
    {
     "name": "stdout",
     "output_type": "stream",
     "text": [
      "The area under a single pixel is 0.052455852825697924 deg^2\n",
      "Maximum probability value is 8.352325766479771e-05, observed over pixel with index 689444\n",
      "This probability value correspond to a probability density of 0.0016 deg^-2\n",
      "It corresponds to a sky coordinate 103.30 ra, 138.92 dec (in deg)\n"
     ]
    }
   ],
   "source": [
    "import numpy as np\n",
    "\n",
    "\n",
    "nside = hp.npix2nside(len(healpix))   # nside is a quantity determining the resolution of the map\n",
    "pixel_area = 4 * 180 ** 2 / np.pi / len(healpix)  # you can get this also using `hp.nside2pixarea(nside, degrees=True)`\n",
    "print(f\"The area under a single pixel is {pixel_area} deg^2\")\n",
    "\n",
    "max_prb, argmax_prb = np.max(healpix), np.argmax(healpix)\n",
    "print(f\"Maximum probability value is {max_prb}, observed over pixel with index {argmax_prb}\")\n",
    "print(f\"This probability value correspond to a probability density of {max_prb / pixel_area:.4f} deg^-2\")\n",
    "\n",
    "theta, phi = hp.pix2ang(nside, argmax_prb)\n",
    "print(f\"It corresponds to a sky coordinate {np.rad2deg(phi):.2f} ra, {np.rad2deg(theta):.2f} dec (in deg)\")"
   ]
  },
  {
   "cell_type": "markdown",
   "id": "641775e6-7365-4bfc-a249-17621f623adf",
   "metadata": {},
   "source": [
    "Finding the extent of the 90% most credible region is also easy."
   ]
  },
  {
   "cell_type": "code",
   "execution_count": 22,
   "id": "691e6f42-2d22-4378-8442-5d1cd620c0b9",
   "metadata": {},
   "outputs": [
    {
     "name": "stdout",
     "output_type": "stream",
     "text": [
      "The area of the 90% CL region is 2348.55 deg^2\n"
     ]
    }
   ],
   "source": [
    "def cl_area(healpix, cl: int) -> float:  # deg^2\n",
    "    i = np.flipud(np.argsort(healpix))\n",
    "    sorted_credible_levels = np.cumsum(healpix[i])\n",
    "    credible_levels = np.empty_like(sorted_credible_levels)\n",
    "    credible_levels[i] = sorted_credible_levels\n",
    "    return np.sum(credible_levels <= cl) * (4 * 180 ** 2 / np.pi / len(healpix))\n",
    "\n",
    "print(f\"The area of the 90% CL region is {cl_area(healpix, 0.9):.2f} deg^2\")"
   ]
  },
  {
   "cell_type": "markdown",
   "id": "2c922855-24be-4051-80ce-66bf3a27432c",
   "metadata": {},
   "source": [
    "Let's try to add this information to our table."
   ]
  },
  {
   "cell_type": "code",
   "execution_count": 24,
   "id": "5c7e4d3b-cff2-43c6-bcfa-c5ff693b145b",
   "metadata": {},
   "outputs": [
    {
     "data": {
      "application/vnd.jupyter.widget-view+json": {
       "model_id": "9718cc3349a04d2eb3101fbab4d92b92",
       "version_major": 2,
       "version_minor": 0
      },
      "text/plain": [
       "0it [00:00, ?it/s]"
      ]
     },
     "metadata": {},
     "output_type": "display_data"
    }
   ],
   "source": [
    "if not_on_hurry := True:  # this will take some time, so i'm disabling it by default\n",
    "    import requests\n",
    "    from tqdm.notebook import tqdm\n",
    "    \n",
    "    \n",
    "    mlp, area_90cl = [], []\n",
    "    \n",
    "    \n",
    "    for i, skymap_url in tqdm(enumerate(notices_df[\"skymap\"])):\n",
    "        if skymap_url is None:\n",
    "            mlp.append((None, None)); area_90cl.append(None)\n",
    "            continue\n",
    "        try:\n",
    "            healpix, _ = read_sky_map(skymap_url)\n",
    "        except e:\n",
    "            print(f\"Could not retrieve a skymap from url {skymap_url}\")\n",
    "            mlp.append((None, None)); area_90cl.append(None)\n",
    "            continue\n",
    "    \n",
    "        nside = hp.npix2nside(len(healpix))\n",
    "        max_prb, argmax_prb = np.max(healpix), np.argmax(healpix)\n",
    "        theta, phi = hp.pix2ang(nside, argmax_prb)\n",
    "        mlp.append((theta, phi))\n",
    "        area_90cl.append(cl_area(healpix, 0.9))\n"
   ]
  },
  {
   "cell_type": "markdown",
   "id": "7ed1aeca-0a4d-4861-b3e4-ea3a8dbf32bf",
   "metadata": {},
   "source": [
    "Let's add the new information to the notice dataframe."
   ]
  },
  {
   "cell_type": "code",
   "execution_count": 27,
   "id": "cc3c6dac-96dc-465a-b49c-d2942264d6e6",
   "metadata": {},
   "outputs": [
    {
     "data": {
      "text/html": [
       "<div>\n",
       "<style scoped>\n",
       "    .dataframe tbody tr th:only-of-type {\n",
       "        vertical-align: middle;\n",
       "    }\n",
       "\n",
       "    .dataframe tbody tr th {\n",
       "        vertical-align: top;\n",
       "    }\n",
       "\n",
       "    .dataframe thead th {\n",
       "        text-align: right;\n",
       "    }\n",
       "</style>\n",
       "<table border=\"1\" class=\"dataframe\">\n",
       "  <thead>\n",
       "    <tr style=\"text-align: right;\">\n",
       "      <th></th>\n",
       "      <th>filename</th>\n",
       "      <th>topic</th>\n",
       "      <th>graceId</th>\n",
       "      <th>sernum</th>\n",
       "      <th>notice_time</th>\n",
       "      <th>obs_time</th>\n",
       "      <th>skymap</th>\n",
       "      <th>delay</th>\n",
       "      <th>source</th>\n",
       "      <th>source_prob</th>\n",
       "      <th>istest</th>\n",
       "      <th>ra</th>\n",
       "      <th>dec</th>\n",
       "      <th>area_90cl</th>\n",
       "    </tr>\n",
       "  </thead>\n",
       "  <tbody>\n",
       "    <tr>\n",
       "      <th>0</th>\n",
       "      <td>voe_lvc_preliminary_55570.xml</td>\n",
       "      <td>lvc_preliminary</td>\n",
       "      <td>S250401bi</td>\n",
       "      <td>1</td>\n",
       "      <td>2025-04-01 08:06:39+00:00</td>\n",
       "      <td>2025-04-01 08:06:13.662295+00:00</td>\n",
       "      <td>https://gracedb.ligo.org/api/superevents/S2504...</td>\n",
       "      <td>0</td>\n",
       "      <td>Terrestrial</td>\n",
       "      <td>0.927047</td>\n",
       "      <td>False</td>\n",
       "      <td>3.939263</td>\n",
       "      <td>1.112179</td>\n",
       "      <td>8061.835109</td>\n",
       "    </tr>\n",
       "    <tr>\n",
       "      <th>1</th>\n",
       "      <td>voe_lvc_preliminary_55347.xml</td>\n",
       "      <td>lvc_preliminary</td>\n",
       "      <td>S250328cg</td>\n",
       "      <td>2</td>\n",
       "      <td>2025-03-28 22:09:20+00:00</td>\n",
       "      <td>2025-03-28 22:04:20.962402+00:00</td>\n",
       "      <td>https://gracedb.ligo.org/api/superevents/S2503...</td>\n",
       "      <td>275</td>\n",
       "      <td>Terrestrial</td>\n",
       "      <td>0.836615</td>\n",
       "      <td>False</td>\n",
       "      <td>1.325359</td>\n",
       "      <td>1.269378</td>\n",
       "      <td>12254.316690</td>\n",
       "    </tr>\n",
       "    <tr>\n",
       "      <th>2</th>\n",
       "      <td>voe_lvc_preliminary_55210.xml</td>\n",
       "      <td>lvc_preliminary</td>\n",
       "      <td>S250326cp</td>\n",
       "      <td>2</td>\n",
       "      <td>2025-03-26 19:35:38+00:00</td>\n",
       "      <td>2025-03-26 19:30:27.172973+00:00</td>\n",
       "      <td>https://gracedb.ligo.org/api/superevents/S2503...</td>\n",
       "      <td>276</td>\n",
       "      <td>Terrestrial</td>\n",
       "      <td>0.892434</td>\n",
       "      <td>False</td>\n",
       "      <td>5.689850</td>\n",
       "      <td>0.747676</td>\n",
       "      <td>5705.728024</td>\n",
       "    </tr>\n",
       "    <tr>\n",
       "      <th>3</th>\n",
       "      <td>voe_lvc_preliminary_54623.xml</td>\n",
       "      <td>lvc_preliminary</td>\n",
       "      <td>S250316bl</td>\n",
       "      <td>2</td>\n",
       "      <td>2025-03-16 08:43:19+00:00</td>\n",
       "      <td>2025-03-16 08:37:31.698242+00:00</td>\n",
       "      <td>https://gracedb.ligo.org/api/superevents/S2503...</td>\n",
       "      <td>300</td>\n",
       "      <td>Terrestrial</td>\n",
       "      <td>0.945901</td>\n",
       "      <td>False</td>\n",
       "      <td>1.553923</td>\n",
       "      <td>1.445468</td>\n",
       "      <td>386.048849</td>\n",
       "    </tr>\n",
       "    <tr>\n",
       "      <th>4</th>\n",
       "      <td>voe_lvc_preliminary_55190.xml</td>\n",
       "      <td>lvc_preliminary</td>\n",
       "      <td>S250326bn</td>\n",
       "      <td>2</td>\n",
       "      <td>2025-03-26 12:18:57+00:00</td>\n",
       "      <td>2025-03-26 12:13:14.097700+00:00</td>\n",
       "      <td>https://gracedb.ligo.org/api/superevents/S2503...</td>\n",
       "      <td>276</td>\n",
       "      <td>Terrestrial</td>\n",
       "      <td>0.995619</td>\n",
       "      <td>False</td>\n",
       "      <td>4.994641</td>\n",
       "      <td>1.675152</td>\n",
       "      <td>5838.126596</td>\n",
       "    </tr>\n",
       "  </tbody>\n",
       "</table>\n",
       "</div>"
      ],
      "text/plain": [
       "                        filename            topic    graceId  sernum  \\\n",
       "0  voe_lvc_preliminary_55570.xml  lvc_preliminary  S250401bi       1   \n",
       "1  voe_lvc_preliminary_55347.xml  lvc_preliminary  S250328cg       2   \n",
       "2  voe_lvc_preliminary_55210.xml  lvc_preliminary  S250326cp       2   \n",
       "3  voe_lvc_preliminary_54623.xml  lvc_preliminary  S250316bl       2   \n",
       "4  voe_lvc_preliminary_55190.xml  lvc_preliminary  S250326bn       2   \n",
       "\n",
       "                 notice_time                         obs_time  \\\n",
       "0  2025-04-01 08:06:39+00:00 2025-04-01 08:06:13.662295+00:00   \n",
       "1  2025-03-28 22:09:20+00:00 2025-03-28 22:04:20.962402+00:00   \n",
       "2  2025-03-26 19:35:38+00:00 2025-03-26 19:30:27.172973+00:00   \n",
       "3  2025-03-16 08:43:19+00:00 2025-03-16 08:37:31.698242+00:00   \n",
       "4  2025-03-26 12:18:57+00:00 2025-03-26 12:13:14.097700+00:00   \n",
       "\n",
       "                                              skymap  delay       source  \\\n",
       "0  https://gracedb.ligo.org/api/superevents/S2504...      0  Terrestrial   \n",
       "1  https://gracedb.ligo.org/api/superevents/S2503...    275  Terrestrial   \n",
       "2  https://gracedb.ligo.org/api/superevents/S2503...    276  Terrestrial   \n",
       "3  https://gracedb.ligo.org/api/superevents/S2503...    300  Terrestrial   \n",
       "4  https://gracedb.ligo.org/api/superevents/S2503...    276  Terrestrial   \n",
       "\n",
       "   source_prob  istest        ra       dec     area_90cl  \n",
       "0     0.927047   False  3.939263  1.112179   8061.835109  \n",
       "1     0.836615   False  1.325359  1.269378  12254.316690  \n",
       "2     0.892434   False  5.689850  0.747676   5705.728024  \n",
       "3     0.945901   False  1.553923  1.445468    386.048849  \n",
       "4     0.995619   False  4.994641  1.675152   5838.126596  "
      ]
     },
     "execution_count": 27,
     "metadata": {},
     "output_type": "execute_result"
    }
   ],
   "source": [
    "decs, ras = zip(*mlp)\n",
    "\n",
    "localization_df = pd.DataFrame({\"ra\": ras, \"dec\": decs, \"area_90cl\": area_90cl})\n",
    "notices_loc_df = pd.concat([notices_df.reset_index(drop=True), localization_df], axis=1)\n",
    "\n",
    "notices_loc_df.head()"
   ]
  },
  {
   "cell_type": "markdown",
   "id": "bf6802be-0e03-4be7-be0d-535ece9c1544",
   "metadata": {},
   "source": [
    "Let's try to visualize statistics for the GW localization. As expected localization error improves with later notices."
   ]
  },
  {
   "cell_type": "code",
   "execution_count": 28,
   "id": "8e6f55b8-ea8a-4761-9fea-77abe88ce59f",
   "metadata": {},
   "outputs": [
    {
     "data": {
      "image/png": "[encoded data removed]",
      "text/plain": [
       "<Figure size 640x480 with 1 Axes>"
      ]
     },
     "metadata": {},
     "output_type": "display_data"
    }
   ],
   "source": [
    "_df = notices_loc_df\n",
    "sns.boxplot(data=notices_loc_df, x=\"topic\", y=\"area_90cl\")\n",
    "plt.ylabel(\"90% CL area [deg$^2$]\")\n",
    "plt.title(\"GW 90% confidence level localization surface\")\n",
    "plt.show()"
   ]
  },
  {
   "cell_type": "markdown",
   "id": "e5efe74c-3f98-42cd-861c-7a6bfb886cf2",
   "metadata": {},
   "source": [
    "Luckily, BBH are better localized than terrestrial transients."
   ]
  },
  {
   "cell_type": "code",
   "execution_count": 29,
   "id": "cad41c03-12fb-4789-955a-91b0d9211854",
   "metadata": {},
   "outputs": [
    {
     "data": {
      "image/png": "[encoded data removed]",
      "text/plain": [
       "<Figure size 640x480 with 1 Axes>"
      ]
     },
     "metadata": {},
     "output_type": "display_data"
    }
   ],
   "source": [
    "_df = notices_loc_df\n",
    "sns.boxplot(data=notices_loc_df, x=\"source\", y=\"area_90cl\")\n",
    "plt.ylabel(\"90% CL area [deg$^2$]\")\n",
    "plt.title(\"GW 90% confidence level localization surface\")\n",
    "plt.show()"
   ]
  },
  {
   "cell_type": "code",
   "execution_count": 35,
   "id": "9facecd9-5688-4c6d-a173-864aaf5a5827",
   "metadata": {},
   "outputs": [
    {
     "data": {
      "text/plain": [
       "count      34.000000\n",
       "mean     1974.021667\n",
       "std      1513.281030\n",
       "min        14.184390\n",
       "25%      1034.793330\n",
       "50%      1815.759346\n",
       "75%      2676.822170\n",
       "max      4719.453079\n",
       "Name: area_90cl, dtype: float64"
      ]
     },
     "execution_count": 35,
     "metadata": {},
     "output_type": "execute_result"
    }
   ],
   "source": [
    "notices_loc_df[notices_loc_df[\"source\"] == \"BBH\"][\"area_90cl\"].describe()"
   ]
  },
  {
   "cell_type": "markdown",
   "id": "74c85e98-2736-4e67-b4db-c66b7d3018f3",
   "metadata": {},
   "source": [
    "50% of the notices BBH sources have localization betterr than 1815 degree squared. Which is a freaking lot.. but still.\n",
    "\n",
    "Will continue later."
   ]
  },
  {
   "cell_type": "code",
   "execution_count": null,
   "id": "fde30e80-d02f-4c30-9ed0-27fce230dc16",
   "metadata": {},
   "outputs": [],
   "source": []
  }
 ],
 "metadata": {
  "kernelspec": {
   "display_name": "Python 3 (ipykernel)",
   "language": "python",
   "name": "python3"
  },
  "language_info": {
   "codemirror_mode": {
    "name": "ipython",
    "version": 3
   },
   "file_extension": ".py",
   "mimetype": "text/x-python",
   "name": "python",
   "nbconvert_exporter": "python",
   "pygments_lexer": "ipython3",
   "version": "3.13.2"
  }
 },
 "nbformat": 4,
 "nbformat_minor": 5
}
