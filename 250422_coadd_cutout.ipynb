{
 "cells": [
  {
   "cell_type": "markdown",
   "id": "c9b2edff-15ac-4946-addb-878f71b3f793",
   "metadata": {},
   "source": [
    "# Composing multiple deep coadded pictures\n",
    "\n",
    "This notebooks adapts some of the code of the notebook `DP02_03c` with the goal of creating a large cutout of a sky region starting from inputs similar to the one parsed from the Fermi-GBM GCN."
   ]
  },
  {
   "cell_type": "code",
   "execution_count": 14,
   "id": "ed12625a-f042-4c29-a1c8-223d1b153753",
   "metadata": {
    "execution": {
     "iopub.execute_input": "2025-04-24T12:25:47.536679Z",
     "iopub.status.busy": "2025-04-24T12:25:47.536003Z",
     "iopub.status.idle": "2025-04-24T12:25:47.576796Z",
     "shell.execute_reply": "2025-04-24T12:25:47.575740Z",
     "shell.execute_reply.started": "2025-04-24T12:25:47.536633Z"
    }
   },
   "outputs": [],
   "source": [
    "from lsst.rsp import get_tap_service\n",
    "\n",
    "service = get_tap_service(\"tap\")"
   ]
  },
  {
   "cell_type": "code",
   "execution_count": 15,
   "id": "d4198cd8-1ba2-4a34-9ce4-9fe961d5b5f1",
   "metadata": {
    "execution": {
     "iopub.execute_input": "2025-04-24T12:25:47.864815Z",
     "iopub.status.busy": "2025-04-24T12:25:47.864328Z",
     "iopub.status.idle": "2025-04-24T12:25:48.282336Z",
     "shell.execute_reply": "2025-04-24T12:25:48.281291Z",
     "shell.execute_reply.started": "2025-04-24T12:25:47.864776Z"
    }
   },
   "outputs": [],
   "source": [
    "from lsst.daf.butler import Butler\n",
    "\n",
    "config = 'dp02' \n",
    "collection = '2.2i/runs/DP0.2'\n",
    "butler = Butler(config, collections=collection)"
   ]
  },
  {
   "cell_type": "markdown",
   "id": "e1605a6b-cd53-4ca6-9261-2843bc4378fb",
   "metadata": {},
   "source": [
    "Let's define a cone region. I will take the error radius from the last month GCN ground notice median value. For the target coordinates I will take values from the notebook `DP02_03c`. This sky location corresponds to region at the boundary between two different patches."
   ]
  },
  {
   "cell_type": "code",
   "execution_count": 16,
   "id": "30930a46-48aa-4db5-8234-23130e5b7e97",
   "metadata": {
    "execution": {
     "iopub.execute_input": "2025-04-24T12:25:48.284354Z",
     "iopub.status.busy": "2025-04-24T12:25:48.283962Z",
     "iopub.status.idle": "2025-04-24T12:25:48.289409Z",
     "shell.execute_reply": "2025-04-24T12:25:48.288451Z",
     "shell.execute_reply.started": "2025-04-24T12:25:48.284306Z"
    }
   },
   "outputs": [],
   "source": [
    "err_radius = 0.1  # max value reached without crash on large VM is 0.19\n",
    "target_ra = 50.5265\n",
    "target_dec = -39.7589"
   ]
  },
  {
   "cell_type": "markdown",
   "id": "424f6265-1889-45c3-aa31-74fac8d660cd",
   "metadata": {},
   "source": [
    "Let's define a function returning the RA and dec boundaries of the tightest spherical square containing the cone region."
   ]
  },
  {
   "cell_type": "markdown",
   "id": "6eecc91a-5263-4ba1-a5f3-e3b3ae35d26b",
   "metadata": {
    "execution": {
     "iopub.execute_input": "2025-04-18T14:00:41.655248Z",
     "iopub.status.busy": "2025-04-18T14:00:41.654283Z",
     "iopub.status.idle": "2025-04-18T14:00:41.660881Z",
     "shell.execute_reply": "2025-04-18T14:00:41.659841Z",
     "shell.execute_reply.started": "2025-04-18T14:00:41.655209Z"
    }
   },
   "source": [
    "Now we define a function which takes the box boundaries and returns the spherical coordinates of the corners in SE, SW, NW, NE order. To avoid missing overlapping patches, we enlarge the polygon corners by a margin equal to double the error radius."
   ]
  },
  {
   "cell_type": "code",
   "execution_count": 17,
   "id": "ac90bbf0-dc75-437f-81a5-c04ea5d7c198",
   "metadata": {
    "execution": {
     "iopub.execute_input": "2025-04-24T12:25:48.847411Z",
     "iopub.status.busy": "2025-04-24T12:25:48.846313Z",
     "iopub.status.idle": "2025-04-24T12:25:48.858130Z",
     "shell.execute_reply": "2025-04-24T12:25:48.857113Z",
     "shell.execute_reply.started": "2025-04-24T12:25:48.847361Z"
    }
   },
   "outputs": [
    {
     "name": "stdout",
     "output_type": "stream",
     "text": [
      "RA-dec spherical square box boundaries are: 50.3964, 50.6566, -39.8589, -39.6589 deg\n",
      "Corners coordinates are: \n",
      "\n",
      "SE (ra = 50.66, dec= -39.86) deg\n",
      "SW (ra = 50.40, dec= -39.86) deg\n",
      "NW (ra = 50.40, dec= -39.66) deg\n",
      "NE (ra = 50.66, dec= -39.66) deg\n"
     ]
    }
   ],
   "source": [
    "import numpy as np\n",
    "\n",
    "def get_region_boundaries(ra, dec, err_radius):\n",
    "    \"\"\"\n",
    "    Returns ra_min, ra_max, dec_min, dec_max of a circular region centered\n",
    "    on ra and dec, with radius equal `err_radius`.\n",
    "    \"\"\"\n",
    "    boundaries_ra = (\n",
    "        ra - err_radius / np.cos(np.radians(dec)), \n",
    "        ra + err_radius / np.cos(np.radians(dec)), \n",
    "    )\n",
    "    boundaries_dec = (\n",
    "        dec - err_radius,\n",
    "        dec + err_radius,\n",
    "    )\n",
    "    return tuple(map(float, [*sorted(boundaries_ra), *sorted(boundaries_dec)]))\n",
    "\n",
    "def boundaries_to_polygon(ra_min, ra_max, dec_min, dec_max, margin=0):\n",
    "    \"\"\"\n",
    "    Returns corners of box defined by argument in order SE, SW, NW, NE.\n",
    "    Optionally enlarges the polygon by margin.\n",
    "    \"\"\"\n",
    "    ra_max = ra_max + margin\n",
    "    ra_min = ra_min - margin\n",
    "    dec_max = dec_max + margin\n",
    "    dec_min = dec_min - margin\n",
    "    return (\n",
    "        (ra_max, dec_min),\n",
    "        (ra_min, dec_min),\n",
    "        (ra_min, dec_max),\n",
    "        (ra_max, dec_max),\n",
    "    )\n",
    "\n",
    "\n",
    "boundaries = get_region_boundaries(target_ra, target_dec, err_radius)\n",
    "target_box_min_ra, target_box_max_ra, taget_box_min_dec, target_box_max_dec = boundaries\n",
    "print(f\"RA-dec spherical square box boundaries are: {', '.join(map(lambda f: f'{f:.4f}',boundaries))} deg\")\n",
    "corners = boundaries_to_polygon(*boundaries)\n",
    "print(f\"Corners coordinates are: \\n\\n{\n",
    "    '\\n'.join(map(\n",
    "        lambda x: f'{x[0]} (ra = {x[1][0]:.2f}, dec= {x[1][1]:.2f}) deg', \n",
    "        [*zip([\"SE\", \"SW\", \"NW\", \"NE\"], corners)]\n",
    "    ))}\"\n",
    ")"
   ]
  },
  {
   "cell_type": "code",
   "execution_count": 18,
   "id": "58df6ed8-28b6-49c8-a1d6-fab26092a523",
   "metadata": {
    "execution": {
     "iopub.execute_input": "2025-04-24T12:25:48.951672Z",
     "iopub.status.busy": "2025-04-24T12:25:48.951172Z",
     "iopub.status.idle": "2025-04-24T12:25:49.107258Z",
     "shell.execute_reply": "2025-04-24T12:25:49.106322Z",
     "shell.execute_reply.started": "2025-04-24T12:25:48.951628Z"
    }
   },
   "outputs": [
    {
     "data": {
      "image/png": "[encoded data removed]",
      "text/plain": [
       "<Figure size 300x300 with 1 Axes>"
      ]
     },
     "metadata": {},
     "output_type": "display_data"
    }
   ],
   "source": [
    "import matplotlib.pyplot as plt\n",
    "\n",
    "fig = plt.figure(figsize=(3, 3))\n",
    "plt.plot(target_ra, target_dec, '*', ms=10, color='blue')\n",
    "clabels = ['1. SE', '2. SW', '3. NW', '4. NE']\n",
    "for corner, clabel in zip(corners, clabels):\n",
    "    plt.text(corner[0], corner[1], clabel, ha='center', va='center')\n",
    "    \n",
    "plt.gca().invert_xaxis()\n",
    "plt.xlim([target_box_max_ra + 4 * err_radius, target_box_min_ra - 4 * err_radius])\n",
    "plt.ylim([taget_box_min_dec - 4 * err_radius, target_box_max_dec + 4 * err_radius])\n",
    "plt.xlabel('RA')\n",
    "plt.ylabel('Dec')\n",
    "plt.show()"
   ]
  },
  {
   "cell_type": "markdown",
   "id": "fdbe4905-b04d-4c6f-98dd-c9a99963db06",
   "metadata": {},
   "source": [
    "Let's write a function which will transform corners into a string we can use for queries, and put together a query to get the patches overlapping with the box. Note that we build the polygon with margin to avoid missing patches."
   ]
  },
  {
   "cell_type": "code",
   "execution_count": 19,
   "id": "12a5dab1-fc92-4fb1-9848-c775afdf5883",
   "metadata": {
    "execution": {
     "iopub.execute_input": "2025-04-24T12:25:49.701440Z",
     "iopub.status.busy": "2025-04-24T12:25:49.700965Z",
     "iopub.status.idle": "2025-04-24T12:25:51.015379Z",
     "shell.execute_reply": "2025-04-24T12:25:51.014273Z",
     "shell.execute_reply.started": "2025-04-24T12:25:49.701398Z"
    }
   },
   "outputs": [
    {
     "data": {
      "text/html": [
       "<div>\n",
       "<style scoped>\n",
       "    .dataframe tbody tr th:only-of-type {\n",
       "        vertical-align: middle;\n",
       "    }\n",
       "\n",
       "    .dataframe tbody tr th {\n",
       "        vertical-align: top;\n",
       "    }\n",
       "\n",
       "    .dataframe thead th {\n",
       "        text-align: right;\n",
       "    }\n",
       "</style>\n",
       "<table border=\"1\" class=\"dataframe\">\n",
       "  <thead>\n",
       "    <tr style=\"text-align: right;\">\n",
       "      <th></th>\n",
       "      <th>lsst_patch</th>\n",
       "      <th>lsst_tract</th>\n",
       "      <th>s_dec</th>\n",
       "      <th>s_ra</th>\n",
       "    </tr>\n",
       "  </thead>\n",
       "  <tbody>\n",
       "    <tr>\n",
       "      <th>0</th>\n",
       "      <td>19</td>\n",
       "      <td>3442</td>\n",
       "      <td>-39.642251</td>\n",
       "      <td>50.851382</td>\n",
       "    </tr>\n",
       "    <tr>\n",
       "      <th>1</th>\n",
       "      <td>7</td>\n",
       "      <td>3441</td>\n",
       "      <td>-39.862682</td>\n",
       "      <td>50.388626</td>\n",
       "    </tr>\n",
       "    <tr>\n",
       "      <th>2</th>\n",
       "      <td>14</td>\n",
       "      <td>3441</td>\n",
       "      <td>-39.640494</td>\n",
       "      <td>50.385860</td>\n",
       "    </tr>\n",
       "    <tr>\n",
       "      <th>3</th>\n",
       "      <td>20</td>\n",
       "      <td>3442</td>\n",
       "      <td>-39.640493</td>\n",
       "      <td>50.566448</td>\n",
       "    </tr>\n",
       "    <tr>\n",
       "      <th>4</th>\n",
       "      <td>13</td>\n",
       "      <td>3442</td>\n",
       "      <td>-39.862681</td>\n",
       "      <td>50.563683</td>\n",
       "    </tr>\n",
       "  </tbody>\n",
       "</table>\n",
       "</div>"
      ],
      "text/plain": [
       "   lsst_patch  lsst_tract      s_dec       s_ra\n",
       "0          19        3442 -39.642251  50.851382\n",
       "1           7        3441 -39.862682  50.388626\n",
       "2          14        3441 -39.640494  50.385860\n",
       "3          20        3442 -39.640493  50.566448\n",
       "4          13        3442 -39.862681  50.563683"
      ]
     },
     "execution_count": 19,
     "metadata": {},
     "output_type": "execute_result"
    }
   ],
   "source": [
    "def polygon_string(corners):\n",
    "    return f\"\"\"{\n",
    "    ', '.join(map(\n",
    "        lambda x: f'{x[0]:.4f}, {x[1]:.4f}', \n",
    "        corners,\n",
    "    ))}\"\"\"\n",
    "\n",
    "def job_region_patches(ra, dec, err_radius):\n",
    "    boundaries = get_region_boundaries(ra, dec, err_radius)\n",
    "    query = (\n",
    "        \"SELECT lsst_patch,lsst_tract,s_dec,s_ra \"\n",
    "        \"FROM dp02_dc2_catalogs.CoaddPatches \"\n",
    "        \"WHERE CONTAINS(POINT('ICRS', s_ra, s_dec), \"\n",
    "        f\"POLYGON('ICRS', {polygon_string(boundaries_to_polygon(*boundaries, margin=2*err_radius))}))=1\"\n",
    "    )\n",
    "    return service.submit_job(query)\n",
    "\n",
    "def get_region_patches_table(ra, dec, err_radius):\n",
    "    \"\"\"\n",
    "    Returns a table of patch-tracts overlapping with region defined\n",
    "    by `ra`, `dec`, `err_radius`.\n",
    "    note: region is a square with side 2*err_radius\n",
    "    \"\"\"\n",
    "    job = job_region_patches(ra, dec, err_radius)\n",
    "    job.run()\n",
    "    job.wait(phases=['COMPLETED', 'ERROR'])\n",
    "    return job.fetch_result().to_table().to_pandas()\n",
    "\n",
    "\n",
    "ptable = get_region_patches_table(target_ra, target_dec, err_radius)\n",
    "ptable.head()"
   ]
  },
  {
   "cell_type": "markdown",
   "id": "8f5f956b-8343-4bb2-8111-aa8738da1ceb",
   "metadata": {},
   "source": [
    "We got quite a few tracts. Now we recover the patch-tract with center nearest the target. "
   ]
  },
  {
   "cell_type": "code",
   "execution_count": 20,
   "id": "5dc08038-cd46-426d-90ab-d9b6ebb325ca",
   "metadata": {
    "execution": {
     "iopub.execute_input": "2025-04-24T12:25:51.017573Z",
     "iopub.status.busy": "2025-04-24T12:25:51.017122Z",
     "iopub.status.idle": "2025-04-24T12:25:51.023621Z",
     "shell.execute_reply": "2025-04-24T12:25:51.022670Z",
     "shell.execute_reply.started": "2025-04-24T12:25:51.017529Z"
    }
   },
   "outputs": [],
   "source": [
    "import lsst.geom as geom\n",
    "\n",
    "\n",
    "def get_tract_and_patch(ra, dec, butler):\n",
    "    skymap = butler.get('skyMap')\n",
    "    target = geom.SpherePoint(target_ra * geom.degrees, target_dec * geom.degrees)\n",
    "    tract = (_tract := skymap.findTract(target)).tract_id\n",
    "    patch = _tract.findPatch(target).getSequentialIndex()\n",
    "    return tract, patch"
   ]
  },
  {
   "cell_type": "code",
   "execution_count": 21,
   "id": "cb85112c-19ba-4e7c-990d-fecfd9973f4d",
   "metadata": {
    "execution": {
     "iopub.execute_input": "2025-04-24T12:25:51.025686Z",
     "iopub.status.busy": "2025-04-24T12:25:51.024836Z",
     "iopub.status.idle": "2025-04-24T12:25:51.270981Z",
     "shell.execute_reply": "2025-04-24T12:25:51.270019Z",
     "shell.execute_reply.started": "2025-04-24T12:25:51.025649Z"
    }
   },
   "outputs": [
    {
     "data": {
      "text/plain": [
       "(3442, 13)"
      ]
     },
     "execution_count": 21,
     "metadata": {},
     "output_type": "execute_result"
    }
   ],
   "source": [
    "get_tract_and_patch(target_ra, target_dec, butler)"
   ]
  },
  {
   "cell_type": "markdown",
   "id": "7bd332fb-4542-4252-b4cc-0e9d75154d91",
   "metadata": {},
   "source": [
    "Note the tract and patch we get from butler are equal to the one which minimize the angular separation between the center of the tract-patch we queried above, and the target."
   ]
  },
  {
   "cell_type": "code",
   "execution_count": 22,
   "id": "2120ed0b-52b9-412b-907d-0c6d40bb481a",
   "metadata": {
    "execution": {
     "iopub.execute_input": "2025-04-24T12:25:51.433601Z",
     "iopub.status.busy": "2025-04-24T12:25:51.433043Z",
     "iopub.status.idle": "2025-04-24T12:25:51.445623Z",
     "shell.execute_reply": "2025-04-24T12:25:51.444696Z",
     "shell.execute_reply.started": "2025-04-24T12:25:51.433557Z"
    }
   },
   "outputs": [
    {
     "data": {
      "text/plain": [
       "lsst_patch      13.000000\n",
       "lsst_tract    3442.000000\n",
       "s_dec          -39.862681\n",
       "s_ra            50.563683\n",
       "Name: 4, dtype: float64"
      ]
     },
     "execution_count": 22,
     "metadata": {},
     "output_type": "execute_result"
    }
   ],
   "source": [
    "from astropy.coordinates import angular_separation\n",
    "\n",
    "ptable.iloc[\n",
    "    np.argmin(\n",
    "        angular_separation(\n",
    "            ptable[\"s_ra\"], ptable[\"s_dec\"],\n",
    "            *zip(*[(target_ra, target_dec)] * len(ptable)),\n",
    "        )\n",
    "    )]"
   ]
  },
  {
   "cell_type": "markdown",
   "id": "6dd5c7cb-81bf-41ef-8a72-1b0df2cf0d0c",
   "metadata": {},
   "source": [
    "# Anchor image"
   ]
  },
  {
   "cell_type": "markdown",
   "id": "74acee14-cf77-4413-89f0-f492fa002047",
   "metadata": {},
   "source": [
    "We call anchor image the deep coadded image from the patch closest to the target. It can be obtained using dedicated functions from `skymap`. I feel it's worth to define our own functions for this."
   ]
  },
  {
   "cell_type": "code",
   "execution_count": 23,
   "id": "fb1e383f-83e2-4ee5-9173-fb9ee3303a82",
   "metadata": {
    "execution": {
     "iopub.execute_input": "2025-04-24T12:25:52.423358Z",
     "iopub.status.busy": "2025-04-24T12:25:52.422455Z",
     "iopub.status.idle": "2025-04-24T12:25:52.428718Z",
     "shell.execute_reply": "2025-04-24T12:25:52.427747Z",
     "shell.execute_reply.started": "2025-04-24T12:25:52.423310Z"
    }
   },
   "outputs": [],
   "source": [
    "def get_anchor_image(butler, ra, dec, band):\n",
    "    tract, patch = get_tract_and_patch(ra, dec, butler)\n",
    "    return butler.get(\n",
    "        'deepCoadd_calexp', \n",
    "        dataId={\n",
    "            \"tract\": tract,\n",
    "            \"patch\": patch,\n",
    "            \"band\": band,\n",
    "    })\n"
   ]
  },
  {
   "cell_type": "code",
   "execution_count": 24,
   "id": "77c25693-e69a-452c-b3b2-6c8bd94d3936",
   "metadata": {
    "execution": {
     "iopub.execute_input": "2025-04-24T12:25:52.768809Z",
     "iopub.status.busy": "2025-04-24T12:25:52.768309Z",
     "iopub.status.idle": "2025-04-24T12:25:55.742156Z",
     "shell.execute_reply": "2025-04-24T12:25:55.741139Z",
     "shell.execute_reply.started": "2025-04-24T12:25:52.768765Z"
    }
   },
   "outputs": [],
   "source": [
    "anchor_img = get_anchor_image(butler, target_ra, target_dec, \"r\")"
   ]
  },
  {
   "cell_type": "markdown",
   "id": "16c79f04-6574-4435-ac27-b81d2639f276",
   "metadata": {},
   "source": [
    "We plot the anchor image."
   ]
  },
  {
   "cell_type": "code",
   "execution_count": 25,
   "id": "f13fff65-30e7-4898-917f-6b9ca4e31a68",
   "metadata": {
    "execution": {
     "iopub.execute_input": "2025-04-24T12:25:56.314778Z",
     "iopub.status.busy": "2025-04-24T12:25:56.313977Z",
     "iopub.status.idle": "2025-04-24T12:26:07.408705Z",
     "shell.execute_reply": "2025-04-24T12:26:07.407480Z",
     "shell.execute_reply.started": "2025-04-24T12:25:56.314732Z"
    }
   },
   "outputs": [
    {
     "data": {
      "image/png": "[encoded data removed]",
      "text/plain": [
       "<Figure size 640x480 with 1 Axes>"
      ]
     },
     "metadata": {},
     "output_type": "display_data"
    }
   ],
   "source": [
    "from astropy import units as u\n",
    "from astropy.wcs import WCS\n",
    "from astropy.coordinates import SkyCoord\n",
    "from photutils.aperture import SkyCircularAperture\n",
    "\n",
    "\n",
    "img = anchor_img\n",
    "wcs = WCS(img.getWcs().getFitsMetadata())\n",
    "coord = SkyCoord(ra=target_ra * u.deg, dec=target_dec * u.deg, frame=\"icrs\")\n",
    "extent = (img.getBBox().beginX, img.getBBox().endX, img.getBBox().beginY, img.getBBox().endY)\n",
    "\n",
    "fig = plt.figure()\n",
    "ax = fig.add_subplot(projection = wcs)\n",
    "ax.imshow(img.image.array, vmin=.1, vmax=1, extent=extent, origin=\"lower\", cmap=\"gray\")\n",
    "plt.show()"
   ]
  },
  {
   "cell_type": "markdown",
   "id": "a6ccbf83-a945-4169-a089-971ca95039dc",
   "metadata": {},
   "source": [
    "# Single cutouts"
   ]
  },
  {
   "cell_type": "markdown",
   "id": "0754d9a5-c91c-490d-8480-c35d0d297930",
   "metadata": {},
   "source": [
    "Putting the ingredients needed to compose multiple coadded images together."
   ]
  },
  {
   "cell_type": "code",
   "execution_count": 26,
   "id": "c30d22f8-894a-42fe-9aa0-50545a5ac710",
   "metadata": {
    "execution": {
     "iopub.execute_input": "2025-04-24T12:26:07.410711Z",
     "iopub.status.busy": "2025-04-24T12:26:07.410356Z",
     "iopub.status.idle": "2025-04-24T12:26:07.424779Z",
     "shell.execute_reply": "2025-04-24T12:26:07.423838Z",
     "shell.execute_reply.started": "2025-04-24T12:26:07.410678Z"
    }
   },
   "outputs": [],
   "source": [
    "from lsst.afw.geom import makeSkyWcs\n",
    "from lsst.afw.image import Image\n",
    "import lsst.geom as geom\n",
    "\n",
    "\n",
    "def get_cutout_dataIds_dict(region_patches_table, bands=[\"r\"]):\n",
    "    \"\"\"\n",
    "    Creates a dictionary with tractIds keys of infos required to fetch individual patches deep coadd.\n",
    "    \"\"\"\n",
    "    all_dataIds_dict = {}\n",
    "    for i, row in region_patches_table.iterrows():\n",
    "        tract, patch = map(int, row[[\"lsst_tract\", \"lsst_patch\"]])\n",
    "        all_dataIds_dict.setdefault(tract, []).extend([{\n",
    "            \"tract\": tract,\n",
    "            \"patch\": patch,\n",
    "            \"band\": b,\n",
    "        } for b in bands])\n",
    "    return all_dataIds_dict\n",
    "\n",
    "def get_cutout_images_dict(butler, region_patches_table, bands=[\"r\"]):\n",
    "    \"\"\"\n",
    "    Creates a dictionary with tractIds keys of images from each patch.\n",
    "    \"\"\"\n",
    "    all_images_dict = {}\n",
    "    for i, row in region_patches_table.iterrows():\n",
    "        tract, patch = map(int, row[[\"lsst_tract\", \"lsst_patch\"]])\n",
    "        all_images_dict.setdefault(tract, []).extend([butler.get(\n",
    "            \"deepCoadd_calexp\", \n",
    "            dataId={\n",
    "                \"tract\": tract,\n",
    "                \"patch\": patch,\n",
    "                \"band\": b,\n",
    "        }) for b in bands])\n",
    "    return all_images_dict\n",
    "\n",
    "def get_cutout_wcs(ra, dec, err_radius, anchor_img):\n",
    "    \"\"\"\n",
    "    Returns a new WCS for a source at center of a region.\n",
    "    \"\"\"\n",
    "    # center coordinates\n",
    "    crval = geom.SpherePoint(ra, dec, geom.degrees)\n",
    "    # center pixel\n",
    "    deepCoadd_pixel_scale = 0.2 # arsec / pixel\n",
    "    crpix = (2 * err_radius) * 3600 / 2. / deepCoadd_pixel_scale\n",
    "    crpix = geom.Point2D(crpix, crpix)\n",
    "    # pixel scale\n",
    "    x = anchor_img.getWcs().getFitsMetadata()\n",
    "    cdMatrix = [x['CD1_1'], x['CD1_2']], [x['CD2_1'], x['CD2_2']]\n",
    "    # projection\n",
    "    projection = 'TAN'\n",
    "    return makeSkyWcs(crpix, crval, cdMatrix, projection)\n",
    "\n",
    "def get_cutout_bbox(ra, dec, err_radius, wcs):\n",
    "    \"\"\"\n",
    "    Returns pixel coordinates of the sky region.\n",
    "    \"\"\"\n",
    "    boundaries = get_region_boundaries(ra, dec, err_radius)\n",
    "    cSE, _, cNW, _ = boundaries_to_polygon(*boundaries)  # todo: this is likely not necessary\n",
    "    cSE_deg, cNW_deg = map(lambda x: geom.SpherePoint(*x, geom.degrees), (cSE, cNW))\n",
    "    corner_SE_pix, corner_NW_pix = map(lambda x: wcs.skyToPixel(x), (cSE_deg, cNW_deg))\n",
    "    xmin, ymin = map(lambda x: int(np.floor(x)), corner_SE_pix)\n",
    "    xmax, ymax = map(lambda x: int(np.floor(x)), corner_NW_pix)    \n",
    "    return Image(\n",
    "        geom.Box2I(\n",
    "            minimum=geom.Point2I(x=xmin, y=ymin),\n",
    "            maximum=geom.Point2I(x=xmax, y=ymax))\n",
    "        ,\n",
    "        dtype=np.float32\n",
    "    ).getBBox()"
   ]
  },
  {
   "cell_type": "markdown",
   "id": "a5bd03aa-973f-4d70-82e3-04f05c4870d7",
   "metadata": {},
   "source": [
    "We can assemble this functions into a new one which will put together the new image, with it's own WCS."
   ]
  },
  {
   "cell_type": "code",
   "execution_count": 27,
   "id": "39b86d23-667e-4c03-a587-dfbd628b5bbb",
   "metadata": {
    "execution": {
     "iopub.execute_input": "2025-04-24T12:26:07.426173Z",
     "iopub.status.busy": "2025-04-24T12:26:07.425844Z",
     "iopub.status.idle": "2025-04-24T12:27:26.837025Z",
     "shell.execute_reply": "2025-04-24T12:27:26.835911Z",
     "shell.execute_reply.started": "2025-04-24T12:26:07.426142Z"
    }
   },
   "outputs": [],
   "source": [
    "from lsst.ip.diffim import GetTemplateTask\n",
    "\n",
    "\n",
    "def get_cutout_image(butler, ra, dec, err_radius, band=\"r\"):\n",
    "    \"\"\"\n",
    "    Creates a single cutout image for a region with center at (ra, dec) and side length\n",
    "    equal `2 * err_radius`, in a certain band.\n",
    "\n",
    "    Notes:\n",
    "      * some stuff is computed twice in the present implementation. Optimize it later if needed.\n",
    "    \"\"\"\n",
    "    region_patches_table = get_region_patches_table(ra, dec, err_radius)\n",
    "    all_dataIds_dict = get_cutout_dataIds_dict(region_patches_table, [band])\n",
    "    all_images_dict = get_cutout_images_dict(butler, region_patches_table, [band])\n",
    "\n",
    "    # this is not necessary and we could optimize to find the anchor from the images_dict but for the moment it's ok\n",
    "    anchor_img = get_anchor_image(butler, ra, dec, \"r\") # can be in whatever band, since we only need the image's wcs\n",
    "    wcs = get_cutout_wcs(ra, dec, err_radius, anchor_img)\n",
    "    newimage_bbox = get_cutout_bbox(ra, dec, err_radius, wcs)\n",
    "\n",
    "    getTemplateTask = GetTemplateTask()\n",
    "    return getTemplateTask.run(\n",
    "        coaddExposures=all_images_dict, \n",
    "        bbox=newimage_bbox,\n",
    "        wcs=wcs, \n",
    "        dataIds=all_dataIds_dict,\n",
    "        physical_filter=f\"{band}_sim_1.4\",\n",
    "    )\n",
    "\n",
    "new_image = get_cutout_image(butler, target_ra, target_dec, err_radius, band=\"r\")"
   ]
  },
  {
   "cell_type": "code",
   "execution_count": 28,
   "id": "e4bdf500-4437-4f2d-8413-e42faebf903c",
   "metadata": {
    "execution": {
     "iopub.execute_input": "2025-04-24T12:27:26.860758Z",
     "iopub.status.busy": "2025-04-24T12:27:26.860217Z",
     "iopub.status.idle": "2025-04-24T12:27:27.126917Z",
     "shell.execute_reply": "2025-04-24T12:27:27.125375Z",
     "shell.execute_reply.started": "2025-04-24T12:27:26.860716Z"
    }
   },
   "outputs": [
    {
     "ename": "NameError",
     "evalue": "name 'was' is not defined",
     "output_type": "error",
     "traceback": [
      "\u001b[0;31m---------------------------------------------------------------------------\u001b[0m",
      "\u001b[0;31mNameError\u001b[0m                                 Traceback (most recent call last)",
      "Cell \u001b[0;32mIn[28], line 5\u001b[0m\n\u001b[1;32m      3\u001b[0m coord \u001b[38;5;241m=\u001b[39m SkyCoord(ra\u001b[38;5;241m=\u001b[39mtarget_ra \u001b[38;5;241m*\u001b[39m u\u001b[38;5;241m.\u001b[39mdeg, dec\u001b[38;5;241m=\u001b[39mtarget_dec \u001b[38;5;241m*\u001b[39m u\u001b[38;5;241m.\u001b[39mdeg, frame\u001b[38;5;241m=\u001b[39m\u001b[38;5;124m\"\u001b[39m\u001b[38;5;124micrs\u001b[39m\u001b[38;5;124m\"\u001b[39m)\n\u001b[1;32m      4\u001b[0m extent \u001b[38;5;241m=\u001b[39m (img\u001b[38;5;241m.\u001b[39mgetBBox()\u001b[38;5;241m.\u001b[39mbeginX, img\u001b[38;5;241m.\u001b[39mgetBBox()\u001b[38;5;241m.\u001b[39mendX, img\u001b[38;5;241m.\u001b[39mgetBBox()\u001b[38;5;241m.\u001b[39mbeginY, img\u001b[38;5;241m.\u001b[39mgetBBox()\u001b[38;5;241m.\u001b[39mendY)\n\u001b[0;32m----> 5\u001b[0m \u001b[43mwas\u001b[49m\n\u001b[1;32m      6\u001b[0m fig \u001b[38;5;241m=\u001b[39m plt\u001b[38;5;241m.\u001b[39mfigure(figsize\u001b[38;5;241m=\u001b[39m(\u001b[38;5;241m8\u001b[39m, \u001b[38;5;241m8\u001b[39m))\n\u001b[1;32m      7\u001b[0m ax \u001b[38;5;241m=\u001b[39m fig\u001b[38;5;241m.\u001b[39madd_subplot(projection \u001b[38;5;241m=\u001b[39m wcs)\n",
      "\u001b[0;31mNameError\u001b[0m: name 'was' is not defined"
     ]
    }
   ],
   "source": [
    "img = new_image.template\n",
    "wcs = WCS(img.getWcs().getFitsMetadata())\n",
    "coord = SkyCoord(ra=target_ra * u.deg, dec=target_dec * u.deg, frame=\"icrs\")\n",
    "extent = (img.getBBox().beginX, img.getBBox().endX, img.getBBox().beginY, img.getBBox().endY)\n",
    "\n",
    "fig = plt.figure(figsize=(8, 8))\n",
    "ax = fig.add_subplot(projection = wcs)\n",
    "ax.imshow(img.image.array, vmin=.1, vmax=1, extent=extent, origin=\"lower\", cmap=\"gray\")\n",
    "SkyCircularAperture(coord, r=err_radius * u.deg).to_pixel(wcs).plot(color='r', lw=3, ax=ax)\n",
    "plt.show()"
   ]
  },
  {
   "cell_type": "markdown",
   "id": "0b5d51a4-080b-4594-a662-ec2303194137",
   "metadata": {},
   "source": [
    "## Multiple cutouts\n",
    "\n",
    "The time needed to get a single deep coadd cutout of a region with radius 0.1 deg, the quadratic dependence, and the memory limitations all make it unworthy to experiment with regions of the size expected by Fermi GBM localization. "
   ]
  },
  {
   "cell_type": "code",
   "execution_count": null,
   "id": "a8de4474-f6de-4c39-acba-9418dc3be515",
   "metadata": {},
   "outputs": [],
   "source": []
  }
 ],
 "metadata": {
  "kernelspec": {
   "display_name": "LSST",
   "language": "python",
   "name": "lsst"
  },
  "language_info": {
   "codemirror_mode": {
    "name": "ipython",
    "version": 3
   },
   "file_extension": ".py",
   "mimetype": "text/x-python",
   "name": "python",
   "nbconvert_exporter": "python",
   "pygments_lexer": "ipython3",
   "version": "3.12.9"
  }
 },
 "nbformat": 4,
 "nbformat_minor": 5
}
