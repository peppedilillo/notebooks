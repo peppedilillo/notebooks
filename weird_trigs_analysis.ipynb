{
 "cells": [
  {
   "cell_type": "code",
   "execution_count": 2,
   "id": "6414b11a",
   "metadata": {},
   "outputs": [],
   "source": [
    "import pandas as pd\n",
    "import matplotlib.pyplot as plt\n",
    "import numpy as np\n",
    "import seaborn as sns"
   ]
  },
  {
   "cell_type": "markdown",
   "id": "50e74318",
   "metadata": {},
   "source": [
    "# Weird triggers"
   ]
  },
  {
   "cell_type": "markdown",
   "id": "e269ac35",
   "metadata": {},
   "source": [
    "## Loading tables"
   ]
  },
  {
   "cell_type": "markdown",
   "id": "bbf2896d",
   "metadata": {},
   "source": [
    "We have one table with information about each weird trigger. "
   ]
  },
  {
   "cell_type": "code",
   "execution_count": 3,
   "id": "0031849d",
   "metadata": {},
   "outputs": [
    {
     "data": {
      "text/html": [
       "<div>\n",
       "<style scoped>\n",
       "    .dataframe tbody tr th:only-of-type {\n",
       "        vertical-align: middle;\n",
       "    }\n",
       "\n",
       "    .dataframe tbody tr th {\n",
       "        vertical-align: top;\n",
       "    }\n",
       "\n",
       "    .dataframe thead th {\n",
       "        text-align: right;\n",
       "    }\n",
       "</style>\n",
       "<table border=\"1\" class=\"dataframe\">\n",
       "  <thead>\n",
       "    <tr style=\"text-align: right;\">\n",
       "      <th></th>\n",
       "      <th>file_id</th>\n",
       "      <th>det_model</th>\n",
       "      <th>quadrant</th>\n",
       "      <th>source</th>\n",
       "      <th>index</th>\n",
       "      <th>ch_id</th>\n",
       "      <th>duration</th>\n",
       "    </tr>\n",
       "  </thead>\n",
       "  <tbody>\n",
       "    <tr>\n",
       "      <th>0</th>\n",
       "      <td>20220304_02</td>\n",
       "      <td>FM1</td>\n",
       "      <td>C</td>\n",
       "      <td>Fe55</td>\n",
       "      <td>303</td>\n",
       "      <td>19</td>\n",
       "      <td>3.532351</td>\n",
       "    </tr>\n",
       "    <tr>\n",
       "      <th>1</th>\n",
       "      <td>20220304_02</td>\n",
       "      <td>FM1</td>\n",
       "      <td>C</td>\n",
       "      <td>Fe55</td>\n",
       "      <td>3419</td>\n",
       "      <td>16</td>\n",
       "      <td>5.099878</td>\n",
       "    </tr>\n",
       "    <tr>\n",
       "      <th>2</th>\n",
       "      <td>20220304_02</td>\n",
       "      <td>FM1</td>\n",
       "      <td>C</td>\n",
       "      <td>Fe55</td>\n",
       "      <td>3951</td>\n",
       "      <td>22</td>\n",
       "      <td>5.097642</td>\n",
       "    </tr>\n",
       "    <tr>\n",
       "      <th>3</th>\n",
       "      <td>20220304_02</td>\n",
       "      <td>FM1</td>\n",
       "      <td>C</td>\n",
       "      <td>Fe55</td>\n",
       "      <td>9818</td>\n",
       "      <td>26</td>\n",
       "      <td>4.608000</td>\n",
       "    </tr>\n",
       "    <tr>\n",
       "      <th>4</th>\n",
       "      <td>20220304_02</td>\n",
       "      <td>FM1</td>\n",
       "      <td>C</td>\n",
       "      <td>Fe55</td>\n",
       "      <td>12365</td>\n",
       "      <td>28</td>\n",
       "      <td>4.603509</td>\n",
       "    </tr>\n",
       "    <tr>\n",
       "      <th>...</th>\n",
       "      <td>...</td>\n",
       "      <td>...</td>\n",
       "      <td>...</td>\n",
       "      <td>...</td>\n",
       "      <td>...</td>\n",
       "      <td>...</td>\n",
       "      <td>...</td>\n",
       "    </tr>\n",
       "    <tr>\n",
       "      <th>3557</th>\n",
       "      <td>20220308_06</td>\n",
       "      <td>PFM</td>\n",
       "      <td>C</td>\n",
       "      <td>Cs137</td>\n",
       "      <td>175581</td>\n",
       "      <td>14</td>\n",
       "      <td>4.089351</td>\n",
       "    </tr>\n",
       "    <tr>\n",
       "      <th>3558</th>\n",
       "      <td>20220308_06</td>\n",
       "      <td>PFM</td>\n",
       "      <td>C</td>\n",
       "      <td>Cs137</td>\n",
       "      <td>176745</td>\n",
       "      <td>0</td>\n",
       "      <td>4.605774</td>\n",
       "    </tr>\n",
       "    <tr>\n",
       "      <th>3559</th>\n",
       "      <td>20220308_06</td>\n",
       "      <td>PFM</td>\n",
       "      <td>C</td>\n",
       "      <td>Cs137</td>\n",
       "      <td>178530</td>\n",
       "      <td>11</td>\n",
       "      <td>4.596918</td>\n",
       "    </tr>\n",
       "    <tr>\n",
       "      <th>3560</th>\n",
       "      <td>20220308_06</td>\n",
       "      <td>PFM</td>\n",
       "      <td>C</td>\n",
       "      <td>Cs137</td>\n",
       "      <td>178590</td>\n",
       "      <td>21</td>\n",
       "      <td>2.542268</td>\n",
       "    </tr>\n",
       "    <tr>\n",
       "      <th>3561</th>\n",
       "      <td>20220308_06</td>\n",
       "      <td>PFM</td>\n",
       "      <td>C</td>\n",
       "      <td>Cs137</td>\n",
       "      <td>181799</td>\n",
       "      <td>7</td>\n",
       "      <td>3.579567</td>\n",
       "    </tr>\n",
       "  </tbody>\n",
       "</table>\n",
       "<p>3562 rows × 7 columns</p>\n",
       "</div>"
      ],
      "text/plain": [
       "          file_id det_model quadrant source   index  ch_id  duration\n",
       "0     20220304_02       FM1        C   Fe55     303     19  3.532351\n",
       "1     20220304_02       FM1        C   Fe55    3419     16  5.099878\n",
       "2     20220304_02       FM1        C   Fe55    3951     22  5.097642\n",
       "3     20220304_02       FM1        C   Fe55    9818     26  4.608000\n",
       "4     20220304_02       FM1        C   Fe55   12365     28  4.603509\n",
       "...           ...       ...      ...    ...     ...    ...       ...\n",
       "3557  20220308_06       PFM        C  Cs137  175581     14  4.089351\n",
       "3558  20220308_06       PFM        C  Cs137  176745      0  4.605774\n",
       "3559  20220308_06       PFM        C  Cs137  178530     11  4.596918\n",
       "3560  20220308_06       PFM        C  Cs137  178590     21  2.542268\n",
       "3561  20220308_06       PFM        C  Cs137  181799      7  3.579567\n",
       "\n",
       "[3562 rows x 7 columns]"
      ]
     },
     "execution_count": 3,
     "metadata": {},
     "output_type": "execute_result"
    }
   ],
   "source": [
    "weird_trigs = pd.read_csv(\"out/weird_trigs.csv\", delimiter = ','); weird_trigs"
   ]
  },
  {
   "cell_type": "markdown",
   "id": "673dd723",
   "metadata": {},
   "source": [
    "And one table reporting total acquisitions per datafile, as well as the total number of weird triggers."
   ]
  },
  {
   "cell_type": "code",
   "execution_count": 4,
   "id": "2e714465",
   "metadata": {},
   "outputs": [
    {
     "data": {
      "text/html": [
       "<div>\n",
       "<style scoped>\n",
       "    .dataframe tbody tr th:only-of-type {\n",
       "        vertical-align: middle;\n",
       "    }\n",
       "\n",
       "    .dataframe tbody tr th {\n",
       "        vertical-align: top;\n",
       "    }\n",
       "\n",
       "    .dataframe thead th {\n",
       "        text-align: right;\n",
       "    }\n",
       "</style>\n",
       "<table border=\"1\" class=\"dataframe\">\n",
       "  <thead>\n",
       "    <tr style=\"text-align: right;\">\n",
       "      <th></th>\n",
       "      <th>file_id</th>\n",
       "      <th>det_model</th>\n",
       "      <th>quadrant</th>\n",
       "      <th>source</th>\n",
       "      <th>tot_acq</th>\n",
       "      <th>weird_acq</th>\n",
       "    </tr>\n",
       "  </thead>\n",
       "  <tbody>\n",
       "    <tr>\n",
       "      <th>0</th>\n",
       "      <td>20220304_02</td>\n",
       "      <td>FM1</td>\n",
       "      <td>C</td>\n",
       "      <td>Fe55</td>\n",
       "      <td>181540</td>\n",
       "      <td>62</td>\n",
       "    </tr>\n",
       "    <tr>\n",
       "      <th>1</th>\n",
       "      <td>20220304_03</td>\n",
       "      <td>FM1</td>\n",
       "      <td>C</td>\n",
       "      <td>Fe55</td>\n",
       "      <td>192424</td>\n",
       "      <td>74</td>\n",
       "    </tr>\n",
       "    <tr>\n",
       "      <th>2</th>\n",
       "      <td>20220304_04</td>\n",
       "      <td>FM1</td>\n",
       "      <td>C</td>\n",
       "      <td>Cd109</td>\n",
       "      <td>225880</td>\n",
       "      <td>106</td>\n",
       "    </tr>\n",
       "    <tr>\n",
       "      <th>3</th>\n",
       "      <td>20220304_06</td>\n",
       "      <td>FM1</td>\n",
       "      <td>C</td>\n",
       "      <td>Cd109</td>\n",
       "      <td>211069</td>\n",
       "      <td>87</td>\n",
       "    </tr>\n",
       "    <tr>\n",
       "      <th>4</th>\n",
       "      <td>20220304_07</td>\n",
       "      <td>FM1</td>\n",
       "      <td>C</td>\n",
       "      <td>Cs137</td>\n",
       "      <td>169995</td>\n",
       "      <td>87</td>\n",
       "    </tr>\n",
       "    <tr>\n",
       "      <th>5</th>\n",
       "      <td>20220304_08</td>\n",
       "      <td>FM1</td>\n",
       "      <td>C</td>\n",
       "      <td>Cs137</td>\n",
       "      <td>170296</td>\n",
       "      <td>80</td>\n",
       "    </tr>\n",
       "    <tr>\n",
       "      <th>6</th>\n",
       "      <td>20220304_09</td>\n",
       "      <td>FM1</td>\n",
       "      <td>C</td>\n",
       "      <td>Cs137</td>\n",
       "      <td>173533</td>\n",
       "      <td>74</td>\n",
       "    </tr>\n",
       "    <tr>\n",
       "      <th>7</th>\n",
       "      <td>20220301_01</td>\n",
       "      <td>FM1</td>\n",
       "      <td>A</td>\n",
       "      <td>Fe55</td>\n",
       "      <td>294282</td>\n",
       "      <td>129</td>\n",
       "    </tr>\n",
       "    <tr>\n",
       "      <th>8</th>\n",
       "      <td>20220301_02</td>\n",
       "      <td>FM1</td>\n",
       "      <td>A</td>\n",
       "      <td>Fe55</td>\n",
       "      <td>293233</td>\n",
       "      <td>115</td>\n",
       "    </tr>\n",
       "    <tr>\n",
       "      <th>9</th>\n",
       "      <td>20220301_03</td>\n",
       "      <td>FM1</td>\n",
       "      <td>A</td>\n",
       "      <td>Cs137</td>\n",
       "      <td>235271</td>\n",
       "      <td>203</td>\n",
       "    </tr>\n",
       "    <tr>\n",
       "      <th>10</th>\n",
       "      <td>20220301_04</td>\n",
       "      <td>FM1</td>\n",
       "      <td>A</td>\n",
       "      <td>Cs137</td>\n",
       "      <td>309542</td>\n",
       "      <td>197</td>\n",
       "    </tr>\n",
       "    <tr>\n",
       "      <th>11</th>\n",
       "      <td>20220301_05</td>\n",
       "      <td>FM1</td>\n",
       "      <td>A</td>\n",
       "      <td>Cs137</td>\n",
       "      <td>294876</td>\n",
       "      <td>199</td>\n",
       "    </tr>\n",
       "    <tr>\n",
       "      <th>12</th>\n",
       "      <td>20220301_06</td>\n",
       "      <td>FM1</td>\n",
       "      <td>A</td>\n",
       "      <td>Cd109</td>\n",
       "      <td>206548</td>\n",
       "      <td>107</td>\n",
       "    </tr>\n",
       "    <tr>\n",
       "      <th>13</th>\n",
       "      <td>20220301_07</td>\n",
       "      <td>FM1</td>\n",
       "      <td>A</td>\n",
       "      <td>Cd109</td>\n",
       "      <td>302952</td>\n",
       "      <td>139</td>\n",
       "    </tr>\n",
       "    <tr>\n",
       "      <th>14</th>\n",
       "      <td>20220310_01</td>\n",
       "      <td>PFM</td>\n",
       "      <td>A</td>\n",
       "      <td>Fe55</td>\n",
       "      <td>234647</td>\n",
       "      <td>104</td>\n",
       "    </tr>\n",
       "    <tr>\n",
       "      <th>15</th>\n",
       "      <td>20220310_02</td>\n",
       "      <td>PFM</td>\n",
       "      <td>A</td>\n",
       "      <td>Fe55</td>\n",
       "      <td>234154</td>\n",
       "      <td>108</td>\n",
       "    </tr>\n",
       "    <tr>\n",
       "      <th>16</th>\n",
       "      <td>20220310_03</td>\n",
       "      <td>PFM</td>\n",
       "      <td>A</td>\n",
       "      <td>Cd109</td>\n",
       "      <td>303761</td>\n",
       "      <td>207</td>\n",
       "    </tr>\n",
       "    <tr>\n",
       "      <th>17</th>\n",
       "      <td>20220310_04</td>\n",
       "      <td>PFM</td>\n",
       "      <td>A</td>\n",
       "      <td>Cd109</td>\n",
       "      <td>288400</td>\n",
       "      <td>196</td>\n",
       "    </tr>\n",
       "    <tr>\n",
       "      <th>18</th>\n",
       "      <td>20220310_05</td>\n",
       "      <td>PFM</td>\n",
       "      <td>A</td>\n",
       "      <td>Cs137</td>\n",
       "      <td>184909</td>\n",
       "      <td>110</td>\n",
       "    </tr>\n",
       "    <tr>\n",
       "      <th>19</th>\n",
       "      <td>20220310_06</td>\n",
       "      <td>PFM</td>\n",
       "      <td>A</td>\n",
       "      <td>Cs137</td>\n",
       "      <td>184091</td>\n",
       "      <td>100</td>\n",
       "    </tr>\n",
       "    <tr>\n",
       "      <th>20</th>\n",
       "      <td>20220310_07</td>\n",
       "      <td>PFM</td>\n",
       "      <td>A</td>\n",
       "      <td>Cs137</td>\n",
       "      <td>184524</td>\n",
       "      <td>106</td>\n",
       "    </tr>\n",
       "    <tr>\n",
       "      <th>21</th>\n",
       "      <td>20220307_01</td>\n",
       "      <td>PFM</td>\n",
       "      <td>C</td>\n",
       "      <td>Fe55</td>\n",
       "      <td>233676</td>\n",
       "      <td>158</td>\n",
       "    </tr>\n",
       "    <tr>\n",
       "      <th>22</th>\n",
       "      <td>20220307_02</td>\n",
       "      <td>PFM</td>\n",
       "      <td>C</td>\n",
       "      <td>Fe55</td>\n",
       "      <td>246550</td>\n",
       "      <td>124</td>\n",
       "    </tr>\n",
       "    <tr>\n",
       "      <th>23</th>\n",
       "      <td>20220308_02</td>\n",
       "      <td>PFM</td>\n",
       "      <td>C</td>\n",
       "      <td>Cd109</td>\n",
       "      <td>260166</td>\n",
       "      <td>181</td>\n",
       "    </tr>\n",
       "    <tr>\n",
       "      <th>24</th>\n",
       "      <td>20220308_03</td>\n",
       "      <td>PFM</td>\n",
       "      <td>C</td>\n",
       "      <td>Cd109</td>\n",
       "      <td>250955</td>\n",
       "      <td>170</td>\n",
       "    </tr>\n",
       "    <tr>\n",
       "      <th>25</th>\n",
       "      <td>20220308_04</td>\n",
       "      <td>PFM</td>\n",
       "      <td>C</td>\n",
       "      <td>Cs137</td>\n",
       "      <td>169388</td>\n",
       "      <td>110</td>\n",
       "    </tr>\n",
       "    <tr>\n",
       "      <th>26</th>\n",
       "      <td>20220308_05</td>\n",
       "      <td>PFM</td>\n",
       "      <td>C</td>\n",
       "      <td>Cs137</td>\n",
       "      <td>185356</td>\n",
       "      <td>116</td>\n",
       "    </tr>\n",
       "    <tr>\n",
       "      <th>27</th>\n",
       "      <td>20220308_06</td>\n",
       "      <td>PFM</td>\n",
       "      <td>C</td>\n",
       "      <td>Cs137</td>\n",
       "      <td>182094</td>\n",
       "      <td>113</td>\n",
       "    </tr>\n",
       "  </tbody>\n",
       "</table>\n",
       "</div>"
      ],
      "text/plain": [
       "        file_id det_model quadrant source  tot_acq  weird_acq\n",
       "0   20220304_02       FM1        C   Fe55   181540         62\n",
       "1   20220304_03       FM1        C   Fe55   192424         74\n",
       "2   20220304_04       FM1        C  Cd109   225880        106\n",
       "3   20220304_06       FM1        C  Cd109   211069         87\n",
       "4   20220304_07       FM1        C  Cs137   169995         87\n",
       "5   20220304_08       FM1        C  Cs137   170296         80\n",
       "6   20220304_09       FM1        C  Cs137   173533         74\n",
       "7   20220301_01       FM1        A   Fe55   294282        129\n",
       "8   20220301_02       FM1        A   Fe55   293233        115\n",
       "9   20220301_03       FM1        A  Cs137   235271        203\n",
       "10  20220301_04       FM1        A  Cs137   309542        197\n",
       "11  20220301_05       FM1        A  Cs137   294876        199\n",
       "12  20220301_06       FM1        A  Cd109   206548        107\n",
       "13  20220301_07       FM1        A  Cd109   302952        139\n",
       "14  20220310_01       PFM        A   Fe55   234647        104\n",
       "15  20220310_02       PFM        A   Fe55   234154        108\n",
       "16  20220310_03       PFM        A  Cd109   303761        207\n",
       "17  20220310_04       PFM        A  Cd109   288400        196\n",
       "18  20220310_05       PFM        A  Cs137   184909        110\n",
       "19  20220310_06       PFM        A  Cs137   184091        100\n",
       "20  20220310_07       PFM        A  Cs137   184524        106\n",
       "21  20220307_01       PFM        C   Fe55   233676        158\n",
       "22  20220307_02       PFM        C   Fe55   246550        124\n",
       "23  20220308_02       PFM        C  Cd109   260166        181\n",
       "24  20220308_03       PFM        C  Cd109   250955        170\n",
       "25  20220308_04       PFM        C  Cs137   169388        110\n",
       "26  20220308_05       PFM        C  Cs137   185356        116\n",
       "27  20220308_06       PFM        C  Cs137   182094        113"
      ]
     },
     "execution_count": 4,
     "metadata": {},
     "output_type": "execute_result"
    }
   ],
   "source": [
    "obs = pd.read_csv(\"out/obs.csv\", delimiter = ','); obs"
   ]
  },
  {
   "cell_type": "markdown",
   "id": "fa253b9f",
   "metadata": {},
   "source": [
    "## Weird trigger counts\n",
    "\n",
    "We got weird triggers on all detectors (FM1, PFM)  with similar frequencies."
   ]
  },
  {
   "cell_type": "code",
   "execution_count": 44,
   "id": "2fb3b4f6",
   "metadata": {},
   "outputs": [
    {
     "name": "stdout",
     "output_type": "stream",
     "text": [
      "tot acquisition PFM : 3142671\n",
      "tot weird triggers PFM : 1903\n",
      "\tweird to total obs. frequency: 0.0006\n",
      "\n",
      "tot acquisition FM1 : 3261441\n",
      "tot weird triggers FM1 : 1659\n",
      "\tweird to total obs. frequency: 0.0005\n",
      "\n"
     ]
    }
   ],
   "source": [
    "for model in ['PFM', 'FM1']:\n",
    "    tot = np.sum(obs[obs['det_model'] == model]['tot_acq']); print(\"tot acquisition\", model, \": {}\".format(tot))\n",
    "    weird = np.sum(obs[obs['det_model'] == model]['weird_acq']); print(\"tot weird triggers\", model, \": {}\".format(weird))\n",
    "    print(\"\\tweird to total obs. frequency: {:.4f}\\n\".format(weird/tot))"
   ]
  },
  {
   "cell_type": "markdown",
   "id": "478baf02",
   "metadata": {},
   "source": [
    "Suppose these events being due to a follow-up photon reaching one of the $32$ detectors while mux is cycling over it.\n",
    "The probability of this event taking place is $P = P_a\\cdot P_b$, where:\n",
    "* $P_a$ is the probability of catching the follow-up photon in the mux window, i.e. the exponential cumulative distribution value at window length $P_a = 1 - e^{-\\lambda x}$ where $\\lambda \\sim 300$ s$^{-1}$ is the event rate and $x = 320$  $\\mu$s.\n",
    "* $P_b$ is $1/32$. "
   ]
  },
  {
   "cell_type": "code",
   "execution_count": 45,
   "id": "01686b1a",
   "metadata": {
    "scrolled": true
   },
   "outputs": [
    {
     "name": "stdout",
     "output_type": "stream",
     "text": [
      "expect 0.096 events per mux duration\n",
      "prob of follow-up photon = 0.0029\n"
     ]
    }
   ],
   "source": [
    "from scipy.stats import expon\n",
    "\n",
    "rate = 300 # events per second\n",
    "mux_dur = 320*10**-6; print('expect {:.3f} events per mux duration'.format(rate*mux_dur))\n",
    "prob = expon(scale = 1/rate).cdf(mux_dur)/32; print('prob of follow-up photon = {:.4f}'.format(prob))"
   ]
  },
  {
   "cell_type": "markdown",
   "id": "a5319387",
   "metadata": {},
   "source": [
    "The frequency of weird triggers we observed is 4-5 time smaller than the theoretical value.\n",
    "\n",
    "There are a few reason to expect a smaller observed frequency: \n",
    "1. we have a number of channel discriminators turned off; \n",
    "2. the event may happen over the same channel which trigger in first place, a case in which I suspect the follow-up photon would go undetected; \n",
    "3. finite pulse shaping time means that a 'late' follow-up photon could not reach peak and trigger even if mux is cycling over it; \n",
    "4. we may be missing weird triggers due to the particular (bad) technique we employ to select them. \n",
    "\n",
    "On the other hand we have some probability that more than two events are observed in a single mux bin but it should be safely negligible (scales with powers of $P_b$). \n"
   ]
  },
  {
   "cell_type": "markdown",
   "id": "2c7763d5",
   "metadata": {},
   "source": [
    "Some plots:"
   ]
  },
  {
   "cell_type": "code",
   "execution_count": 40,
   "id": "83bf211a",
   "metadata": {
    "scrolled": false
   },
   "outputs": [
    {
     "data": {
      "image/png": "[encoded data removed]",
      "text/plain": [
       "<Figure size 864x432 with 2 Axes>"
      ]
     },
     "metadata": {
      "needs_background": "light"
     },
     "output_type": "display_data"
    }
   ],
   "source": [
    "with sns.plotting_context(\"talk\"):\n",
    "    fig, ax = plt.subplots(1,2, figsize = (12,6))\n",
    "    sns.barplot(\n",
    "        data=obs,\n",
    "        x=\"quadrant\", y=\"weird_acq\", hue=\"det_model\",\n",
    "        ci=\"sd\",alpha=.6, ax = ax[0]\n",
    "    )\n",
    "    sns.barplot(\n",
    "        data=obs,\n",
    "        x=\"quadrant\", y=\"tot_acq\", hue=\"det_model\",\n",
    "        ci=\"sd\",alpha=.6, ax = ax[1]\n",
    "    )\n",
    "    plt.tight_layout()"
   ]
  },
  {
   "cell_type": "code",
   "execution_count": 41,
   "id": "bac22774",
   "metadata": {},
   "outputs": [
    {
     "data": {
      "image/png": "[encoded data removed]",
      "text/plain": [
       "<Figure size 864x432 with 2 Axes>"
      ]
     },
     "metadata": {
      "needs_background": "light"
     },
     "output_type": "display_data"
    }
   ],
   "source": [
    "with sns.plotting_context(\"talk\"):\n",
    "    fig, ax = plt.subplots(1,2, figsize = (12,6))\n",
    "    sns.barplot(\n",
    "        data=obs,\n",
    "        x=\"source\", y=\"weird_acq\", hue=\"det_model\",\n",
    "        ci=\"sd\",alpha=.6, ax = ax[0]\n",
    "    )\n",
    "    sns.barplot(\n",
    "        data=obs,\n",
    "        x=\"source\", y=\"tot_acq\", hue=\"det_model\",\n",
    "        ci=\"sd\",alpha=.6, ax = ax[1]\n",
    "    )\n",
    "    plt.tight_layout()"
   ]
  },
  {
   "cell_type": "markdown",
   "id": "140ac5df",
   "metadata": {},
   "source": [
    "## Duration\n",
    "\n",
    "Weird trigger duration was estimated integrating over the channel trig mux out, then dividing by the trigger mux out maximum. Durations are nearly gaussian distributed, with peak around 4 us. The fact that no weird trigger longer than 7 us is observed could be explained through the finite pulse shaping time? I suspect that somewhere in this plot (maybe the low-duration end) selection effects must be apparent."
   ]
  },
  {
   "cell_type": "code",
   "execution_count": 84,
   "id": "d95e8134",
   "metadata": {},
   "outputs": [
    {
     "data": {
      "image/png": "[encoded data removed]",
      "text/plain": [
       "<Figure size 792x504 with 1 Axes>"
      ]
     },
     "metadata": {
      "needs_background": "light"
     },
     "output_type": "display_data"
    }
   ],
   "source": [
    "with sns.plotting_context(\"talk\"):\n",
    "    plt.figure(figsize = (11,7))\n",
    "    sns.histplot(data = weird_trigs, x='duration', bins = np.arange(0.5,10,0.5), hue = 'det_model')\n",
    "    plt.xticks( np.arange(0,11))\n",
    "    plt.xlabel(\"Duration [us]\")"
   ]
  },
  {
   "cell_type": "markdown",
   "id": "c4115756",
   "metadata": {},
   "source": [
    "## Channel ID"
   ]
  },
  {
   "cell_type": "markdown",
   "id": "51ed0836",
   "metadata": {},
   "source": [
    "Across channels weird trigger distribution is (sort of) random. Holes match channels off discriminator patterns. PFM quadrant C had anomalous rate of weird triggers happening on ch28, which was noisy during acquisitions."
   ]
  },
  {
   "cell_type": "code",
   "execution_count": 97,
   "id": "c7bef67b",
   "metadata": {},
   "outputs": [
    {
     "data": {
      "image/png": "[encoded data removed]",
      "text/plain": [
       "<Figure size 720x720 with 4 Axes>"
      ]
     },
     "metadata": {
      "needs_background": "light"
     },
     "output_type": "display_data"
    }
   ],
   "source": [
    "with sns.plotting_context(\"talk\"):\n",
    "    g = sns.FacetGrid(weird_trigs, col=\"quadrant\", row = 'det_model', height = 5)\n",
    "    g.map(sns.histplot, \"ch_id\",  bins = np.arange(-0.5,32.5))\n",
    "    plt.show()"
   ]
  },
  {
   "cell_type": "code",
   "execution_count": null,
   "id": "8e88dfaf",
   "metadata": {},
   "outputs": [],
   "source": []
  }
 ],
 "metadata": {
  "kernelspec": {
   "display_name": "Python 3",
   "language": "python",
   "name": "python3"
  },
  "language_info": {
   "codemirror_mode": {
    "name": "ipython",
    "version": 3
   },
   "file_extension": ".py",
   "mimetype": "text/x-python",
   "name": "python",
   "nbconvert_exporter": "python",
   "pygments_lexer": "ipython3",
   "version": "3.7.9"
  }
 },
 "nbformat": 4,
 "nbformat_minor": 5
}
